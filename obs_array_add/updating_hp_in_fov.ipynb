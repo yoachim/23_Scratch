{
 "cells": [
  {
   "cell_type": "code",
   "execution_count": 5,
   "id": "0007e0aa",
   "metadata": {},
   "outputs": [],
   "source": [
    "import os\n",
    "import sqlite3\n",
    "import datetime\n",
    "import socket\n",
    "import numpy as np\n",
    "import healpy as hp\n",
    "import pandas as pd\n",
    "import matplotlib.path as mplPath\n",
    "from rubin_sim.utils import (\n",
    "    _hpid2_ra_dec,\n",
    "    xyz_angular_radius,\n",
    "    _build_tree,\n",
    "    _xyz_from_ra_dec,\n",
    ")\n",
    "from rubin_sim.scheduler.utils import hp_kd_tree"
   ]
  },
  {
   "cell_type": "code",
   "execution_count": null,
   "id": "a1102fd1",
   "metadata": {},
   "outputs": [],
   "source": []
  },
  {
   "cell_type": "code",
   "execution_count": 51,
   "id": "0c94a66a",
   "metadata": {},
   "outputs": [],
   "source": [
    "class HpInLsstFov(object):\n",
    "    \"\"\"\n",
    "    Return the healpixels within a pointing. A very simple LSST camera model with\n",
    "    no chip/raft gaps.\n",
    "    \"\"\"\n",
    "\n",
    "    def __init__(self, nside=None, fov_radius=1.75, scale=1e5):\n",
    "        \"\"\"\n",
    "        Parameters\n",
    "        ----------\n",
    "        fov_radius : float (1.75)\n",
    "            Radius of the filed of view in degrees\n",
    "        scale : float (1e5)\n",
    "            How many sig figs to round off to. Useful for ensuring identical results\n",
    "            cross-ploatform where float precision can vary.\n",
    "        \"\"\"\n",
    "        if nside is None:\n",
    "            nside = set_default_nside()\n",
    "\n",
    "        self.tree = hp_kd_tree(nside=nside, scale=scale)\n",
    "        self.radius = np.round(xyz_angular_radius(fov_radius) * scale).astype(int)\n",
    "        self.scale = scale\n",
    "\n",
    "    def __call__(self, ra, dec, **kwargs):\n",
    "        \"\"\"\n",
    "        Parameters\n",
    "        ----------\n",
    "        ra : float\n",
    "            RA in radians\n",
    "        dec : float\n",
    "            Dec in radians\n",
    "\n",
    "        Returns\n",
    "        -------\n",
    "        indx : numpy array\n",
    "            The healpixels that are within the FoV\n",
    "        \"\"\"\n",
    "\n",
    "        x, y, z = _xyz_from_ra_dec(ra, dec)\n",
    "        x = np.round(x * self.scale).astype(int)\n",
    "        y = np.round(y * self.scale).astype(int)\n",
    "        z = np.round(z * self.scale).astype(int)\n",
    "        \n",
    "        if np.size(x) == 1:\n",
    "            indices = self.tree.query_ball_point((np.max(x), np.max(y), np.max(z)), self.radius)\n",
    "        else:\n",
    "            indices = self.tree.query_ball_point(list(zip(x, y, z)), self.radius)\n",
    "        return indices\n"
   ]
  },
  {
   "cell_type": "code",
   "execution_count": 52,
   "id": "3a3882aa",
   "metadata": {},
   "outputs": [],
   "source": [
    "ack = HpInLsstFov(nside=32)"
   ]
  },
  {
   "cell_type": "code",
   "execution_count": 53,
   "id": "5ca9b1b8",
   "metadata": {},
   "outputs": [
    {
     "name": "stdout",
     "output_type": "stream",
     "text": [
      "[list([8128, 8255, 8256]) list([6976, 7104, 7231, 7232])]\n"
     ]
    }
   ],
   "source": [
    "print(ack([0.,0], [np.radians(-20), np.radians(-10)]))"
   ]
  },
  {
   "cell_type": "code",
   "execution_count": 54,
   "id": "085c5a3d",
   "metadata": {},
   "outputs": [
    {
     "name": "stdout",
     "output_type": "stream",
     "text": [
      "[6207, 6208, 6080, 5952]\n"
     ]
    }
   ],
   "source": [
    "print(ack([0.], [0.]))"
   ]
  },
  {
   "cell_type": "code",
   "execution_count": 55,
   "id": "326c02b8",
   "metadata": {},
   "outputs": [
    {
     "data": {
      "text/plain": [
       "[6207, 6208, 6080, 5952]"
      ]
     },
     "execution_count": 55,
     "metadata": {},
     "output_type": "execute_result"
    }
   ],
   "source": [
    "ack([0.], [0.])"
   ]
  },
  {
   "cell_type": "code",
   "execution_count": 56,
   "id": "30a02896",
   "metadata": {},
   "outputs": [
    {
     "data": {
      "text/plain": [
       "[6207, 6208, 6080, 5952]"
      ]
     },
     "execution_count": 56,
     "metadata": {},
     "output_type": "execute_result"
    }
   ],
   "source": [
    "ack(0., 0.)"
   ]
  },
  {
   "cell_type": "code",
   "execution_count": null,
   "id": "2b305b03",
   "metadata": {},
   "outputs": [],
   "source": []
  }
 ],
 "metadata": {
  "kernelspec": {
   "display_name": "Python 3 (ipykernel)",
   "language": "python",
   "name": "python3"
  },
  "language_info": {
   "codemirror_mode": {
    "name": "ipython",
    "version": 3
   },
   "file_extension": ".py",
   "mimetype": "text/x-python",
   "name": "python",
   "nbconvert_exporter": "python",
   "pygments_lexer": "ipython3",
   "version": "3.11.0"
  }
 },
 "nbformat": 4,
 "nbformat_minor": 5
}
