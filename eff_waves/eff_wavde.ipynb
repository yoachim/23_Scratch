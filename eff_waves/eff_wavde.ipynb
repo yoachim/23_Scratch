{
 "cells": [
  {
   "cell_type": "code",
   "execution_count": 1,
   "id": "6759c9c5",
   "metadata": {},
   "outputs": [],
   "source": [
    "from rubin_sim.phot_utils import Bandpass\n",
    "from rubin_sim.data import get_data_dir\n",
    "\n",
    "import os"
   ]
  },
  {
   "cell_type": "code",
   "execution_count": 2,
   "id": "4e2a1334",
   "metadata": {},
   "outputs": [],
   "source": [
    "filter_list=[\"u\", \"g\", \"r\", \"i\", \"z\", \"y\"]"
   ]
  },
  {
   "cell_type": "code",
   "execution_count": 3,
   "id": "6587876a",
   "metadata": {},
   "outputs": [],
   "source": [
    "fdir = os.path.join(get_data_dir(), \"throughputs/baseline\")\n",
    "eff_wavelens = []\n",
    "for f in filter_list:\n",
    "    bp = Bandpass()\n",
    "    bp.read_throughput(os.path.join(fdir, \"total_\" + f + \".dat\"))\n",
    "    eff_wavelens.append(bp.calc_eff_wavelen()[1])"
   ]
  },
  {
   "cell_type": "code",
   "execution_count": 4,
   "id": "807d7122",
   "metadata": {},
   "outputs": [
    {
     "data": {
      "text/plain": [
       "[372.3545968250837,\n",
       " 480.6879536290715,\n",
       " 622.1467817446644,\n",
       " 755.8986753357942,\n",
       " 867.9651748241748,\n",
       " 975.3435479917339]"
      ]
     },
     "execution_count": 4,
     "metadata": {},
     "output_type": "execute_result"
    }
   ],
   "source": [
    "eff_wavelens"
   ]
  },
  {
   "cell_type": "code",
   "execution_count": null,
   "id": "5d60caba",
   "metadata": {},
   "outputs": [],
   "source": []
  }
 ],
 "metadata": {
  "kernelspec": {
   "display_name": "Python 3 (ipykernel)",
   "language": "python",
   "name": "python3"
  },
  "language_info": {
   "codemirror_mode": {
    "name": "ipython",
    "version": 3
   },
   "file_extension": ".py",
   "mimetype": "text/x-python",
   "name": "python",
   "nbconvert_exporter": "python",
   "pygments_lexer": "ipython3",
   "version": "3.11.5"
  }
 },
 "nbformat": 4,
 "nbformat_minor": 5
}
