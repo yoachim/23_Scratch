{
 "cells": [
  {
   "cell_type": "code",
   "execution_count": 1,
   "id": "a16c61c0",
   "metadata": {},
   "outputs": [],
   "source": [
    "import numpy as np\n",
    "from rubin_sim.maf import SnrWeightedMetric"
   ]
  },
  {
   "cell_type": "code",
   "execution_count": 2,
   "id": "fcb57ddf",
   "metadata": {},
   "outputs": [],
   "source": [
    "names = [\"fiveSigmaDepth\", \"seeing\"]\n",
    "types = [float, float]\n",
    "\n",
    "dataslice = np.zeros(10, dtype=list(zip(names,types)))"
   ]
  },
  {
   "cell_type": "code",
   "execution_count": 3,
   "id": "04589fd5",
   "metadata": {},
   "outputs": [],
   "source": [
    "dataslice[\"fiveSigmaDepth\"] += 5.\n",
    "dataslice[\"seeing\"] = np.arange(10)"
   ]
  },
  {
   "cell_type": "code",
   "execution_count": 4,
   "id": "3b649541",
   "metadata": {},
   "outputs": [],
   "source": [
    "met = SnrWeightedMetric(\"seeing\")"
   ]
  },
  {
   "cell_type": "code",
   "execution_count": 5,
   "id": "6229edcb",
   "metadata": {},
   "outputs": [
    {
     "data": {
      "text/plain": [
       "4.5"
      ]
     },
     "execution_count": 5,
     "metadata": {},
     "output_type": "execute_result"
    }
   ],
   "source": [
    "met.run(dataslice)"
   ]
  },
  {
   "cell_type": "code",
   "execution_count": 6,
   "id": "724cb82f",
   "metadata": {},
   "outputs": [],
   "source": [
    "met.star_mag=10\n"
   ]
  },
  {
   "cell_type": "code",
   "execution_count": 7,
   "id": "00f91933",
   "metadata": {},
   "outputs": [
    {
     "data": {
      "text/plain": [
       "4.500000000000001"
      ]
     },
     "execution_count": 7,
     "metadata": {},
     "output_type": "execute_result"
    }
   ],
   "source": [
    "met.run(dataslice)"
   ]
  },
  {
   "cell_type": "code",
   "execution_count": 11,
   "id": "5ed51337",
   "metadata": {},
   "outputs": [],
   "source": [
    "met.star_mag=100\n"
   ]
  },
  {
   "cell_type": "code",
   "execution_count": 12,
   "id": "8b1ef268",
   "metadata": {},
   "outputs": [
    {
     "data": {
      "text/plain": [
       "4.5"
      ]
     },
     "execution_count": 12,
     "metadata": {},
     "output_type": "execute_result"
    }
   ],
   "source": [
    "met.run(dataslice)"
   ]
  },
  {
   "cell_type": "code",
   "execution_count": 13,
   "id": "9afbbd1c",
   "metadata": {},
   "outputs": [],
   "source": [
    "met.star_mag=1\n"
   ]
  },
  {
   "cell_type": "code",
   "execution_count": 14,
   "id": "7b713d4c",
   "metadata": {},
   "outputs": [
    {
     "data": {
      "text/plain": [
       "4.5"
      ]
     },
     "execution_count": 14,
     "metadata": {},
     "output_type": "execute_result"
    }
   ],
   "source": [
    "met.run(dataslice)"
   ]
  },
  {
   "cell_type": "code",
   "execution_count": null,
   "id": "bae7e993",
   "metadata": {},
   "outputs": [],
   "source": []
  }
 ],
 "metadata": {
  "kernelspec": {
   "display_name": "Python 3 (ipykernel)",
   "language": "python",
   "name": "python3"
  },
  "language_info": {
   "codemirror_mode": {
    "name": "ipython",
    "version": 3
   },
   "file_extension": ".py",
   "mimetype": "text/x-python",
   "name": "python",
   "nbconvert_exporter": "python",
   "pygments_lexer": "ipython3",
   "version": "3.11.0"
  }
 },
 "nbformat": 4,
 "nbformat_minor": 5
}
