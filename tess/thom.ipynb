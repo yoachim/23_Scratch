{
 "cells": [
  {
   "cell_type": "code",
   "execution_count": 16,
   "id": "53c9e35c",
   "metadata": {},
   "outputs": [],
   "source": [
    "import numpy as np\n",
    "import matplotlib.pylab as plt\n",
    "%matplotlib inline\n",
    "import healpy as hp\n",
    "from rubin_sim.scheduler.features import  NObservations\n",
    "from rubin_sim.scheduler.utils import HpInLsstFov, read_fields\n",
    "from rubin_sim.scheduler.thomson import even_points_xyz, ang_potential\n",
    "from rubin_sim.utils import ra_dec_from_xyz\n"
   ]
  },
  {
   "cell_type": "code",
   "execution_count": 17,
   "id": "163c3858",
   "metadata": {},
   "outputs": [
    {
     "name": "stdout",
     "output_type": "stream",
     "text": [
      "initial potential= 155.06550103837003\n",
      "final potential= 150.88156833386915\n",
      "niteration= 41\n"
     ]
    }
   ],
   "source": [
    "x = even_points_xyz(20)"
   ]
  },
  {
   "cell_type": "code",
   "execution_count": null,
   "id": "eee82157",
   "metadata": {},
   "outputs": [],
   "source": []
  },
  {
   "cell_type": "code",
   "execution_count": 14,
   "id": "905d93b3",
   "metadata": {},
   "outputs": [],
   "source": []
  },
  {
   "cell_type": "code",
   "execution_count": null,
   "id": "582c7e5b",
   "metadata": {},
   "outputs": [],
   "source": []
  },
  {
   "cell_type": "code",
   "execution_count": null,
   "id": "8428b723",
   "metadata": {},
   "outputs": [],
   "source": []
  }
 ],
 "metadata": {
  "kernelspec": {
   "display_name": "Python 3 (ipykernel)",
   "language": "python",
   "name": "python3"
  },
  "language_info": {
   "codemirror_mode": {
    "name": "ipython",
    "version": 3
   },
   "file_extension": ".py",
   "mimetype": "text/x-python",
   "name": "python",
   "nbconvert_exporter": "python",
   "pygments_lexer": "ipython3",
   "version": "3.11.0"
  }
 },
 "nbformat": 4,
 "nbformat_minor": 5
}
