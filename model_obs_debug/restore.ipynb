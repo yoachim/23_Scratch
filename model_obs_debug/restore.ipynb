{
 "cells": [
  {
   "cell_type": "code",
   "execution_count": 1,
   "id": "866a3464",
   "metadata": {},
   "outputs": [],
   "source": [
    "import os\n",
    "from rubin_sim.data import get_data_dir\n",
    "from rubin_sim.scheduler.utils import season_calc\n",
    "from rubin_sim.scheduler.model_observatory import ModelObservatory\n",
    "from rubin_sim.scheduler.utils import run_info_table, restore_scheduler\n",
    "from rubin_sim.scheduler.example import example_scheduler\n",
    "from rubin_sim.scheduler import sim_runner\n",
    "import numpy as np\n",
    "\n",
    "import healpy as hp\n",
    "import matplotlib.pylab as plt\n",
    "%matplotlib inline"
   ]
  },
  {
   "cell_type": "code",
   "execution_count": 2,
   "id": "e355a86a",
   "metadata": {},
   "outputs": [
    {
     "name": "stdout",
     "output_type": "stream",
     "text": [
      "Optimizing ELAISS1\n",
      "Optimizing XMM_LSS\n",
      "Optimizing ECDFS\n",
      "Optimizing COSMOS\n",
      "Optimizing EDFS_a\n"
     ]
    },
    {
     "name": "stderr",
     "output_type": "stream",
     "text": [
      "/Users/yoachim/git_repos/rubin_sim/rubin_sim/scheduler/utils/utils.py:73: RuntimeWarning: invalid value encountered in cast\n",
      "  self.value = np.round(inval * scale).astype(int)\n",
      "/Users/yoachim/git_repos/rubin_sim/rubin_sim/skybrightness_pre/sky_model_pre.py:272: UserWarning: Requested MJD between sunrise and sunset, returning closest maps\n",
      "  warnings.warn(\n"
     ]
    },
    {
     "name": "stdout",
     "output_type": "stream",
     "text": [
      "Skipped 0 observations\n",
      "Flushed 184 observations from queue for being stale\n",
      "Completed 3000 observations\n",
      "ran in 0 min = 0.0 hours\n",
      "Optimizing ELAISS1\n",
      "Optimizing XMM_LSS\n",
      "Optimizing ECDFS\n",
      "Optimizing COSMOS\n",
      "Optimizing EDFS_a\n"
     ]
    }
   ],
   "source": [
    "mjd_start = 60110.0\n",
    "n_visit_limit = 3000\n",
    "\n",
    "scheduler = example_scheduler(mjd_start=mjd_start)\n",
    "\n",
    "mo = ModelObservatory(mjd_start=mjd_start)\n",
    "mo, scheduler, observations = sim_runner(\n",
    "    mo,\n",
    "    scheduler,\n",
    "    survey_length=30.0,\n",
    "    verbose=False,\n",
    "    filename=None,\n",
    "    n_visit_limit=n_visit_limit,\n",
    ")\n",
    "\n",
    "# Won't be exact if we restart in the middle of a blob sequence since the\n",
    "# queue isn't reconstructed. Also, any scripted observations that get generated\n",
    "# during the night (e.g., long gaps observations) will get lost,\n",
    "# so need to restart on a new night to ensure identical results.\n",
    "\n",
    "nd = np.zeros(observations.size)\n",
    "nd[1:] = np.diff(observations[\"night\"])\n",
    "\n",
    "break_indx = np.min(\n",
    "    np.where((observations[\"ID\"] >= n_visit_limit / 2.0) & (nd != 0))[0]\n",
    ")\n",
    "new_n_limit = n_visit_limit - break_indx\n",
    "\n",
    "new_mo = ModelObservatory(mjd_start=mjd_start)\n",
    "new_sched = example_scheduler(mjd_start=mjd_start)\n",
    "\n",
    "# Restore some of the observations\n",
    "new_sched, new_mo = restore_scheduler(\n",
    "    break_indx - 1, new_sched, new_mo, observations, fast=False\n",
    ")"
   ]
  },
  {
   "cell_type": "code",
   "execution_count": null,
   "id": "e00b1fd6",
   "metadata": {},
   "outputs": [],
   "source": []
  },
  {
   "cell_type": "code",
   "execution_count": 3,
   "id": "24b72643",
   "metadata": {},
   "outputs": [
    {
     "name": "stdout",
     "output_type": "stream",
     "text": [
      "Optimizing ELAISS1\n",
      "Optimizing XMM_LSS\n",
      "Optimizing ECDFS\n",
      "Optimizing COSMOS\n",
      "Optimizing EDFS_a\n"
     ]
    },
    {
     "name": "stderr",
     "output_type": "stream",
     "text": [
      "/Users/yoachim/git_repos/rubin_sim/rubin_sim/scheduler/utils/utils.py:73: RuntimeWarning: invalid value encountered in cast\n",
      "  self.value = np.round(inval * scale).astype(int)\n"
     ]
    },
    {
     "name": "stdout",
     "output_type": "stream",
     "text": [
      "Skipped 0 observations\n",
      "Flushed 95 observations from queue for being stale\n",
      "Completed 1635 observations\n",
      "ran in 0 min = 0.0 hours\n"
     ]
    }
   ],
   "source": [
    "scheduler = example_scheduler(mjd_start=mjd_start)\n",
    "\n",
    "mo = ModelObservatory(mjd_start=mjd_start)\n",
    "mo, scheduler, observations_small = sim_runner(\n",
    "    mo,\n",
    "    scheduler,\n",
    "    survey_length=30.0,\n",
    "    verbose=False,\n",
    "    filename=None,\n",
    "    n_visit_limit=break_indx,\n",
    ")"
   ]
  },
  {
   "cell_type": "code",
   "execution_count": 4,
   "id": "3a5a5a11",
   "metadata": {},
   "outputs": [
    {
     "data": {
      "text/plain": [
       "1635"
      ]
     },
     "execution_count": 4,
     "metadata": {},
     "output_type": "execute_result"
    }
   ],
   "source": [
    "observations_small.size"
   ]
  },
  {
   "cell_type": "code",
   "execution_count": 5,
   "id": "c8fe2ec5",
   "metadata": {},
   "outputs": [
    {
     "name": "stderr",
     "output_type": "stream",
     "text": [
      "/Users/yoachim/git_repos/rubin_sim/rubin_sim/skybrightness_pre/sky_model_pre.py:272: UserWarning: Requested MJD between sunrise and sunset, returning closest maps\n",
      "  warnings.warn(\n"
     ]
    }
   ],
   "source": [
    "c1 = mo.return_conditions()"
   ]
  },
  {
   "cell_type": "code",
   "execution_count": 6,
   "id": "359b9bf4",
   "metadata": {},
   "outputs": [
    {
     "name": "stdout",
     "output_type": "stream",
     "text": [
      "<Conditions mjd_start='60110.0' at 0x2a4e3fd50>\n"
     ]
    }
   ],
   "source": [
    "print(c1)"
   ]
  },
  {
   "cell_type": "code",
   "execution_count": 7,
   "id": "d4073d00",
   "metadata": {},
   "outputs": [
    {
     "name": "stderr",
     "output_type": "stream",
     "text": [
      "/Users/yoachim/git_repos/rubin_sim/rubin_sim/skybrightness_pre/sky_model_pre.py:272: UserWarning: Requested MJD between sunrise and sunset, returning closest maps\n",
      "  warnings.warn(\n"
     ]
    }
   ],
   "source": [
    "c2 = new_mo.return_conditions()"
   ]
  },
  {
   "cell_type": "code",
   "execution_count": 8,
   "id": "c9050667",
   "metadata": {},
   "outputs": [
    {
     "name": "stdout",
     "output_type": "stream",
     "text": [
      "<Conditions mjd_start='60110.0' at 0x2a4eb6c90>\n"
     ]
    }
   ],
   "source": [
    "print(c2)"
   ]
  },
  {
   "cell_type": "code",
   "execution_count": 9,
   "id": "7bc0856a",
   "metadata": {},
   "outputs": [
    {
     "data": {
      "text/plain": [
       "60111.44465472089"
      ]
     },
     "execution_count": 9,
     "metadata": {},
     "output_type": "execute_result"
    }
   ],
   "source": [
    "c2.mjd"
   ]
  },
  {
   "cell_type": "code",
   "execution_count": 10,
   "id": "bb198ecd",
   "metadata": {},
   "outputs": [
    {
     "data": {
      "text/plain": [
       "array([60111.44465472])"
      ]
     },
     "execution_count": 10,
     "metadata": {},
     "output_type": "execute_result"
    }
   ],
   "source": [
    "c1.mjd"
   ]
  },
  {
   "cell_type": "code",
   "execution_count": 11,
   "id": "955c2af5",
   "metadata": {},
   "outputs": [
    {
     "data": {
      "text/plain": [
       "True"
      ]
     },
     "execution_count": 11,
     "metadata": {},
     "output_type": "execute_result"
    }
   ],
   "source": [
    "new_mo.observatory.parked"
   ]
  },
  {
   "cell_type": "code",
   "execution_count": 12,
   "id": "8f19b6f9",
   "metadata": {},
   "outputs": [
    {
     "data": {
      "text/plain": [
       "False"
      ]
     },
     "execution_count": 12,
     "metadata": {},
     "output_type": "execute_result"
    }
   ],
   "source": [
    "mo.observatory.parked"
   ]
  },
  {
   "cell_type": "code",
   "execution_count": 13,
   "id": "09128af8",
   "metadata": {},
   "outputs": [
    {
     "data": {
      "text/plain": [
       "1"
      ]
     },
     "execution_count": 13,
     "metadata": {},
     "output_type": "execute_result"
    }
   ],
   "source": [
    "observations[break_indx-1]['night']"
   ]
  },
  {
   "cell_type": "code",
   "execution_count": 14,
   "id": "0bc4000a",
   "metadata": {},
   "outputs": [
    {
     "data": {
      "text/plain": [
       "-12.2101363643469"
      ]
     },
     "execution_count": 14,
     "metadata": {},
     "output_type": "execute_result"
    }
   ],
   "source": [
    "np.degrees(c1.sun_alt)"
   ]
  },
  {
   "cell_type": "code",
   "execution_count": 15,
   "id": "32fe301d",
   "metadata": {},
   "outputs": [
    {
     "data": {
      "text/plain": [
       "-0.21310708167534337"
      ]
     },
     "execution_count": 15,
     "metadata": {},
     "output_type": "execute_result"
    }
   ],
   "source": [
    "c2.sun_alt"
   ]
  },
  {
   "cell_type": "code",
   "execution_count": 26,
   "id": "e69fb398",
   "metadata": {},
   "outputs": [
    {
     "name": "stdout",
     "output_type": "stream",
     "text": [
      "<rubin_sim.scheduler.basis_functions.basis_functions.VisitRepeatBasisFunction object at 0x17eda8190> <rubin_sim.scheduler.features.features.LastObserved object at 0x17eda8410>\n"
     ]
    }
   ],
   "source": [
    "for bf1, bf2 in zip(scheduler.survey_lists[3][0].basis_functions, new_sched.survey_lists[3][0].basis_functions):\n",
    "    for f1,f2 in zip(bf1.survey_features, bf2.survey_features):\n",
    "        if not np.all(bf1.survey_features[f1]() == bf2.survey_features[f2]()):\n",
    "            print(bf1, bf1.survey_features[f1])\n",
    "            v1 = bf1.survey_features[f1]()\n",
    "            v2 = bf2.survey_features[f2]()"
   ]
  },
  {
   "cell_type": "code",
   "execution_count": 29,
   "id": "ac38a304",
   "metadata": {},
   "outputs": [
    {
     "data": {
      "text/plain": [
       "(array([           nan,            nan,            nan, ...,\n",
       "        60111.42151778, 60111.42151778, 60111.42747769]),\n",
       " array([           nan,            nan,            nan, ...,\n",
       "        60111.42151778, 60111.42151778, 60111.42747769]))"
      ]
     },
     "execution_count": 29,
     "metadata": {},
     "output_type": "execute_result"
    }
   ],
   "source": [
    "v1, v2"
   ]
  },
  {
   "cell_type": "code",
   "execution_count": 59,
   "id": "3375bec1",
   "metadata": {},
   "outputs": [],
   "source": [
    "bf1 = scheduler.survey_lists[3][0]\n",
    "bf2 = new_sched.survey_lists[3][0]"
   ]
  },
  {
   "cell_type": "code",
   "execution_count": 60,
   "id": "fc10115f",
   "metadata": {},
   "outputs": [
    {
     "data": {
      "image/png": "[encoded data removed]",
      "text/plain": [
       "<Figure size 850x540 with 2 Axes>"
      ]
     },
     "metadata": {},
     "output_type": "display_data"
    }
   ],
   "source": [
    "hp.mollview(bf1.basis_functions[6].survey_features['Last_observed']())"
   ]
  },
  {
   "cell_type": "code",
   "execution_count": 61,
   "id": "de81f832",
   "metadata": {},
   "outputs": [
    {
     "data": {
      "image/png": "[encoded data removed]",
      "text/plain": [
       "<Figure size 850x540 with 2 Axes>"
      ]
     },
     "metadata": {},
     "output_type": "display_data"
    }
   ],
   "source": [
    "hp.mollview(bf2.basis_functions[6].survey_features['Last_observed']())"
   ]
  },
  {
   "cell_type": "code",
   "execution_count": 62,
   "id": "6f59f849",
   "metadata": {},
   "outputs": [],
   "source": [
    "m1 = bf1.basis_functions[6].survey_features['Last_observed']()\n",
    "m2 = bf2.basis_functions[6].survey_features['Last_observed']()"
   ]
  },
  {
   "cell_type": "code",
   "execution_count": null,
   "id": "ee399f03",
   "metadata": {},
   "outputs": [],
   "source": [
    "# OK, looks like all the features in the scheduler match up (at least the ones hanging off basis functions)\n",
    "# so, must be something in the model observatory or burried in the kinematic model that is different."
   ]
  },
  {
   "cell_type": "code",
   "execution_count": 38,
   "id": "83cfaebc",
   "metadata": {},
   "outputs": [
    {
     "name": "stderr",
     "output_type": "stream",
     "text": [
      "/Users/yoachim/git_repos/rubin_sim/rubin_sim/skybrightness_pre/sky_model_pre.py:272: UserWarning: Requested MJD between sunrise and sunset, returning closest maps\n",
      "  warnings.warn(\n",
      "/Users/yoachim/git_repos/rubin_sim/rubin_sim/scheduler/utils/utils.py:73: RuntimeWarning: invalid value encountered in cast\n",
      "  self.value = np.round(inval * scale).astype(int)\n"
     ]
    }
   ],
   "source": [
    "# let's try getting an observation and executing it from the scheduler\n",
    "cond = mo.return_conditions()\n",
    "obs = scheduler.request_observation(cond.mjd)"
   ]
  },
  {
   "cell_type": "code",
   "execution_count": 40,
   "id": "87a1ee8d",
   "metadata": {},
   "outputs": [],
   "source": [
    "result = mo.observe(obs)"
   ]
  },
  {
   "cell_type": "code",
   "execution_count": 41,
   "id": "14d7cbf3",
   "metadata": {},
   "outputs": [
    {
     "name": "stdout",
     "output_type": "stream",
     "text": [
      "(None, True)\n"
     ]
    }
   ],
   "source": [
    "print(result)"
   ]
  },
  {
   "cell_type": "code",
   "execution_count": 51,
   "id": "83241a64",
   "metadata": {},
   "outputs": [],
   "source": [
    "orig_cond = mo.return_conditions()"
   ]
  },
  {
   "cell_type": "code",
   "execution_count": 54,
   "id": "aa0fa7d8",
   "metadata": {},
   "outputs": [
    {
     "name": "stderr",
     "output_type": "stream",
     "text": [
      "/Users/yoachim/git_repos/rubin_sim/rubin_sim/skybrightness_pre/sky_model_pre.py:272: UserWarning: Requested MJD between sunrise and sunset, returning closest maps\n",
      "  warnings.warn(\n",
      "/Users/yoachim/git_repos/rubin_sim/rubin_sim/scheduler/utils/utils.py:73: RuntimeWarning: invalid value encountered in cast\n",
      "  self.value = np.round(inval * scale).astype(int)\n"
     ]
    }
   ],
   "source": [
    "new_cond = new_mo.return_conditions()\n",
    "new_sched.update_conditions(new_cond)\n",
    "obs = new_sched.request_observation(new_cond.mjd)\n",
    "\n",
    "result = new_mo.observe(obs)"
   ]
  },
  {
   "cell_type": "code",
   "execution_count": 55,
   "id": "afb036cf",
   "metadata": {},
   "outputs": [
    {
     "data": {
      "text/plain": [
       "(None, True)"
      ]
     },
     "execution_count": 55,
     "metadata": {},
     "output_type": "execute_result"
    }
   ],
   "source": [
    "result"
   ]
  },
  {
   "cell_type": "code",
   "execution_count": 56,
   "id": "d3ce1156",
   "metadata": {},
   "outputs": [
    {
     "data": {
      "text/plain": [
       "array([60111.94869639])"
      ]
     },
     "execution_count": 56,
     "metadata": {},
     "output_type": "execute_result"
    }
   ],
   "source": [
    "new_mo.mjd"
   ]
  },
  {
   "cell_type": "code",
   "execution_count": 57,
   "id": "83cbfffb",
   "metadata": {},
   "outputs": [],
   "source": [
    "new_cond = new_mo.return_conditions()"
   ]
  },
  {
   "cell_type": "code",
   "execution_count": 58,
   "id": "d3bc2bc2",
   "metadata": {},
   "outputs": [
    {
     "data": {
      "text/plain": [
       "{'nside': 32,\n",
       " 'site': <rubin_sim.utils.site.Site at 0x2a4e3cb90>,\n",
       " 'exptime': 30.0,\n",
       " 'mjd_start': 60110.0,\n",
       " 'season_offset': array([-692.1927888, -418.2552888, -509.5677888, ..., -418.2552888,\n",
       "        -509.5677888, -600.8802888]),\n",
       " 'sun_ra_start': array([1.44437505]),\n",
       " 'zeros_map': array([0., 0., 0., ..., 0., 0., 0.]),\n",
       " 'nan_map': array([nan, nan, nan, ..., nan, nan, nan]),\n",
       " 'ra': array([0.78539816, 2.35619449, 3.92699082, ..., 2.35619449, 3.92699082,\n",
       "        5.49778714]),\n",
       " 'dec': array([ 1.54528012,  1.54528012,  1.54528012, ..., -1.54528012,\n",
       "        -1.54528012, -1.54528012]),\n",
       " '_mjd': array([60111.94869639]),\n",
       " '_alt': array([-0.54440081, -0.50844794, -0.51110984, ...,  0.54711914,\n",
       "         0.54440081,  0.50844794]),\n",
       " '_az': array([6.26058056, 6.26412777, 0.02217019, ..., 3.16108481, 3.11898791,\n",
       "        3.12253512]),\n",
       " '_pa': None,\n",
       " 'clouds': None,\n",
       " '_slewtime': array([         nan,          nan,          nan, ..., 155.25545446,\n",
       "        155.13656234, 155.27205584]),\n",
       " 'current_filter': 'z',\n",
       " 'mounted_filters': ['g', 'r', 'i', 'z', 'y'],\n",
       " 'night': 2,\n",
       " '_lmst': array([11.7150112]),\n",
       " '_skybrightness': {'u': array([        nan,         nan,         nan, ..., 19.07435361,\n",
       "         19.06836269, 18.98424879]),\n",
       "  'g': array([        nan,         nan,         nan, ..., 19.4114494 ,\n",
       "         19.40525144, 19.32291463]),\n",
       "  'r': array([        nan,         nan,         nan, ..., 19.47168692,\n",
       "         19.46554291, 19.38831937]),\n",
       "  'i': array([        nan,         nan,         nan, ..., 18.37286126,\n",
       "         18.36680453, 18.28588077]),\n",
       "  'z': array([        nan,         nan,         nan, ..., 17.35118793,\n",
       "         17.34519749, 17.26304918]),\n",
       "  'y': array([        nan,         nan,         nan, ..., 16.26915904,\n",
       "         16.26315103, 16.17949938])},\n",
       " '_fwhm_eff': {'u': array([       nan,        nan,        nan, ..., 1.17631802, 1.17948153,\n",
       "         1.22410688]),\n",
       "  'g': array([       nan,        nan,        nan, ..., 1.11693873, 1.11994255,\n",
       "         1.16231525]),\n",
       "  'r': array([       nan,        nan,        nan, ..., 1.06518229, 1.06804693,\n",
       "         1.10845618]),\n",
       "  'i': array([       nan,        nan,        nan, ..., 1.03078053, 1.03355265,\n",
       "         1.07265682]),\n",
       "  'z': array([       nan,        nan,        nan, ..., 1.00700518, 1.00971335,\n",
       "         1.04791557]),\n",
       "  'y': array([       nan,        nan,        nan, ..., 0.98896228, 0.99162193,\n",
       "         1.02913967])},\n",
       " '_m5_depth': None,\n",
       " '_airmass': array([       nan,        nan,        nan, ..., 1.92223018, 1.93085377,\n",
       "        2.05413843]),\n",
       " 'wind_speed': None,\n",
       " 'wind_direction': None,\n",
       " 'scheduled_observations': array([60677.0625    , 60677.0625    , 60677.0625    , ...,\n",
       "        64328.32291582, 64328.32291582, 64328.32291582]),\n",
       " 'queue': [],\n",
       " 'moon_alt': -0.46839775428410707,\n",
       " 'moon_az': 4.980271320703283,\n",
       " 'moon_ra': 1.1848389994226194,\n",
       " 'moon_dec': 0.4451670399628144,\n",
       " 'moon_phase': 8.623747830371661,\n",
       " 'sun_alt': -0.209520457774192,\n",
       " 'sun_az': None,\n",
       " 'sun_ra': 1.479725680063134,\n",
       " 'sun_dec': 0.4075284203877722,\n",
       " 'sunset': array([60111.90652701]),\n",
       " 'sun_n12_setting': array([60111.94869639]),\n",
       " 'sun_n18_setting': array([60111.96905989]),\n",
       " 'sun_n18_rising': array([60112.42517116]),\n",
       " 'sun_n12_rising': array([60112.44553741]),\n",
       " 'sunrise': array([60112.48772137]),\n",
       " 'moonrise': array([60112.47138928]),\n",
       " 'moonset': array([60112.8840152]),\n",
       " 'planet_positions': {'venus_dec': array([-0.27606058]),\n",
       "  'venus_RA': array([3.95326303]),\n",
       "  'mars_dec': array([0.13890391]),\n",
       "  'mars_RA': array([2.89121795]),\n",
       "  'jupiter_dec': array([0.1644919]),\n",
       "  'jupiter_RA': array([0.45370731]),\n",
       "  'saturn_dec': array([-0.21760395]),\n",
       "  'saturn_RA': array([5.82564073])},\n",
       " 'tel_ra': None,\n",
       " 'tel_dec': None,\n",
       " 'tel_alt': 1.509709802975095,\n",
       " 'tel_az': 0.0,\n",
       " 'cumulative_azimuth_rad': 0,\n",
       " '_cloud_map': None,\n",
       " '_HA': None,\n",
       " 'bulk_cloud': array([0.]),\n",
       " 'rot_tel_pos': 0,\n",
       " 'targets_of_opportunity': None,\n",
       " '_season': None,\n",
       " 'season_modulo': None,\n",
       " 'season_max_season': None,\n",
       " 'season_length': 365.25,\n",
       " 'season_floor': True,\n",
       " '_az_to_sun': None,\n",
       " '_az_to_antisun': None,\n",
       " '_solar_elongation': None}"
      ]
     },
     "execution_count": 58,
     "metadata": {},
     "output_type": "execute_result"
    }
   ],
   "source": [
    "# compare attributes of the condition objects\n",
    "vars(cond)"
   ]
  },
  {
   "cell_type": "code",
   "execution_count": 59,
   "id": "b9cec9b9",
   "metadata": {},
   "outputs": [
    {
     "data": {
      "text/plain": [
       "{'nside': 32,\n",
       " 'site': <rubin_sim.utils.site.Site at 0x2a4eb4c90>,\n",
       " 'exptime': 30.0,\n",
       " 'mjd_start': 60110.0,\n",
       " 'season_offset': array([-692.1927888, -418.2552888, -509.5677888, ..., -418.2552888,\n",
       "        -509.5677888, -600.8802888]),\n",
       " 'sun_ra_start': array([1.44437505]),\n",
       " 'zeros_map': array([0., 0., 0., ..., 0., 0., 0.]),\n",
       " 'nan_map': array([nan, nan, nan, ..., nan, nan, nan]),\n",
       " 'ra': array([0.78539816, 2.35619449, 3.92699082, ..., 2.35619449, 3.92699082,\n",
       "        5.49778714]),\n",
       " 'dec': array([ 1.54528012,  1.54528012,  1.54528012, ..., -1.54528012,\n",
       "        -1.54528012, -1.54528012]),\n",
       " '_mjd': array([60111.94869639]),\n",
       " '_alt': array([-0.54440081, -0.50844794, -0.51110984, ...,  0.54711914,\n",
       "         0.54440081,  0.50844794]),\n",
       " '_az': array([6.26058056, 6.26412777, 0.02217019, ..., 3.16108481, 3.11898791,\n",
       "        3.12253512]),\n",
       " '_pa': None,\n",
       " 'clouds': None,\n",
       " '_slewtime': array([         nan,          nan,          nan, ..., 155.25545446,\n",
       "        155.13656234, 155.27205584]),\n",
       " 'current_filter': 'y',\n",
       " 'mounted_filters': ['u', 'g', 'r', 'i', 'y'],\n",
       " 'night': 2,\n",
       " '_lmst': array([11.7150112]),\n",
       " '_skybrightness': {'u': array([        nan,         nan,         nan, ..., 19.07435361,\n",
       "         19.06836269, 18.98424879]),\n",
       "  'g': array([        nan,         nan,         nan, ..., 19.4114494 ,\n",
       "         19.40525144, 19.32291463]),\n",
       "  'r': array([        nan,         nan,         nan, ..., 19.47168692,\n",
       "         19.46554291, 19.38831937]),\n",
       "  'i': array([        nan,         nan,         nan, ..., 18.37286126,\n",
       "         18.36680453, 18.28588077]),\n",
       "  'z': array([        nan,         nan,         nan, ..., 17.35118793,\n",
       "         17.34519749, 17.26304918]),\n",
       "  'y': array([        nan,         nan,         nan, ..., 16.26915904,\n",
       "         16.26315103, 16.17949938])},\n",
       " '_fwhm_eff': {'u': array([       nan,        nan,        nan, ..., 1.17631802, 1.17948153,\n",
       "         1.22410688]),\n",
       "  'g': array([       nan,        nan,        nan, ..., 1.11693873, 1.11994255,\n",
       "         1.16231525]),\n",
       "  'r': array([       nan,        nan,        nan, ..., 1.06518229, 1.06804693,\n",
       "         1.10845618]),\n",
       "  'i': array([       nan,        nan,        nan, ..., 1.03078053, 1.03355265,\n",
       "         1.07265682]),\n",
       "  'z': array([       nan,        nan,        nan, ..., 1.00700518, 1.00971335,\n",
       "         1.04791557]),\n",
       "  'y': array([       nan,        nan,        nan, ..., 0.98896228, 0.99162193,\n",
       "         1.02913967])},\n",
       " '_m5_depth': None,\n",
       " '_airmass': array([       nan,        nan,        nan, ..., 1.92223018, 1.93085377,\n",
       "        2.05413843]),\n",
       " 'wind_speed': None,\n",
       " 'wind_direction': None,\n",
       " 'scheduled_observations': array([60677.0625    , 60677.0625    , 60677.0625    , ...,\n",
       "        64328.32291582, 64328.32291582, 64328.32291582]),\n",
       " 'queue': [],\n",
       " 'moon_alt': -0.46839775428410707,\n",
       " 'moon_az': 4.980271320703283,\n",
       " 'moon_ra': 1.1848389994226194,\n",
       " 'moon_dec': 0.4451670399628144,\n",
       " 'moon_phase': 8.623747830371661,\n",
       " 'sun_alt': -0.209520457774192,\n",
       " 'sun_az': None,\n",
       " 'sun_ra': 1.479725680063134,\n",
       " 'sun_dec': 0.4075284203877722,\n",
       " 'sunset': array([60111.90652701]),\n",
       " 'sun_n12_setting': array([60111.94869639]),\n",
       " 'sun_n18_setting': array([60111.96905989]),\n",
       " 'sun_n18_rising': array([60112.42517116]),\n",
       " 'sun_n12_rising': array([60112.44553741]),\n",
       " 'sunrise': array([60112.48772137]),\n",
       " 'moonrise': array([60112.47138928]),\n",
       " 'moonset': array([60112.8840152]),\n",
       " 'planet_positions': {'venus_dec': array([-0.27606058]),\n",
       "  'venus_RA': array([3.95326303]),\n",
       "  'mars_dec': array([0.13890391]),\n",
       "  'mars_RA': array([2.89121795]),\n",
       "  'jupiter_dec': array([0.1644919]),\n",
       "  'jupiter_RA': array([0.45370731]),\n",
       "  'saturn_dec': array([-0.21760395]),\n",
       "  'saturn_RA': array([5.82564073])},\n",
       " 'tel_ra': None,\n",
       " 'tel_dec': None,\n",
       " 'tel_alt': 1.509709802975095,\n",
       " 'tel_az': 0.0,\n",
       " 'cumulative_azimuth_rad': 0,\n",
       " '_cloud_map': None,\n",
       " '_HA': None,\n",
       " 'bulk_cloud': array([0.]),\n",
       " 'rot_tel_pos': 0,\n",
       " 'targets_of_opportunity': None,\n",
       " '_season': None,\n",
       " 'season_modulo': None,\n",
       " 'season_max_season': None,\n",
       " 'season_length': 365.25,\n",
       " 'season_floor': True,\n",
       " '_az_to_sun': None,\n",
       " '_az_to_antisun': None,\n",
       " '_solar_elongation': None}"
      ]
     },
     "execution_count": 59,
     "metadata": {},
     "output_type": "execute_result"
    }
   ],
   "source": [
    "vars(new_cond)"
   ]
  },
  {
   "cell_type": "code",
   "execution_count": 60,
   "id": "bfecbce0",
   "metadata": {},
   "outputs": [
    {
     "data": {
      "text/plain": [
       "True"
      ]
     },
     "execution_count": 60,
     "metadata": {},
     "output_type": "execute_result"
    }
   ],
   "source": [
    "new_mo.observatory.parked"
   ]
  },
  {
   "cell_type": "code",
   "execution_count": null,
   "id": "993ea538",
   "metadata": {},
   "outputs": [],
   "source": []
  }
 ],
 "metadata": {
  "kernelspec": {
   "display_name": "Python 3 (ipykernel)",
   "language": "python",
   "name": "python3"
  },
  "language_info": {
   "codemirror_mode": {
    "name": "ipython",
    "version": 3
   },
   "file_extension": ".py",
   "mimetype": "text/x-python",
   "name": "python",
   "nbconvert_exporter": "python",
   "pygments_lexer": "ipython3",
   "version": "3.11.0"
  }
 },
 "nbformat": 4,
 "nbformat_minor": 5
}
