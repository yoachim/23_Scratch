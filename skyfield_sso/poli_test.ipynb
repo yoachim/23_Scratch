{
 "cells": [
  {
   "cell_type": "code",
   "execution_count": 12,
   "id": "d65382df",
   "metadata": {},
   "outputs": [],
   "source": [
    "from astropy import units as u\n",
    "from astropy.time import Time, TimeDelta\n",
    "from astropy.coordinates import solar_system_ephemeris\n",
    "\n",
    "solar_system_ephemeris.set(\"jpl\")\n",
    "\n",
    "from poliastro.bodies import Sun, Earth, Moon\n",
    "from poliastro.ephem import Ephem\n",
    "from poliastro.frames import Planes\n",
    "from poliastro.plotting import StaticOrbitPlotter\n",
    "from poliastro.plotting.misc import plot_solar_system\n",
    "from poliastro.twobody import Orbit\n",
    "from poliastro.util import norm, time_range\n",
    "\n",
    "from poliastro.twobody.sampling import EpochsArray\n",
    "\n",
    "EPOCH = Time(\"2017-09-01 12:05:50\", scale=\"tdb\")\n",
    "C_FLORENCE = \"#000\"\n",
    "C_MOON = \"#999\""
   ]
  },
  {
   "cell_type": "code",
   "execution_count": 2,
   "id": "96193665",
   "metadata": {},
   "outputs": [],
   "source": [
    "epochs = time_range(\n",
    "    EPOCH - TimeDelta(3 * 30 * u.day), end=EPOCH + TimeDelta(3 * 30 * u.day)\n",
    ")"
   ]
  },
  {
   "cell_type": "code",
   "execution_count": 5,
   "id": "7dfdd938",
   "metadata": {},
   "outputs": [],
   "source": [
    "# Data for Mars at J2000 from JPL HORIZONS\n",
    "a = 1.523679 << u.AU\n",
    "ecc = 0.093315 << u.one\n",
    "inc = 1.85 << u.deg\n",
    "raan = 49.562 << u.deg\n",
    "argp = 286.537 << u.deg\n",
    "nu = 23.33 << u.deg\n",
    "\n",
    "orb = Orbit.from_classical(Sun, a, ecc, inc, raan, argp, nu)"
   ]
  },
  {
   "cell_type": "code",
   "execution_count": 9,
   "id": "2f404e46",
   "metadata": {},
   "outputs": [
    {
     "data": {
      "text/plain": [
       "Ephemerides at 100 epochs from J2000.202 (TT) to J2002.083 (TT)"
      ]
     },
     "execution_count": 9,
     "metadata": {},
     "output_type": "execute_result"
    }
   ],
   "source": [
    "orb.to_ephem()"
   ]
  },
  {
   "cell_type": "code",
   "execution_count": 13,
   "id": "9c510e82",
   "metadata": {},
   "outputs": [],
   "source": [
    "ephem2 = orb.to_ephem(strategy=EpochsArray(epochs=epochs))"
   ]
  },
  {
   "cell_type": "code",
   "execution_count": 15,
   "id": "ea22c3b6",
   "metadata": {},
   "outputs": [
    {
     "data": {
      "text/plain": [
       "<CartesianRepresentation (x, y, z) in km\n",
       "    [(-3.80678355e+07, 2.34957575e+08, 5858316.66820154),\n",
       "     (-4.53475693e+07, 2.34263920e+08, 6022746.76490016),\n",
       "     (-5.25827337e+07, 2.33339974e+08, 6181256.47861246),\n",
       "     (-5.97665923e+07, 2.32188317e+08, 6333734.2451487 ),\n",
       "     (-6.68925489e+07, 2.30811681e+08, 6480075.1775465 ),\n",
       "     (-7.39541472e+07, 2.29212950e+08, 6620180.93632614),\n",
       "     (-8.09450712e+07, 2.27395147e+08, 6753959.60011144),\n",
       "     (-8.78591453e+07, 2.25361430e+08, 6881325.53717939),\n",
       "     (-9.46903338e+07, 2.23115090e+08, 7002199.27844946),\n",
       "     (-1.01432741e+08, 2.20659540e+08, 7116507.39237087),\n",
       "     (-1.08080609e+08, 2.17998313e+08, 7224182.36212164),\n",
       "     (-1.14628320e+08, 2.15135054e+08, 7325162.46548749),\n",
       "     (-1.21070393e+08, 2.12073522e+08, 7419391.65774905),\n",
       "     (-1.27401484e+08, 2.08817575e+08, 7506819.4578672 ),\n",
       "     (-1.33616385e+08, 2.05371177e+08, 7587400.83822249),\n",
       "     (-1.39710024e+08, 2.01738387e+08, 7661096.11813105),\n",
       "     (-1.45677461e+08, 1.97923355e+08, 7727870.86133067),\n",
       "     (-1.51513890e+08, 1.93930323e+08, 7787695.77760362),\n",
       "     (-1.57214638e+08, 1.89763619e+08, 7840546.62867707),\n",
       "     (-1.62775162e+08, 1.85427652e+08, 7886404.13851998),\n",
       "     (-1.68191048e+08, 1.80926915e+08, 7925253.90813394),\n",
       "     (-1.73458014e+08, 1.76265974e+08, 7957086.33491709),\n",
       "     (-1.78571903e+08, 1.71449475e+08, 7981896.53666225),\n",
       "     (-1.83528687e+08, 1.66482132e+08, 7999684.28023551),\n",
       "     (-1.88324463e+08, 1.61368732e+08, 8010453.9149666 ),\n",
       "     (-1.92955455e+08, 1.56114131e+08, 8014214.31076965),\n",
       "     (-1.97418010e+08, 1.50723250e+08, 8010978.8010013 ),\n",
       "     (-2.01708601e+08, 1.45201077e+08, 8000765.13005177),\n",
       "     (-2.05823823e+08, 1.39552661e+08, 7983595.40565533),\n",
       "     (-2.09760394e+08, 1.33783115e+08, 7959496.05589691),\n",
       "     (-2.13515156e+08, 1.27897610e+08, 7928497.79088337),\n",
       "     (-2.17085071e+08, 1.21901380e+08, 7890635.56904043),\n",
       "     (-2.20467226e+08, 1.15799714e+08, 7845948.56798816),\n",
       "     (-2.23658826e+08, 1.09597959e+08, 7794480.15994171),\n",
       "     (-2.26657202e+08, 1.03301520e+08, 7736277.89157669),\n",
       "     (-2.29459805e+08, 9.69158545e+07, 7671393.468292  ),\n",
       "     (-2.32064207e+08, 9.04464765e+07, 7599882.74279686),\n",
       "     (-2.34468106e+08, 8.38989529e+07, 7521805.70794162),\n",
       "     (-2.36669319e+08, 7.72789038e+07, 7437226.49370588),\n",
       "     (-2.38665791e+08, 7.05920019e+07, 7346213.36825   ),\n",
       "     (-2.40455587e+08, 6.38439713e+07, 7248838.74292952),\n",
       "     (-2.42036901e+08, 5.70405874e+07, 7145179.18116401),\n",
       "     (-2.43408051e+08, 5.01876762e+07, 7035315.41104421),\n",
       "     (-2.44567485e+08, 4.32911135e+07, 6919332.34155268),\n",
       "     (-2.45513776e+08, 3.63568245e+07, 6797319.0822639 ),\n",
       "     (-2.46245631e+08, 2.93907831e+07, 6669368.96638016),\n",
       "     (-2.46761887e+08, 2.23990114e+07, 6535579.57694858),\n",
       "     (-2.47061516e+08, 1.53875789e+07, 6396052.7760936 ),\n",
       "     (-2.47143622e+08, 8.36260174e+06, 6250894.73708545),\n",
       "     (-2.47007452e+08, 1.33024211e+06, 6100215.97905358)]\n",
       " (has differentials w.r.t.: 's')>"
      ]
     },
     "execution_count": 15,
     "metadata": {},
     "output_type": "execute_result"
    }
   ],
   "source": [
    "ephem2.sample()"
   ]
  },
  {
   "cell_type": "code",
   "execution_count": null,
   "id": "1684eb94",
   "metadata": {},
   "outputs": [],
   "source": []
  }
 ],
 "metadata": {
  "kernelspec": {
   "display_name": "Python 3 (ipykernel)",
   "language": "python",
   "name": "python3"
  },
  "language_info": {
   "codemirror_mode": {
    "name": "ipython",
    "version": 3
   },
   "file_extension": ".py",
   "mimetype": "text/x-python",
   "name": "python",
   "nbconvert_exporter": "python",
   "pygments_lexer": "ipython3",
   "version": "3.10.8"
  }
 },
 "nbformat": 4,
 "nbformat_minor": 5
}
