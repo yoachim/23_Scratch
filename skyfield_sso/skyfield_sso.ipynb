{
 "cells": [
  {
   "cell_type": "code",
   "execution_count": 1,
   "id": "9a65d249",
   "metadata": {},
   "outputs": [],
   "source": [
    "# Can we load and propigate solar system objects with skuyfield rather than open orb?"
   ]
  },
  {
   "cell_type": "code",
   "execution_count": 2,
   "id": "816f7043",
   "metadata": {},
   "outputs": [],
   "source": [
    "import pandas as pd\n",
    "import numpy as np\n",
    "import matplotlib.pylab as plt\n",
    "%matplotlib inline\n",
    "import skyfield\n",
    "\n",
    "from skyfield.api import load\n",
    "from skyfield.data import mpc\n",
    "\n",
    "from rubin_sim.utils import angular_separation"
   ]
  },
  {
   "cell_type": "code",
   "execution_count": 3,
   "id": "e8b1d301",
   "metadata": {},
   "outputs": [],
   "source": [
    "#with load.open('CometEls.txt') as f:\n",
    "#    comets = mpc.load_comets_dataframe(f)\n"
   ]
  },
  {
   "cell_type": "code",
   "execution_count": null,
   "id": "6b25cc8e",
   "metadata": {},
   "outputs": [],
   "source": []
  },
  {
   "cell_type": "code",
   "execution_count": null,
   "id": "d61f325f",
   "metadata": {},
   "outputs": [],
   "source": []
  },
  {
   "cell_type": "code",
   "execution_count": null,
   "id": "5a3d4405",
   "metadata": {},
   "outputs": [],
   "source": []
  },
  {
   "cell_type": "code",
   "execution_count": 4,
   "id": "2b2c194a",
   "metadata": {},
   "outputs": [],
   "source": [
    "#mpc.MPCORB_URL"
   ]
  },
  {
   "cell_type": "code",
   "execution_count": 5,
   "id": "36df8b61",
   "metadata": {},
   "outputs": [
    {
     "name": "stdout",
     "output_type": "stream",
     "text": [
      "4 minor planets loaded\n"
     ]
    }
   ],
   "source": [
    "with load.open('MPCORB.excerpt.DAT') as f:\n",
    "    minor_planets = mpc.load_mpcorb_dataframe(f)\n",
    "\n",
    "print(minor_planets.shape[0], 'minor planets loaded')"
   ]
  },
  {
   "cell_type": "code",
   "execution_count": 6,
   "id": "ab5c733f",
   "metadata": {},
   "outputs": [
    {
     "data": {
      "text/html": [
       "<div>\n",
       "<style scoped>\n",
       "    .dataframe tbody tr th:only-of-type {\n",
       "        vertical-align: middle;\n",
       "    }\n",
       "\n",
       "    .dataframe tbody tr th {\n",
       "        vertical-align: top;\n",
       "    }\n",
       "\n",
       "    .dataframe thead th {\n",
       "        text-align: right;\n",
       "    }\n",
       "</style>\n",
       "<table border=\"1\" class=\"dataframe\">\n",
       "  <thead>\n",
       "    <tr style=\"text-align: right;\">\n",
       "      <th></th>\n",
       "      <th>designation_packed</th>\n",
       "      <th>magnitude_H</th>\n",
       "      <th>magnitude_G</th>\n",
       "      <th>epoch_packed</th>\n",
       "      <th>mean_anomaly_degrees</th>\n",
       "      <th>argument_of_perihelion_degrees</th>\n",
       "      <th>longitude_of_ascending_node_degrees</th>\n",
       "      <th>inclination_degrees</th>\n",
       "      <th>eccentricity</th>\n",
       "      <th>mean_daily_motion_degrees</th>\n",
       "      <th>...</th>\n",
       "      <th>observations</th>\n",
       "      <th>oppositions</th>\n",
       "      <th>observation_period</th>\n",
       "      <th>rms_residual_arcseconds</th>\n",
       "      <th>coarse_perturbers</th>\n",
       "      <th>precise_perturbers</th>\n",
       "      <th>computer_name</th>\n",
       "      <th>hex_flags</th>\n",
       "      <th>designation</th>\n",
       "      <th>last_observation_date</th>\n",
       "    </tr>\n",
       "  </thead>\n",
       "  <tbody>\n",
       "    <tr>\n",
       "      <th>0</th>\n",
       "      <td>00001</td>\n",
       "      <td>3.33</td>\n",
       "      <td>0.15</td>\n",
       "      <td>K232P</td>\n",
       "      <td>17.21569</td>\n",
       "      <td>73.47045</td>\n",
       "      <td>80.26013</td>\n",
       "      <td>10.58634</td>\n",
       "      <td>0.078817</td>\n",
       "      <td>0.214115</td>\n",
       "      <td>...</td>\n",
       "      <td>7258</td>\n",
       "      <td>123</td>\n",
       "      <td>1801-2022</td>\n",
       "      <td>0.65</td>\n",
       "      <td>M-v</td>\n",
       "      <td>30l</td>\n",
       "      <td>MPCLINUX</td>\n",
       "      <td>0000</td>\n",
       "      <td>(1) Ceres</td>\n",
       "      <td>20220916</td>\n",
       "    </tr>\n",
       "    <tr>\n",
       "      <th>1</th>\n",
       "      <td>00002</td>\n",
       "      <td>4.12</td>\n",
       "      <td>0.15</td>\n",
       "      <td>K232P</td>\n",
       "      <td>357.84943</td>\n",
       "      <td>310.86479</td>\n",
       "      <td>172.91814</td>\n",
       "      <td>34.92704</td>\n",
       "      <td>0.230084</td>\n",
       "      <td>0.213831</td>\n",
       "      <td>...</td>\n",
       "      <td>8824</td>\n",
       "      <td>120</td>\n",
       "      <td>1804-2022</td>\n",
       "      <td>0.59</td>\n",
       "      <td>M-c</td>\n",
       "      <td>28k</td>\n",
       "      <td>MPCLINUX</td>\n",
       "      <td>0000</td>\n",
       "      <td>(2) Pallas</td>\n",
       "      <td>20221006</td>\n",
       "    </tr>\n",
       "    <tr>\n",
       "      <th>2</th>\n",
       "      <td>00003</td>\n",
       "      <td>5.15</td>\n",
       "      <td>0.15</td>\n",
       "      <td>K232P</td>\n",
       "      <td>351.82413</td>\n",
       "      <td>247.73655</td>\n",
       "      <td>169.84298</td>\n",
       "      <td>12.99067</td>\n",
       "      <td>0.256468</td>\n",
       "      <td>0.225894</td>\n",
       "      <td>...</td>\n",
       "      <td>7445</td>\n",
       "      <td>113</td>\n",
       "      <td>1804-2022</td>\n",
       "      <td>0.63</td>\n",
       "      <td>M-v</td>\n",
       "      <td>3Ek</td>\n",
       "      <td>MPCLINUX</td>\n",
       "      <td>0000</td>\n",
       "      <td>(3) Juno</td>\n",
       "      <td>20221226</td>\n",
       "    </tr>\n",
       "    <tr>\n",
       "      <th>3</th>\n",
       "      <td>00004</td>\n",
       "      <td>3.22</td>\n",
       "      <td>0.15</td>\n",
       "      <td>K232P</td>\n",
       "      <td>115.13301</td>\n",
       "      <td>151.59911</td>\n",
       "      <td>103.75733</td>\n",
       "      <td>7.13926</td>\n",
       "      <td>0.088758</td>\n",
       "      <td>0.271330</td>\n",
       "      <td>...</td>\n",
       "      <td>7537</td>\n",
       "      <td>108</td>\n",
       "      <td>1821-2022</td>\n",
       "      <td>0.63</td>\n",
       "      <td>M-p</td>\n",
       "      <td>18k</td>\n",
       "      <td>MPCLINUX</td>\n",
       "      <td>0000</td>\n",
       "      <td>(4) Vesta</td>\n",
       "      <td>20221226</td>\n",
       "    </tr>\n",
       "  </tbody>\n",
       "</table>\n",
       "<p>4 rows × 23 columns</p>\n",
       "</div>"
      ],
      "text/plain": [
       "  designation_packed  magnitude_H  magnitude_G epoch_packed  \\\n",
       "0              00001         3.33         0.15        K232P   \n",
       "1              00002         4.12         0.15        K232P   \n",
       "2              00003         5.15         0.15        K232P   \n",
       "3              00004         3.22         0.15        K232P   \n",
       "\n",
       "   mean_anomaly_degrees  argument_of_perihelion_degrees  \\\n",
       "0              17.21569                        73.47045   \n",
       "1             357.84943                       310.86479   \n",
       "2             351.82413                       247.73655   \n",
       "3             115.13301                       151.59911   \n",
       "\n",
       "   longitude_of_ascending_node_degrees  inclination_degrees  eccentricity  \\\n",
       "0                             80.26013             10.58634      0.078817   \n",
       "1                            172.91814             34.92704      0.230084   \n",
       "2                            169.84298             12.99067      0.256468   \n",
       "3                            103.75733              7.13926      0.088758   \n",
       "\n",
       "   mean_daily_motion_degrees  ...  observations  oppositions  \\\n",
       "0                   0.214115  ...          7258          123   \n",
       "1                   0.213831  ...          8824          120   \n",
       "2                   0.225894  ...          7445          113   \n",
       "3                   0.271330  ...          7537          108   \n",
       "\n",
       "  observation_period  rms_residual_arcseconds  coarse_perturbers  \\\n",
       "0          1801-2022                     0.65                M-v   \n",
       "1          1804-2022                     0.59                M-c   \n",
       "2          1804-2022                     0.63                M-v   \n",
       "3          1821-2022                     0.63                M-p   \n",
       "\n",
       "  precise_perturbers  computer_name hex_flags designation  \\\n",
       "0                30l       MPCLINUX      0000   (1) Ceres   \n",
       "1                28k       MPCLINUX      0000  (2) Pallas   \n",
       "2                3Ek       MPCLINUX      0000    (3) Juno   \n",
       "3                18k       MPCLINUX      0000   (4) Vesta   \n",
       "\n",
       "  last_observation_date  \n",
       "0              20220916  \n",
       "1              20221006  \n",
       "2              20221226  \n",
       "3              20221226  \n",
       "\n",
       "[4 rows x 23 columns]"
      ]
     },
     "execution_count": 6,
     "metadata": {},
     "output_type": "execute_result"
    }
   ],
   "source": [
    "minor_planets"
   ]
  },
  {
   "cell_type": "code",
   "execution_count": null,
   "id": "75093c85",
   "metadata": {},
   "outputs": [],
   "source": []
  },
  {
   "cell_type": "code",
   "execution_count": 7,
   "id": "a7fb4172",
   "metadata": {},
   "outputs": [],
   "source": [
    "from skyfield.constants import GM_SUN_Pitjeva_2005_km3_s2 as GM_SUN\n",
    "\n",
    "ts = load.timescale()\n",
    "eph = load('de421.bsp')\n",
    "sun, earth = eph['sun'], eph['earth']\n"
   ]
  },
  {
   "cell_type": "code",
   "execution_count": 8,
   "id": "5c078916",
   "metadata": {},
   "outputs": [],
   "source": [
    "t = ts.utc(2026, 5, 31)\n"
   ]
  },
  {
   "cell_type": "code",
   "execution_count": 9,
   "id": "fccc7a3d",
   "metadata": {},
   "outputs": [],
   "source": [
    "##row = minor_planets.iloc[0]\n",
    "#row"
   ]
  },
  {
   "cell_type": "code",
   "execution_count": 10,
   "id": "85631a80",
   "metadata": {},
   "outputs": [],
   "source": [
    "#ceres = sun + mpc.mpcorb_orbit(row, ts, GM_SUN)\n",
    "#ra, dec, distance = earth.at(t).observe(ceres).radec()\n",
    "#print(ra)\n",
    "#print(dec)"
   ]
  },
  {
   "cell_type": "code",
   "execution_count": 11,
   "id": "67cbdec1",
   "metadata": {},
   "outputs": [],
   "source": [
    "# Let's try loading up one of our things and naming things approp\n",
    "gran = pd.read_csv('/Users/yoachim/rubin_sim_data/orbits/granvik_5k.txt', sep=' ')"
   ]
  },
  {
   "cell_type": "code",
   "execution_count": 12,
   "id": "3045c4d1",
   "metadata": {},
   "outputs": [
    {
     "data": {
      "text/html": [
       "<div>\n",
       "<style scoped>\n",
       "    .dataframe tbody tr th:only-of-type {\n",
       "        vertical-align: middle;\n",
       "    }\n",
       "\n",
       "    .dataframe tbody tr th {\n",
       "        vertical-align: top;\n",
       "    }\n",
       "\n",
       "    .dataframe thead th {\n",
       "        text-align: right;\n",
       "    }\n",
       "</style>\n",
       "<table border=\"1\" class=\"dataframe\">\n",
       "  <thead>\n",
       "    <tr style=\"text-align: right;\">\n",
       "      <th></th>\n",
       "      <th>a</th>\n",
       "      <th>e</th>\n",
       "      <th>inc</th>\n",
       "      <th>Omega</th>\n",
       "      <th>argPeri</th>\n",
       "      <th>meanAnomaly</th>\n",
       "      <th>epoch</th>\n",
       "      <th>H</th>\n",
       "      <th>MOID</th>\n",
       "      <th>objId</th>\n",
       "      <th>g</th>\n",
       "      <th>sed_filename</th>\n",
       "    </tr>\n",
       "  </thead>\n",
       "  <tbody>\n",
       "    <tr>\n",
       "      <th>0</th>\n",
       "      <td>1.810322</td>\n",
       "      <td>0.457012</td>\n",
       "      <td>8.524691</td>\n",
       "      <td>321.309082</td>\n",
       "      <td>218.878296</td>\n",
       "      <td>194.936127</td>\n",
       "      <td>59853.0</td>\n",
       "      <td>24.902994</td>\n",
       "      <td>0.031219</td>\n",
       "      <td>242880</td>\n",
       "      <td>0.15</td>\n",
       "      <td>S.dat</td>\n",
       "    </tr>\n",
       "    <tr>\n",
       "      <th>1</th>\n",
       "      <td>1.390497</td>\n",
       "      <td>0.458398</td>\n",
       "      <td>43.303799</td>\n",
       "      <td>232.109802</td>\n",
       "      <td>241.479919</td>\n",
       "      <td>91.117035</td>\n",
       "      <td>59853.0</td>\n",
       "      <td>24.474217</td>\n",
       "      <td>0.121781</td>\n",
       "      <td>175331</td>\n",
       "      <td>0.15</td>\n",
       "      <td>S.dat</td>\n",
       "    </tr>\n",
       "    <tr>\n",
       "      <th>2</th>\n",
       "      <td>1.657430</td>\n",
       "      <td>0.493258</td>\n",
       "      <td>5.164651</td>\n",
       "      <td>302.836609</td>\n",
       "      <td>266.812195</td>\n",
       "      <td>161.882599</td>\n",
       "      <td>59853.0</td>\n",
       "      <td>23.124664</td>\n",
       "      <td>0.006973</td>\n",
       "      <td>647396</td>\n",
       "      <td>0.15</td>\n",
       "      <td>S.dat</td>\n",
       "    </tr>\n",
       "    <tr>\n",
       "      <th>3</th>\n",
       "      <td>2.073438</td>\n",
       "      <td>0.554929</td>\n",
       "      <td>10.493196</td>\n",
       "      <td>185.436066</td>\n",
       "      <td>139.102676</td>\n",
       "      <td>261.443756</td>\n",
       "      <td>59853.0</td>\n",
       "      <td>24.706829</td>\n",
       "      <td>0.085103</td>\n",
       "      <td>492747</td>\n",
       "      <td>0.15</td>\n",
       "      <td>S.dat</td>\n",
       "    </tr>\n",
       "    <tr>\n",
       "      <th>4</th>\n",
       "      <td>1.338621</td>\n",
       "      <td>0.133787</td>\n",
       "      <td>39.041023</td>\n",
       "      <td>341.855743</td>\n",
       "      <td>186.264435</td>\n",
       "      <td>40.988487</td>\n",
       "      <td>59853.0</td>\n",
       "      <td>24.607513</td>\n",
       "      <td>0.168620</td>\n",
       "      <td>546031</td>\n",
       "      <td>0.15</td>\n",
       "      <td>S.dat</td>\n",
       "    </tr>\n",
       "    <tr>\n",
       "      <th>...</th>\n",
       "      <td>...</td>\n",
       "      <td>...</td>\n",
       "      <td>...</td>\n",
       "      <td>...</td>\n",
       "      <td>...</td>\n",
       "      <td>...</td>\n",
       "      <td>...</td>\n",
       "      <td>...</td>\n",
       "      <td>...</td>\n",
       "      <td>...</td>\n",
       "      <td>...</td>\n",
       "      <td>...</td>\n",
       "    </tr>\n",
       "    <tr>\n",
       "      <th>4995</th>\n",
       "      <td>1.624333</td>\n",
       "      <td>0.446512</td>\n",
       "      <td>54.509521</td>\n",
       "      <td>355.366943</td>\n",
       "      <td>314.864990</td>\n",
       "      <td>99.870674</td>\n",
       "      <td>59853.0</td>\n",
       "      <td>23.640100</td>\n",
       "      <td>0.114199</td>\n",
       "      <td>23696</td>\n",
       "      <td>0.15</td>\n",
       "      <td>S.dat</td>\n",
       "    </tr>\n",
       "    <tr>\n",
       "      <th>4996</th>\n",
       "      <td>2.984417</td>\n",
       "      <td>0.763269</td>\n",
       "      <td>41.823479</td>\n",
       "      <td>333.647278</td>\n",
       "      <td>74.136383</td>\n",
       "      <td>7.006821</td>\n",
       "      <td>59853.0</td>\n",
       "      <td>24.729494</td>\n",
       "      <td>0.234624</td>\n",
       "      <td>33632</td>\n",
       "      <td>0.15</td>\n",
       "      <td>C.dat</td>\n",
       "    </tr>\n",
       "    <tr>\n",
       "      <th>4997</th>\n",
       "      <td>1.787739</td>\n",
       "      <td>0.404088</td>\n",
       "      <td>23.665245</td>\n",
       "      <td>351.980927</td>\n",
       "      <td>102.490379</td>\n",
       "      <td>126.487000</td>\n",
       "      <td>59853.0</td>\n",
       "      <td>24.963896</td>\n",
       "      <td>0.084646</td>\n",
       "      <td>214385</td>\n",
       "      <td>0.15</td>\n",
       "      <td>S.dat</td>\n",
       "    </tr>\n",
       "    <tr>\n",
       "      <th>4998</th>\n",
       "      <td>2.174124</td>\n",
       "      <td>0.421286</td>\n",
       "      <td>4.020179</td>\n",
       "      <td>38.037006</td>\n",
       "      <td>138.996429</td>\n",
       "      <td>290.406464</td>\n",
       "      <td>59853.0</td>\n",
       "      <td>24.503445</td>\n",
       "      <td>0.267403</td>\n",
       "      <td>106108</td>\n",
       "      <td>0.15</td>\n",
       "      <td>S.dat</td>\n",
       "    </tr>\n",
       "    <tr>\n",
       "      <th>4999</th>\n",
       "      <td>1.267627</td>\n",
       "      <td>0.485687</td>\n",
       "      <td>5.517235</td>\n",
       "      <td>86.842247</td>\n",
       "      <td>154.513092</td>\n",
       "      <td>55.123280</td>\n",
       "      <td>59853.0</td>\n",
       "      <td>24.542208</td>\n",
       "      <td>0.002857</td>\n",
       "      <td>653425</td>\n",
       "      <td>0.15</td>\n",
       "      <td>S.dat</td>\n",
       "    </tr>\n",
       "  </tbody>\n",
       "</table>\n",
       "<p>5000 rows × 12 columns</p>\n",
       "</div>"
      ],
      "text/plain": [
       "             a         e        inc       Omega     argPeri  meanAnomaly  \\\n",
       "0     1.810322  0.457012   8.524691  321.309082  218.878296   194.936127   \n",
       "1     1.390497  0.458398  43.303799  232.109802  241.479919    91.117035   \n",
       "2     1.657430  0.493258   5.164651  302.836609  266.812195   161.882599   \n",
       "3     2.073438  0.554929  10.493196  185.436066  139.102676   261.443756   \n",
       "4     1.338621  0.133787  39.041023  341.855743  186.264435    40.988487   \n",
       "...        ...       ...        ...         ...         ...          ...   \n",
       "4995  1.624333  0.446512  54.509521  355.366943  314.864990    99.870674   \n",
       "4996  2.984417  0.763269  41.823479  333.647278   74.136383     7.006821   \n",
       "4997  1.787739  0.404088  23.665245  351.980927  102.490379   126.487000   \n",
       "4998  2.174124  0.421286   4.020179   38.037006  138.996429   290.406464   \n",
       "4999  1.267627  0.485687   5.517235   86.842247  154.513092    55.123280   \n",
       "\n",
       "        epoch          H      MOID   objId     g sed_filename  \n",
       "0     59853.0  24.902994  0.031219  242880  0.15        S.dat  \n",
       "1     59853.0  24.474217  0.121781  175331  0.15        S.dat  \n",
       "2     59853.0  23.124664  0.006973  647396  0.15        S.dat  \n",
       "3     59853.0  24.706829  0.085103  492747  0.15        S.dat  \n",
       "4     59853.0  24.607513  0.168620  546031  0.15        S.dat  \n",
       "...       ...        ...       ...     ...   ...          ...  \n",
       "4995  59853.0  23.640100  0.114199   23696  0.15        S.dat  \n",
       "4996  59853.0  24.729494  0.234624   33632  0.15        C.dat  \n",
       "4997  59853.0  24.963896  0.084646  214385  0.15        S.dat  \n",
       "4998  59853.0  24.503445  0.267403  106108  0.15        S.dat  \n",
       "4999  59853.0  24.542208  0.002857  653425  0.15        S.dat  \n",
       "\n",
       "[5000 rows x 12 columns]"
      ]
     },
     "execution_count": 12,
     "metadata": {},
     "output_type": "execute_result"
    }
   ],
   "source": [
    "gran"
   ]
  },
  {
   "cell_type": "code",
   "execution_count": 13,
   "id": "aab99389",
   "metadata": {},
   "outputs": [],
   "source": [
    "# let's try renaming some rows\n",
    "gran2 = gran.rename(columns={'a': 'semimajor_axis_au', 'e': 'eccentricity', 'inc': 'inclination_degrees',\n",
    "            'Omega': 'longitude_of_ascending_node_degrees', 'argPeri': 'argument_of_perihelion_degrees',\n",
    "            'meanAnomaly': 'mean_anomaly_degrees', 'epoch': 'epoch_packed'})"
   ]
  },
  {
   "cell_type": "code",
   "execution_count": 14,
   "id": "a8420054",
   "metadata": {},
   "outputs": [
    {
     "data": {
      "text/html": [
       "<div>\n",
       "<style scoped>\n",
       "    .dataframe tbody tr th:only-of-type {\n",
       "        vertical-align: middle;\n",
       "    }\n",
       "\n",
       "    .dataframe tbody tr th {\n",
       "        vertical-align: top;\n",
       "    }\n",
       "\n",
       "    .dataframe thead th {\n",
       "        text-align: right;\n",
       "    }\n",
       "</style>\n",
       "<table border=\"1\" class=\"dataframe\">\n",
       "  <thead>\n",
       "    <tr style=\"text-align: right;\">\n",
       "      <th></th>\n",
       "      <th>semimajor_axis_au</th>\n",
       "      <th>eccentricity</th>\n",
       "      <th>inclination_degrees</th>\n",
       "      <th>longitude_of_ascending_node_degrees</th>\n",
       "      <th>argument_of_perihelion_degrees</th>\n",
       "      <th>mean_anomaly_degrees</th>\n",
       "      <th>epoch_packed</th>\n",
       "      <th>H</th>\n",
       "      <th>MOID</th>\n",
       "      <th>objId</th>\n",
       "      <th>g</th>\n",
       "      <th>sed_filename</th>\n",
       "    </tr>\n",
       "  </thead>\n",
       "  <tbody>\n",
       "    <tr>\n",
       "      <th>0</th>\n",
       "      <td>1.810322</td>\n",
       "      <td>0.457012</td>\n",
       "      <td>8.524691</td>\n",
       "      <td>321.309082</td>\n",
       "      <td>218.878296</td>\n",
       "      <td>194.936127</td>\n",
       "      <td>59853.0</td>\n",
       "      <td>24.902994</td>\n",
       "      <td>0.031219</td>\n",
       "      <td>242880</td>\n",
       "      <td>0.15</td>\n",
       "      <td>S.dat</td>\n",
       "    </tr>\n",
       "    <tr>\n",
       "      <th>1</th>\n",
       "      <td>1.390497</td>\n",
       "      <td>0.458398</td>\n",
       "      <td>43.303799</td>\n",
       "      <td>232.109802</td>\n",
       "      <td>241.479919</td>\n",
       "      <td>91.117035</td>\n",
       "      <td>59853.0</td>\n",
       "      <td>24.474217</td>\n",
       "      <td>0.121781</td>\n",
       "      <td>175331</td>\n",
       "      <td>0.15</td>\n",
       "      <td>S.dat</td>\n",
       "    </tr>\n",
       "    <tr>\n",
       "      <th>2</th>\n",
       "      <td>1.657430</td>\n",
       "      <td>0.493258</td>\n",
       "      <td>5.164651</td>\n",
       "      <td>302.836609</td>\n",
       "      <td>266.812195</td>\n",
       "      <td>161.882599</td>\n",
       "      <td>59853.0</td>\n",
       "      <td>23.124664</td>\n",
       "      <td>0.006973</td>\n",
       "      <td>647396</td>\n",
       "      <td>0.15</td>\n",
       "      <td>S.dat</td>\n",
       "    </tr>\n",
       "    <tr>\n",
       "      <th>3</th>\n",
       "      <td>2.073438</td>\n",
       "      <td>0.554929</td>\n",
       "      <td>10.493196</td>\n",
       "      <td>185.436066</td>\n",
       "      <td>139.102676</td>\n",
       "      <td>261.443756</td>\n",
       "      <td>59853.0</td>\n",
       "      <td>24.706829</td>\n",
       "      <td>0.085103</td>\n",
       "      <td>492747</td>\n",
       "      <td>0.15</td>\n",
       "      <td>S.dat</td>\n",
       "    </tr>\n",
       "    <tr>\n",
       "      <th>4</th>\n",
       "      <td>1.338621</td>\n",
       "      <td>0.133787</td>\n",
       "      <td>39.041023</td>\n",
       "      <td>341.855743</td>\n",
       "      <td>186.264435</td>\n",
       "      <td>40.988487</td>\n",
       "      <td>59853.0</td>\n",
       "      <td>24.607513</td>\n",
       "      <td>0.168620</td>\n",
       "      <td>546031</td>\n",
       "      <td>0.15</td>\n",
       "      <td>S.dat</td>\n",
       "    </tr>\n",
       "    <tr>\n",
       "      <th>...</th>\n",
       "      <td>...</td>\n",
       "      <td>...</td>\n",
       "      <td>...</td>\n",
       "      <td>...</td>\n",
       "      <td>...</td>\n",
       "      <td>...</td>\n",
       "      <td>...</td>\n",
       "      <td>...</td>\n",
       "      <td>...</td>\n",
       "      <td>...</td>\n",
       "      <td>...</td>\n",
       "      <td>...</td>\n",
       "    </tr>\n",
       "    <tr>\n",
       "      <th>4995</th>\n",
       "      <td>1.624333</td>\n",
       "      <td>0.446512</td>\n",
       "      <td>54.509521</td>\n",
       "      <td>355.366943</td>\n",
       "      <td>314.864990</td>\n",
       "      <td>99.870674</td>\n",
       "      <td>59853.0</td>\n",
       "      <td>23.640100</td>\n",
       "      <td>0.114199</td>\n",
       "      <td>23696</td>\n",
       "      <td>0.15</td>\n",
       "      <td>S.dat</td>\n",
       "    </tr>\n",
       "    <tr>\n",
       "      <th>4996</th>\n",
       "      <td>2.984417</td>\n",
       "      <td>0.763269</td>\n",
       "      <td>41.823479</td>\n",
       "      <td>333.647278</td>\n",
       "      <td>74.136383</td>\n",
       "      <td>7.006821</td>\n",
       "      <td>59853.0</td>\n",
       "      <td>24.729494</td>\n",
       "      <td>0.234624</td>\n",
       "      <td>33632</td>\n",
       "      <td>0.15</td>\n",
       "      <td>C.dat</td>\n",
       "    </tr>\n",
       "    <tr>\n",
       "      <th>4997</th>\n",
       "      <td>1.787739</td>\n",
       "      <td>0.404088</td>\n",
       "      <td>23.665245</td>\n",
       "      <td>351.980927</td>\n",
       "      <td>102.490379</td>\n",
       "      <td>126.487000</td>\n",
       "      <td>59853.0</td>\n",
       "      <td>24.963896</td>\n",
       "      <td>0.084646</td>\n",
       "      <td>214385</td>\n",
       "      <td>0.15</td>\n",
       "      <td>S.dat</td>\n",
       "    </tr>\n",
       "    <tr>\n",
       "      <th>4998</th>\n",
       "      <td>2.174124</td>\n",
       "      <td>0.421286</td>\n",
       "      <td>4.020179</td>\n",
       "      <td>38.037006</td>\n",
       "      <td>138.996429</td>\n",
       "      <td>290.406464</td>\n",
       "      <td>59853.0</td>\n",
       "      <td>24.503445</td>\n",
       "      <td>0.267403</td>\n",
       "      <td>106108</td>\n",
       "      <td>0.15</td>\n",
       "      <td>S.dat</td>\n",
       "    </tr>\n",
       "    <tr>\n",
       "      <th>4999</th>\n",
       "      <td>1.267627</td>\n",
       "      <td>0.485687</td>\n",
       "      <td>5.517235</td>\n",
       "      <td>86.842247</td>\n",
       "      <td>154.513092</td>\n",
       "      <td>55.123280</td>\n",
       "      <td>59853.0</td>\n",
       "      <td>24.542208</td>\n",
       "      <td>0.002857</td>\n",
       "      <td>653425</td>\n",
       "      <td>0.15</td>\n",
       "      <td>S.dat</td>\n",
       "    </tr>\n",
       "  </tbody>\n",
       "</table>\n",
       "<p>5000 rows × 12 columns</p>\n",
       "</div>"
      ],
      "text/plain": [
       "      semimajor_axis_au  eccentricity  inclination_degrees  \\\n",
       "0              1.810322      0.457012             8.524691   \n",
       "1              1.390497      0.458398            43.303799   \n",
       "2              1.657430      0.493258             5.164651   \n",
       "3              2.073438      0.554929            10.493196   \n",
       "4              1.338621      0.133787            39.041023   \n",
       "...                 ...           ...                  ...   \n",
       "4995           1.624333      0.446512            54.509521   \n",
       "4996           2.984417      0.763269            41.823479   \n",
       "4997           1.787739      0.404088            23.665245   \n",
       "4998           2.174124      0.421286             4.020179   \n",
       "4999           1.267627      0.485687             5.517235   \n",
       "\n",
       "      longitude_of_ascending_node_degrees  argument_of_perihelion_degrees  \\\n",
       "0                              321.309082                      218.878296   \n",
       "1                              232.109802                      241.479919   \n",
       "2                              302.836609                      266.812195   \n",
       "3                              185.436066                      139.102676   \n",
       "4                              341.855743                      186.264435   \n",
       "...                                   ...                             ...   \n",
       "4995                           355.366943                      314.864990   \n",
       "4996                           333.647278                       74.136383   \n",
       "4997                           351.980927                      102.490379   \n",
       "4998                            38.037006                      138.996429   \n",
       "4999                            86.842247                      154.513092   \n",
       "\n",
       "      mean_anomaly_degrees  epoch_packed          H      MOID   objId     g  \\\n",
       "0               194.936127       59853.0  24.902994  0.031219  242880  0.15   \n",
       "1                91.117035       59853.0  24.474217  0.121781  175331  0.15   \n",
       "2               161.882599       59853.0  23.124664  0.006973  647396  0.15   \n",
       "3               261.443756       59853.0  24.706829  0.085103  492747  0.15   \n",
       "4                40.988487       59853.0  24.607513  0.168620  546031  0.15   \n",
       "...                    ...           ...        ...       ...     ...   ...   \n",
       "4995             99.870674       59853.0  23.640100  0.114199   23696  0.15   \n",
       "4996              7.006821       59853.0  24.729494  0.234624   33632  0.15   \n",
       "4997            126.487000       59853.0  24.963896  0.084646  214385  0.15   \n",
       "4998            290.406464       59853.0  24.503445  0.267403  106108  0.15   \n",
       "4999             55.123280       59853.0  24.542208  0.002857  653425  0.15   \n",
       "\n",
       "     sed_filename  \n",
       "0           S.dat  \n",
       "1           S.dat  \n",
       "2           S.dat  \n",
       "3           S.dat  \n",
       "4           S.dat  \n",
       "...           ...  \n",
       "4995        S.dat  \n",
       "4996        C.dat  \n",
       "4997        S.dat  \n",
       "4998        S.dat  \n",
       "4999        S.dat  \n",
       "\n",
       "[5000 rows x 12 columns]"
      ]
     },
     "execution_count": 14,
     "metadata": {},
     "output_type": "execute_result"
    }
   ],
   "source": [
    "gran2"
   ]
  },
  {
   "cell_type": "code",
   "execution_count": 15,
   "id": "b6ae47af",
   "metadata": {},
   "outputs": [
    {
     "name": "stderr",
     "output_type": "stream",
     "text": [
      "/var/folders/05/z_zc9f654c5dlw06t4s_d68w0000gn/T/ipykernel_19047/2840622446.py:4: SettingWithCopyWarning: \n",
      "A value is trying to be set on a copy of a slice from a DataFrame\n",
      "\n",
      "See the caveats in the documentation: https://pandas.pydata.org/pandas-docs/stable/user_guide/indexing.html#returning-a-view-versus-a-copy\n",
      "  row['epoch_packed'] = 'K232P'\n",
      "/var/folders/05/z_zc9f654c5dlw06t4s_d68w0000gn/T/ipykernel_19047/2840622446.py:5: SettingWithCopyWarning: \n",
      "A value is trying to be set on a copy of a slice from a DataFrame\n",
      "\n",
      "See the caveats in the documentation: https://pandas.pydata.org/pandas-docs/stable/user_guide/indexing.html#returning-a-view-versus-a-copy\n",
      "  row['designation'] = 'poop1'\n",
      "/var/folders/05/z_zc9f654c5dlw06t4s_d68w0000gn/T/ipykernel_19047/2840622446.py:5: SettingWithCopyWarning: \n",
      "A value is trying to be set on a copy of a slice from a DataFrame\n",
      "\n",
      "See the caveats in the documentation: https://pandas.pydata.org/pandas-docs/stable/user_guide/indexing.html#returning-a-view-versus-a-copy\n",
      "  row['designation'] = 'poop1'\n"
     ]
    }
   ],
   "source": [
    "row = gran2.iloc[0]\n",
    "\n",
    "# no idea what this is for, let's just put in something that should work\n",
    "row['epoch_packed'] = 'K232P'\n",
    "row['designation'] = 'poop1'"
   ]
  },
  {
   "cell_type": "code",
   "execution_count": 16,
   "id": "e5ada44a",
   "metadata": {},
   "outputs": [
    {
     "name": "stdout",
     "output_type": "stream",
     "text": [
      "05h 10m 10.23s\n",
      "+27deg 12' 26.3\"\n"
     ]
    }
   ],
   "source": [
    "obj = sun + mpc.mpcorb_orbit(row, ts, GM_SUN)\n",
    "ra, dec, distance = earth.at(t).observe(obj).radec()\n",
    "print(ra)\n",
    "print(dec)"
   ]
  },
  {
   "cell_type": "code",
   "execution_count": 17,
   "id": "cc2a8d22",
   "metadata": {},
   "outputs": [
    {
     "name": "stdout",
     "output_type": "stream",
     "text": [
      "Help on method utc in module skyfield.timelib:\n",
      "\n",
      "utc(year, month=1, day=1, hour=0, minute=0, second=0.0) method of skyfield.timelib.Timescale instance\n",
      "    Build a `Time` from a UTC `calendar date`.\n",
      "    \n",
      "    .. versionadded:: 1.24\n",
      "       Passing a Python ``datetime`` or a list of datetimes as the\n",
      "       first argument has been deprecated (and was never supported\n",
      "       for the other time scale methods).  Instead, use the methods\n",
      "       :meth:`~skyfield.timelib.Timescale.from_datetime()` and\n",
      "       :meth:`~skyfield.timelib.Timescale.from_datetimes()`.\n",
      "\n"
     ]
    }
   ],
   "source": [
    "help(ts.utc)"
   ]
  },
  {
   "cell_type": "code",
   "execution_count": 18,
   "id": "e2236b7e",
   "metadata": {},
   "outputs": [],
   "source": [
    "t = ts.utc(2026, 5, range(3650))\n"
   ]
  },
  {
   "cell_type": "code",
   "execution_count": 19,
   "id": "dd4e8c38",
   "metadata": {},
   "outputs": [
    {
     "name": "stdout",
     "output_type": "stream",
     "text": [
      "3650 values from 03h 42m 43.96s to 05h 37m 35.46s\n",
      "3650 values from +25deg 03' 28.1\" to +24deg 52' 27.5\"\n"
     ]
    }
   ],
   "source": [
    "ra, dec, distance = earth.at(t).observe(obj).radec()\n",
    "print(ra)\n",
    "print(dec)"
   ]
  },
  {
   "cell_type": "code",
   "execution_count": 20,
   "id": "a7b31de9",
   "metadata": {},
   "outputs": [
    {
     "data": {
      "text/plain": [
       "[<matplotlib.lines.Line2D at 0x7fd1e4673c40>]"
      ]
     },
     "execution_count": 20,
     "metadata": {},
     "output_type": "execute_result"
    },
    {
     "data": {
      "image/png": "[encoded data removed]",
      "text/plain": [
       "<Figure size 640x480 with 1 Axes>"
      ]
     },
     "metadata": {},
     "output_type": "display_data"
    }
   ],
   "source": [
    "plt.plot(ra._degrees, dec.degrees, 'ko')"
   ]
  },
  {
   "cell_type": "code",
   "execution_count": 21,
   "id": "7e61f91e",
   "metadata": {},
   "outputs": [
    {
     "name": "stderr",
     "output_type": "stream",
     "text": [
      "/Users/yoachim/anaconda3/envs/guro/lib/python3.8/site-packages/erfa/core.py:154: ErfaWarning: ERFA function \"dtf2d\" yielded 3405 of \"dubious year (Note 6)\"\n",
      "  warnings.warn('ERFA function \"{}\" yielded {}'.format(func_name, wmsg),\n"
     ]
    }
   ],
   "source": [
    "# Let's go to mjd\n",
    "from astropy.time import Time\n",
    "apt = Time(t.utc_iso(), scale='utc')"
   ]
  },
  {
   "cell_type": "code",
   "execution_count": null,
   "id": "9a60c853",
   "metadata": {},
   "outputs": [],
   "source": []
  },
  {
   "cell_type": "code",
   "execution_count": 22,
   "id": "7c9ab885",
   "metadata": {},
   "outputs": [
    {
     "data": {
      "text/plain": [
       "array([55.68318007, 56.32478674, 56.97047437, ..., 82.62366127,\n",
       "       83.50801591, 84.39772943])"
      ]
     },
     "execution_count": 22,
     "metadata": {},
     "output_type": "execute_result"
    }
   ],
   "source": [
    "ra._degrees"
   ]
  },
  {
   "cell_type": "code",
   "execution_count": 23,
   "id": "e58f6217",
   "metadata": {},
   "outputs": [],
   "source": [
    "# ok, let's try the same thing with oorb, see how it looks\n",
    "from rubin_sim.moving_objects import PyOrbEphemerides"
   ]
  },
  {
   "cell_type": "code",
   "execution_count": 24,
   "id": "3913e309",
   "metadata": {},
   "outputs": [],
   "source": [
    "oo = PyOrbEphemerides()\n",
    "\n",
    "eph_times = oo._convert_times(apt.mjd)"
   ]
  },
  {
   "cell_type": "code",
   "execution_count": 36,
   "id": "f4f32d75",
   "metadata": {},
   "outputs": [],
   "source": [
    "oo._convert_to_oorb_elem(gran.iloc[20:21], 'KEP')"
   ]
  },
  {
   "cell_type": "code",
   "execution_count": 37,
   "id": "84018719",
   "metadata": {},
   "outputs": [],
   "source": [
    "two_body_ephems = oo.generate_ephemerides(apt.mjd, eph_mode='2body')\n",
    "n_body_ephems = oo.generate_ephemerides(apt.mjd, eph_mode='nbody')"
   ]
  },
  {
   "cell_type": "code",
   "execution_count": 38,
   "id": "46481cd8",
   "metadata": {},
   "outputs": [
    {
     "data": {
      "text/plain": [
       "[<matplotlib.lines.Line2D at 0x7fd15cb05820>]"
      ]
     },
     "execution_count": 38,
     "metadata": {},
     "output_type": "execute_result"
    },
    {
     "data": {
      "image/png": "[encoded data removed]",
      "text/plain": [
       "<Figure size 640x480 with 1 Axes>"
      ]
     },
     "metadata": {},
     "output_type": "display_data"
    }
   ],
   "source": [
    "plt.plot(two_body_ephems['ra'][0], two_body_ephems['dec'][0], 'ko')"
   ]
  },
  {
   "cell_type": "code",
   "execution_count": 39,
   "id": "c01eabbe",
   "metadata": {},
   "outputs": [
    {
     "data": {
      "text/plain": [
       "[<matplotlib.lines.Line2D at 0x7fd1e5039760>]"
      ]
     },
     "execution_count": 39,
     "metadata": {},
     "output_type": "execute_result"
    },
    {
     "data": {
      "image/png": "[encoded data removed]",
      "text/plain": [
       "<Figure size 640x480 with 1 Axes>"
      ]
     },
     "metadata": {},
     "output_type": "display_data"
    }
   ],
   "source": [
    "plt.plot(n_body_ephems['ra'][0], n_body_ephems['dec'][0], 'ko')"
   ]
  },
  {
   "cell_type": "code",
   "execution_count": 40,
   "id": "59e8f707",
   "metadata": {},
   "outputs": [],
   "source": [
    "diff = angular_separation(two_body_ephems['ra'],\n",
    "                          two_body_ephems['dec'], n_body_ephems['ra'], n_body_ephems['dec'])"
   ]
  },
  {
   "cell_type": "code",
   "execution_count": 41,
   "id": "0e9486db",
   "metadata": {},
   "outputs": [
    {
     "data": {
      "image/png": "[encoded data removed]",
      "text/plain": [
       "<Figure size 640x480 with 1 Axes>"
      ]
     },
     "metadata": {},
     "output_type": "display_data"
    }
   ],
   "source": [
    "ack = plt.plot(diff)"
   ]
  },
  {
   "cell_type": "code",
   "execution_count": null,
   "id": "a0e129d0",
   "metadata": {},
   "outputs": [],
   "source": []
  },
  {
   "cell_type": "code",
   "execution_count": 42,
   "id": "64efb03e",
   "metadata": {},
   "outputs": [],
   "source": [
    "diff = angular_separation(ra._degrees, dec.degrees, n_body_ephems['ra'], n_body_ephems['dec'])"
   ]
  },
  {
   "cell_type": "code",
   "execution_count": 43,
   "id": "f31fdc18",
   "metadata": {},
   "outputs": [
    {
     "data": {
      "image/png": "[encoded data removed]",
      "text/plain": [
       "<Figure size 640x480 with 1 Axes>"
      ]
     },
     "metadata": {},
     "output_type": "display_data"
    }
   ],
   "source": [
    "ack = plt.plot(diff)"
   ]
  },
  {
   "cell_type": "code",
   "execution_count": null,
   "id": "f2320f8b",
   "metadata": {},
   "outputs": [],
   "source": [
    "# ok, so the skyfield stuff doesn't seem to come anywhere near the correct values. "
   ]
  }
 ],
 "metadata": {
  "kernelspec": {
   "display_name": "Python 3 (ipykernel)",
   "language": "python",
   "name": "python3"
  },
  "language_info": {
   "codemirror_mode": {
    "name": "ipython",
    "version": 3
   },
   "file_extension": ".py",
   "mimetype": "text/x-python",
   "name": "python",
   "nbconvert_exporter": "python",
   "pygments_lexer": "ipython3",
   "version": "3.8.13"
  }
 },
 "nbformat": 4,
 "nbformat_minor": 5
}
