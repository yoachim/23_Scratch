{
 "cells": [
  {
   "cell_type": "markdown",
   "id": "99f5c3b9",
   "metadata": {},
   "source": [
    "Let's get the stats that maybe everyone can agree on as a start\n"
   ]
  },
  {
   "cell_type": "code",
   "execution_count": 1,
   "id": "5f19e729",
   "metadata": {},
   "outputs": [],
   "source": [
    "import numpy as np\n",
    "import matplotlib.pylab as plt\n",
    "%matplotlib inline\n",
    "from rubin_sim.satellite_constellations import (Constellation, starlink_tles_v2,\n",
    "                                                oneweb_tles,\n",
    "                                                ModelObservatory,\n",
    "                                                SatelliteAvoidBasisFunction)\n",
    "import healpy as hp\n",
    "from rubin_sim.data import get_baseline\n",
    "import pandas as pd\n",
    "import sqlite3\n",
    "import os"
   ]
  },
  {
   "cell_type": "code",
   "execution_count": 2,
   "id": "b0b6f821",
   "metadata": {},
   "outputs": [],
   "source": [
    "save_file = 'streaks_all.npz'"
   ]
  },
  {
   "cell_type": "code",
   "execution_count": 3,
   "id": "de83b37c",
   "metadata": {},
   "outputs": [
    {
     "name": "stdout",
     "output_type": "stream",
     "text": [
      "number of satellites=  29988\n"
     ]
    }
   ],
   "source": [
    "# a starlink gen 2 + oneweb\n",
    "tles = starlink_tles_v2() #+ oneweb_tles()\n",
    "const = Constellation(tles)\n",
    "print('number of satellites= ', len(tles))"
   ]
  },
  {
   "cell_type": "code",
   "execution_count": 4,
   "id": "f3f219f0",
   "metadata": {},
   "outputs": [],
   "source": [
    "baseline = get_baseline()\n",
    "con = sqlite3.connect(baseline)\n",
    "# year 1\n",
    "visits = pd.read_sql('select fieldRA, fieldDec, fivesigmadepth, observationstartmjd,rotSkyPos,visitExposureTime from observations where night < 365', con)\n",
    "con.close()"
   ]
  },
  {
   "cell_type": "code",
   "execution_count": 5,
   "id": "77999d71",
   "metadata": {},
   "outputs": [
    {
     "data": {
      "text/html": [
       "<div>\n",
       "<style scoped>\n",
       "    .dataframe tbody tr th:only-of-type {\n",
       "        vertical-align: middle;\n",
       "    }\n",
       "\n",
       "    .dataframe tbody tr th {\n",
       "        vertical-align: top;\n",
       "    }\n",
       "\n",
       "    .dataframe thead th {\n",
       "        text-align: right;\n",
       "    }\n",
       "</style>\n",
       "<table border=\"1\" class=\"dataframe\">\n",
       "  <thead>\n",
       "    <tr style=\"text-align: right;\">\n",
       "      <th></th>\n",
       "      <th>fieldRA</th>\n",
       "      <th>fieldDec</th>\n",
       "      <th>fiveSigmaDepth</th>\n",
       "      <th>observationStartMJD</th>\n",
       "      <th>rotSkyPos</th>\n",
       "      <th>visitExposureTime</th>\n",
       "    </tr>\n",
       "  </thead>\n",
       "  <tbody>\n",
       "    <tr>\n",
       "      <th>0</th>\n",
       "      <td>298.603526</td>\n",
       "      <td>-15.574752</td>\n",
       "      <td>22.546480</td>\n",
       "      <td>60218.001806</td>\n",
       "      <td>224.242758</td>\n",
       "      <td>30.0</td>\n",
       "    </tr>\n",
       "    <tr>\n",
       "      <th>1</th>\n",
       "      <td>297.035243</td>\n",
       "      <td>-13.144502</td>\n",
       "      <td>22.532127</td>\n",
       "      <td>60218.002260</td>\n",
       "      <td>231.080063</td>\n",
       "      <td>30.0</td>\n",
       "    </tr>\n",
       "    <tr>\n",
       "      <th>2</th>\n",
       "      <td>295.418862</td>\n",
       "      <td>-15.854174</td>\n",
       "      <td>22.546281</td>\n",
       "      <td>60218.002715</td>\n",
       "      <td>238.282952</td>\n",
       "      <td>30.0</td>\n",
       "    </tr>\n",
       "    <tr>\n",
       "      <th>3</th>\n",
       "      <td>356.288005</td>\n",
       "      <td>-51.164810</td>\n",
       "      <td>23.128326</td>\n",
       "      <td>60218.004914</td>\n",
       "      <td>129.375130</td>\n",
       "      <td>30.0</td>\n",
       "    </tr>\n",
       "    <tr>\n",
       "      <th>4</th>\n",
       "      <td>0.158759</td>\n",
       "      <td>-53.139864</td>\n",
       "      <td>23.075882</td>\n",
       "      <td>60218.005362</td>\n",
       "      <td>130.108353</td>\n",
       "      <td>30.0</td>\n",
       "    </tr>\n",
       "    <tr>\n",
       "      <th>...</th>\n",
       "      <td>...</td>\n",
       "      <td>...</td>\n",
       "      <td>...</td>\n",
       "      <td>...</td>\n",
       "      <td>...</td>\n",
       "      <td>...</td>\n",
       "    </tr>\n",
       "    <tr>\n",
       "      <th>216115</th>\n",
       "      <td>127.418325</td>\n",
       "      <td>-9.886886</td>\n",
       "      <td>22.575541</td>\n",
       "      <td>60582.395343</td>\n",
       "      <td>147.208171</td>\n",
       "      <td>15.0</td>\n",
       "    </tr>\n",
       "    <tr>\n",
       "      <th>216116</th>\n",
       "      <td>125.666648</td>\n",
       "      <td>-7.743953</td>\n",
       "      <td>22.589142</td>\n",
       "      <td>60582.395579</td>\n",
       "      <td>149.420262</td>\n",
       "      <td>15.0</td>\n",
       "    </tr>\n",
       "    <tr>\n",
       "      <th>216117</th>\n",
       "      <td>127.022962</td>\n",
       "      <td>-4.908917</td>\n",
       "      <td>22.458614</td>\n",
       "      <td>60582.395820</td>\n",
       "      <td>150.936373</td>\n",
       "      <td>15.0</td>\n",
       "    </tr>\n",
       "    <tr>\n",
       "      <th>216118</th>\n",
       "      <td>130.532609</td>\n",
       "      <td>-9.181433</td>\n",
       "      <td>22.447880</td>\n",
       "      <td>60582.396063</td>\n",
       "      <td>146.931615</td>\n",
       "      <td>15.0</td>\n",
       "    </tr>\n",
       "    <tr>\n",
       "      <th>216119</th>\n",
       "      <td>133.615066</td>\n",
       "      <td>-8.435914</td>\n",
       "      <td>22.334321</td>\n",
       "      <td>60582.396304</td>\n",
       "      <td>146.691276</td>\n",
       "      <td>15.0</td>\n",
       "    </tr>\n",
       "  </tbody>\n",
       "</table>\n",
       "<p>216120 rows × 6 columns</p>\n",
       "</div>"
      ],
      "text/plain": [
       "           fieldRA   fieldDec  fiveSigmaDepth  observationStartMJD  \\\n",
       "0       298.603526 -15.574752       22.546480         60218.001806   \n",
       "1       297.035243 -13.144502       22.532127         60218.002260   \n",
       "2       295.418862 -15.854174       22.546281         60218.002715   \n",
       "3       356.288005 -51.164810       23.128326         60218.004914   \n",
       "4         0.158759 -53.139864       23.075882         60218.005362   \n",
       "...            ...        ...             ...                  ...   \n",
       "216115  127.418325  -9.886886       22.575541         60582.395343   \n",
       "216116  125.666648  -7.743953       22.589142         60582.395579   \n",
       "216117  127.022962  -4.908917       22.458614         60582.395820   \n",
       "216118  130.532609  -9.181433       22.447880         60582.396063   \n",
       "216119  133.615066  -8.435914       22.334321         60582.396304   \n",
       "\n",
       "         rotSkyPos  visitExposureTime  \n",
       "0       224.242758               30.0  \n",
       "1       231.080063               30.0  \n",
       "2       238.282952               30.0  \n",
       "3       129.375130               30.0  \n",
       "4       130.108353               30.0  \n",
       "...            ...                ...  \n",
       "216115  147.208171               15.0  \n",
       "216116  149.420262               15.0  \n",
       "216117  150.936373               15.0  \n",
       "216118  146.931615               15.0  \n",
       "216119  146.691276               15.0  \n",
       "\n",
       "[216120 rows x 6 columns]"
      ]
     },
     "execution_count": 5,
     "metadata": {},
     "output_type": "execute_result"
    }
   ],
   "source": [
    "visits"
   ]
  },
  {
   "cell_type": "code",
   "execution_count": 6,
   "id": "e720549b",
   "metadata": {},
   "outputs": [],
   "source": [
    "keys = ['fieldRA', 'fieldDec', 'fiveSigmaDepth', 'observationStartMJD', 'rotSkyPos', 'visitExposureTime']\n",
    "types = [float] * len(keys)\n",
    "\n",
    "numpy_visits = np.zeros(np.size(visits[\"fieldRA\"].values), dtype=list(zip(keys,types)))\n",
    "\n",
    "for key in keys:\n",
    "    numpy_visits[key] = visits[key].values\n",
    "\n"
   ]
  },
  {
   "cell_type": "code",
   "execution_count": 7,
   "id": "e8ec68f7",
   "metadata": {},
   "outputs": [],
   "source": [
    "if os.path.isfile(save_file):\n",
    "    data = np.load(save_file)\n",
    "    streak_lengths = data['streak_lengths'].copy()\n",
    "    n_streaks = data['n_streaks'].copy()\n",
    "    data.close()\n",
    "#else:\n",
    "    #streak_lengths, n_streaks = const.check_pointings(visits[\"fieldRA\"].values,\n",
    "    #                                                     visits[\"fieldDec\"].values,\n",
    "    #                                                     visits[\"observationStartMJD\"].values, visit_time=32.)\n",
    "    #np.savez(save_file, streak_lengths=streak_lengths, n_streaks=n_streaks)"
   ]
  },
  {
   "cell_type": "code",
   "execution_count": 8,
   "id": "18762666",
   "metadata": {},
   "outputs": [
    {
     "data": {
      "text/plain": [
       "array([3, 0, 0, ..., 0, 0, 0])"
      ]
     },
     "execution_count": 8,
     "metadata": {},
     "output_type": "execute_result"
    }
   ],
   "source": [
    "n_streaks"
   ]
  },
  {
   "cell_type": "code",
   "execution_count": 9,
   "id": "4e7e3171",
   "metadata": {},
   "outputs": [
    {
     "data": {
      "text/plain": [
       "(215980,)"
      ]
     },
     "execution_count": 9,
     "metadata": {},
     "output_type": "execute_result"
    }
   ],
   "source": [
    "np.shape(n_streaks)"
   ]
  },
  {
   "cell_type": "code",
   "execution_count": null,
   "id": "b9569411",
   "metadata": {},
   "outputs": [],
   "source": []
  },
  {
   "cell_type": "code",
   "execution_count": 10,
   "id": "a8b7db90",
   "metadata": {},
   "outputs": [],
   "source": [
    "# save so we don't have to grind that out again\n",
    "#if not os.path.isfile('streaks.npz'):\n",
    "#    np.savez('streaks.npz', streak_lengths=streak_lengths, n_streaks=n_streaks)"
   ]
  },
  {
   "cell_type": "code",
   "execution_count": 11,
   "id": "c3a14b71",
   "metadata": {},
   "outputs": [
    {
     "name": "stdout",
     "output_type": "stream",
     "text": [
      "Fractional loss of total exposure= 0.03839980880929899\n"
     ]
    }
   ],
   "source": [
    "# not quite right because I have \n",
    "exptimes = numpy_visits['visitExposureTime']+0\n",
    "exptime_before = np.sum(exptimes)\n",
    "exptimes[np.where(n_streaks > 0)] = exptimes[np.where(n_streaks > 0)]/2.\n",
    "exptime_after = np.sum(exptimes)\n",
    "\n",
    "print('Fractional loss of total exposure=', (exptime_before-exptime_after)/exptime_before)\n"
   ]
  },
  {
   "cell_type": "code",
   "execution_count": null,
   "id": "19fb13d8",
   "metadata": {},
   "outputs": [],
   "source": []
  },
  {
   "cell_type": "code",
   "execution_count": 12,
   "id": "9bc49908",
   "metadata": {},
   "outputs": [
    {
     "name": "stdout",
     "output_type": "stream",
     "text": [
      "fraction of pix lost 0.00041554225423248443\n"
     ]
    }
   ],
   "source": [
    "# what fraction of pixels are lost to streaks with a 1 arcmin mask\n",
    "# \n",
    "pixscale = 0.2 # arcsec/pix\n",
    "tot_pix = 3.2e9 # total pixels in focal plane\n",
    "mask_width = 60 # arcsec\n",
    "\n",
    "print('fraction of pix lost', np.sum(streak_lengths/pixscale*3600 * mask_width /pixscale)/(tot_pix*np.size(streak_lengths)))"
   ]
  },
  {
   "cell_type": "code",
   "execution_count": 13,
   "id": "c6436766",
   "metadata": {},
   "outputs": [
    {
     "name": "stdout",
     "output_type": "stream",
     "text": [
      "fraction of streaked images=  0.07875729234188351\n"
     ]
    }
   ],
   "source": [
    "# fraction of images with a streak\n",
    "print('fraction of streaked images= ', np.where(n_streaks > 0)[0].size/np.size(n_streaks))"
   ]
  },
  {
   "cell_type": "code",
   "execution_count": 14,
   "id": "674d84a9",
   "metadata": {},
   "outputs": [
    {
     "name": "stdout",
     "output_type": "stream",
     "text": [
      "mean streak length 14.774835706043891  (arcmin)\n"
     ]
    }
   ],
   "source": [
    "print('mean streak length', np.mean(streak_lengths)*60, ' (arcmin)') # to arcmin"
   ]
  },
  {
   "cell_type": "code",
   "execution_count": 15,
   "id": "5d2b179b",
   "metadata": {},
   "outputs": [],
   "source": [
    "non_neo = np.where(numpy_visits[\"visitExposureTime\"] > 20)[0]"
   ]
  },
  {
   "cell_type": "code",
   "execution_count": null,
   "id": "8fdbcc1f",
   "metadata": {},
   "outputs": [],
   "source": [
    "print('fraction of pix lost non-NEO', np.sum(streak_lengths[non_neo]/pixscale*3600 * mask_width /pixscale)/(tot_pix*np.size(streak_lengths[non_neo])))"
   ]
  },
  {
   "cell_type": "code",
   "execution_count": null,
   "id": "281533b9",
   "metadata": {},
   "outputs": [],
   "source": []
  },
  {
   "cell_type": "code",
   "execution_count": null,
   "id": "911f7bcf",
   "metadata": {},
   "outputs": [],
   "source": []
  },
  {
   "cell_type": "code",
   "execution_count": null,
   "id": "17c50383",
   "metadata": {},
   "outputs": [],
   "source": []
  }
 ],
 "metadata": {
  "kernelspec": {
   "display_name": "Python 3 (ipykernel)",
   "language": "python",
   "name": "python3"
  },
  "language_info": {
   "codemirror_mode": {
    "name": "ipython",
    "version": 3
   },
   "file_extension": ".py",
   "mimetype": "text/x-python",
   "name": "python",
   "nbconvert_exporter": "python",
   "pygments_lexer": "ipython3",
   "version": "3.11.0"
  }
 },
 "nbformat": 4,
 "nbformat_minor": 5
}
