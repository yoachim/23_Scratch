{
 "cells": [
  {
   "cell_type": "markdown",
   "id": "99f5c3b9",
   "metadata": {},
   "source": [
    "Let's get the stats that maybe everyone can agree on as a start\n"
   ]
  },
  {
   "cell_type": "code",
   "execution_count": 3,
   "id": "5f19e729",
   "metadata": {},
   "outputs": [],
   "source": [
    "import numpy as np\n",
    "import matplotlib.pylab as plt\n",
    "%matplotlib inline\n",
    "from rubin_sim.satellite_constellations import (Constellation, starlink_tles_v2,\n",
    "                                                oneweb_tles,\n",
    "                                                ModelObservatory,\n",
    "                                                SatelliteAvoidBasisFunction)\n",
    "import healpy as hp\n",
    "from rubin_sim.data import get_baseline\n",
    "import pandas as pd\n",
    "import sqlite3\n",
    "import os"
   ]
  },
  {
   "cell_type": "code",
   "execution_count": null,
   "id": "b0b6f821",
   "metadata": {},
   "outputs": [],
   "source": [
    "save_file = 'streaks_all.npz'"
   ]
  },
  {
   "cell_type": "code",
   "execution_count": 5,
   "id": "de83b37c",
   "metadata": {},
   "outputs": [
    {
     "name": "stdout",
     "output_type": "stream",
     "text": [
      "number of satellites=  36360\n"
     ]
    }
   ],
   "source": [
    "# a starlink gen 2 + oneweb\n",
    "tles = starlink_tles_v2() + oneweb_tles()\n",
    "const = Constellation(tles)\n",
    "print('number of satellites= ', len(tles))"
   ]
  },
  {
   "cell_type": "code",
   "execution_count": 3,
   "id": "f3f219f0",
   "metadata": {},
   "outputs": [],
   "source": [
    "baseline = get_baseline()\n",
    "con = sqlite3.connect(baseline)\n",
    "# year 1, no twilight NEO observations\n",
    "visits = pd.read_sql('select fieldRA, fieldDec, fivesigmadepth, observationstartmjd,rotSkyPos from observations where night < 365 and visitexposuretime > 20', con)\n",
    "con.close()"
   ]
  },
  {
   "cell_type": "code",
   "execution_count": 4,
   "id": "77999d71",
   "metadata": {},
   "outputs": [
    {
     "data": {
      "text/html": [
       "<div>\n",
       "<style scoped>\n",
       "    .dataframe tbody tr th:only-of-type {\n",
       "        vertical-align: middle;\n",
       "    }\n",
       "\n",
       "    .dataframe tbody tr th {\n",
       "        vertical-align: top;\n",
       "    }\n",
       "\n",
       "    .dataframe thead th {\n",
       "        text-align: right;\n",
       "    }\n",
       "</style>\n",
       "<table border=\"1\" class=\"dataframe\">\n",
       "  <thead>\n",
       "    <tr style=\"text-align: right;\">\n",
       "      <th></th>\n",
       "      <th>fieldRA</th>\n",
       "      <th>fieldDec</th>\n",
       "      <th>fiveSigmaDepth</th>\n",
       "      <th>observationStartMJD</th>\n",
       "      <th>rotSkyPos</th>\n",
       "    </tr>\n",
       "  </thead>\n",
       "  <tbody>\n",
       "    <tr>\n",
       "      <th>0</th>\n",
       "      <td>356.288005</td>\n",
       "      <td>-51.164810</td>\n",
       "      <td>23.128326</td>\n",
       "      <td>60218.004914</td>\n",
       "      <td>129.375130</td>\n",
       "    </tr>\n",
       "    <tr>\n",
       "      <th>1</th>\n",
       "      <td>0.158759</td>\n",
       "      <td>-53.139864</td>\n",
       "      <td>23.075882</td>\n",
       "      <td>60218.005362</td>\n",
       "      <td>130.108353</td>\n",
       "    </tr>\n",
       "    <tr>\n",
       "      <th>2</th>\n",
       "      <td>4.323837</td>\n",
       "      <td>-51.858683</td>\n",
       "      <td>23.147026</td>\n",
       "      <td>60218.005810</td>\n",
       "      <td>134.437221</td>\n",
       "    </tr>\n",
       "    <tr>\n",
       "      <th>3</th>\n",
       "      <td>4.386324</td>\n",
       "      <td>-54.962388</td>\n",
       "      <td>23.149994</td>\n",
       "      <td>60218.006256</td>\n",
       "      <td>131.810738</td>\n",
       "    </tr>\n",
       "    <tr>\n",
       "      <th>4</th>\n",
       "      <td>4.380452</td>\n",
       "      <td>-58.068073</td>\n",
       "      <td>23.201271</td>\n",
       "      <td>60218.006702</td>\n",
       "      <td>129.126645</td>\n",
       "    </tr>\n",
       "    <tr>\n",
       "      <th>...</th>\n",
       "      <td>...</td>\n",
       "      <td>...</td>\n",
       "      <td>...</td>\n",
       "      <td>...</td>\n",
       "      <td>...</td>\n",
       "    </tr>\n",
       "    <tr>\n",
       "      <th>44392</th>\n",
       "      <td>41.038265</td>\n",
       "      <td>-3.628448</td>\n",
       "      <td>23.930048</td>\n",
       "      <td>60582.374718</td>\n",
       "      <td>250.109668</td>\n",
       "    </tr>\n",
       "    <tr>\n",
       "      <th>44393</th>\n",
       "      <td>45.759568</td>\n",
       "      <td>-0.586964</td>\n",
       "      <td>23.933535</td>\n",
       "      <td>60582.375179</td>\n",
       "      <td>243.746554</td>\n",
       "    </tr>\n",
       "    <tr>\n",
       "      <th>44394</th>\n",
       "      <td>55.829011</td>\n",
       "      <td>2.654325</td>\n",
       "      <td>23.969454</td>\n",
       "      <td>60582.375701</td>\n",
       "      <td>230.577839</td>\n",
       "    </tr>\n",
       "    <tr>\n",
       "      <th>44395</th>\n",
       "      <td>60.036482</td>\n",
       "      <td>-3.725642</td>\n",
       "      <td>24.076105</td>\n",
       "      <td>60582.376165</td>\n",
       "      <td>229.067558</td>\n",
       "    </tr>\n",
       "    <tr>\n",
       "      <th>44396</th>\n",
       "      <td>66.130442</td>\n",
       "      <td>-5.283146</td>\n",
       "      <td>23.999822</td>\n",
       "      <td>60582.376646</td>\n",
       "      <td>219.819418</td>\n",
       "    </tr>\n",
       "  </tbody>\n",
       "</table>\n",
       "<p>44397 rows × 5 columns</p>\n",
       "</div>"
      ],
      "text/plain": [
       "          fieldRA   fieldDec  fiveSigmaDepth  observationStartMJD   rotSkyPos\n",
       "0      356.288005 -51.164810       23.128326         60218.004914  129.375130\n",
       "1        0.158759 -53.139864       23.075882         60218.005362  130.108353\n",
       "2        4.323837 -51.858683       23.147026         60218.005810  134.437221\n",
       "3        4.386324 -54.962388       23.149994         60218.006256  131.810738\n",
       "4        4.380452 -58.068073       23.201271         60218.006702  129.126645\n",
       "...           ...        ...             ...                  ...         ...\n",
       "44392   41.038265  -3.628448       23.930048         60582.374718  250.109668\n",
       "44393   45.759568  -0.586964       23.933535         60582.375179  243.746554\n",
       "44394   55.829011   2.654325       23.969454         60582.375701  230.577839\n",
       "44395   60.036482  -3.725642       24.076105         60582.376165  229.067558\n",
       "44396   66.130442  -5.283146       23.999822         60582.376646  219.819418\n",
       "\n",
       "[44397 rows x 5 columns]"
      ]
     },
     "execution_count": 4,
     "metadata": {},
     "output_type": "execute_result"
    }
   ],
   "source": [
    "visits"
   ]
  },
  {
   "cell_type": "code",
   "execution_count": 5,
   "id": "e720549b",
   "metadata": {},
   "outputs": [],
   "source": [
    "keys = ['fieldRA', 'fieldDec', 'fiveSigmaDepth', 'observationStartMJD', 'rotSkyPos']\n",
    "types = [float] * len(keys)\n",
    "\n",
    "numpy_visits = np.zeros(np.size(visits[\"fieldRA\"].values), dtype=list(zip(keys,types)))\n",
    "\n",
    "for key in keys:\n",
    "    numpy_visits[key] = visits[key].values\n",
    "\n"
   ]
  },
  {
   "cell_type": "code",
   "execution_count": 6,
   "id": "e8ec68f7",
   "metadata": {},
   "outputs": [],
   "source": [
    "if os.path.isfile(save_file):\n",
    "    data = np.load(save_file)\n",
    "    streak_lengths = data['streak_lengths'].copy()\n",
    "    n_streaks = data['n_streaks'].copy()\n",
    "    data.close\n",
    "else:\n",
    "    streak_lengths, n_streaks = const.check_pointings(visits[\"fieldRA\"].values,\n",
    "                                                         visits[\"fieldDec\"].values,\n",
    "                                                         visits[\"observationStartMJD\"].values, visit_time=32.)"
   ]
  },
  {
   "cell_type": "code",
   "execution_count": 7,
   "id": "18762666",
   "metadata": {},
   "outputs": [
    {
     "data": {
      "text/plain": [
       "array([1, 1, 0, ..., 0, 0, 1])"
      ]
     },
     "execution_count": 7,
     "metadata": {},
     "output_type": "execute_result"
    }
   ],
   "source": [
    "n_streaks"
   ]
  },
  {
   "cell_type": "code",
   "execution_count": 8,
   "id": "4e7e3171",
   "metadata": {},
   "outputs": [],
   "source": []
  },
  {
   "cell_type": "code",
   "execution_count": null,
   "id": "b9569411",
   "metadata": {},
   "outputs": [],
   "source": []
  },
  {
   "cell_type": "code",
   "execution_count": 17,
   "id": "a8b7db90",
   "metadata": {},
   "outputs": [],
   "source": [
    "# save so we don't have to grind that out again\n",
    "if not os.path.isfile('streaks.npz'):\n",
    "    np.savez('streaks.npz', streak_lengths=streak_lengths, n_streaks=n_streaks)"
   ]
  },
  {
   "cell_type": "code",
   "execution_count": 19,
   "id": "c3a14b71",
   "metadata": {},
   "outputs": [
    {
     "name": "stdout",
     "output_type": "stream",
     "text": [
      "Fractional loss of total exposure= 0.02656711039034169\n"
     ]
    }
   ],
   "source": [
    "exptimes = numpy_visits['fieldRA']*0+30\n",
    "exptime_before = np.sum(exptimes)\n",
    "exptimes[np.where(n_streaks > 0)] -= 15\n",
    "exptime_after = np.sum(exptimes)\n",
    "\n",
    "print('Fractional loss of total exposure=', (exptime_before-exptime_after)/exptime_before)\n"
   ]
  },
  {
   "cell_type": "code",
   "execution_count": null,
   "id": "19fb13d8",
   "metadata": {},
   "outputs": [],
   "source": []
  },
  {
   "cell_type": "code",
   "execution_count": 20,
   "id": "9bc49908",
   "metadata": {},
   "outputs": [
    {
     "name": "stdout",
     "output_type": "stream",
     "text": [
      "fraction of pix lost 0.0002808929369348757\n"
     ]
    }
   ],
   "source": [
    "# what fraction of pixels are lost to streaks with a 1 arcmin mask\n",
    "# \n",
    "pixscale = 0.2 # arcsec/pix\n",
    "tot_pix = 3.2e9 # total pixels in focal plane\n",
    "mask_width = 60 # arcsec\n",
    "\n",
    "print('fraction of pix lost', np.sum(streak_lengths/pixscale*3600 * mask_width /pixscale)/(tot_pix*np.size(streak_lengths)))"
   ]
  },
  {
   "cell_type": "code",
   "execution_count": 21,
   "id": "c6436766",
   "metadata": {},
   "outputs": [
    {
     "data": {
      "text/plain": [
       "0.05313422078068338"
      ]
     },
     "execution_count": 21,
     "metadata": {},
     "output_type": "execute_result"
    }
   ],
   "source": [
    "# fraction of images with a streak\n",
    "print('fraction of streaked images= ', np.where(n_streaks > 0)[0].size/np.size(n_streaks))"
   ]
  },
  {
   "cell_type": "code",
   "execution_count": 22,
   "id": "674d84a9",
   "metadata": {},
   "outputs": [
    {
     "data": {
      "text/plain": [
       "9.987304424351137"
      ]
     },
     "execution_count": 22,
     "metadata": {},
     "output_type": "execute_result"
    }
   ],
   "source": [
    "print('mean streak length', np.mean(streak_lengths)*60, ' (arcmin)') # to arcmin"
   ]
  },
  {
   "cell_type": "code",
   "execution_count": null,
   "id": "5d2b179b",
   "metadata": {},
   "outputs": [],
   "source": []
  },
  {
   "cell_type": "code",
   "execution_count": null,
   "id": "8fdbcc1f",
   "metadata": {},
   "outputs": [],
   "source": []
  }
 ],
 "metadata": {
  "kernelspec": {
   "display_name": "Python 3 (ipykernel)",
   "language": "python",
   "name": "python3"
  },
  "language_info": {
   "codemirror_mode": {
    "name": "ipython",
    "version": 3
   },
   "file_extension": ".py",
   "mimetype": "text/x-python",
   "name": "python",
   "nbconvert_exporter": "python",
   "pygments_lexer": "ipython3",
   "version": "3.11.0"
  }
 },
 "nbformat": 4,
 "nbformat_minor": 5
}
