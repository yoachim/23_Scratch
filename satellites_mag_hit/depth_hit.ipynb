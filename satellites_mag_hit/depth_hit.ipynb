{
 "cells": [
  {
   "cell_type": "markdown",
   "id": "28d790d8",
   "metadata": {},
   "source": [
    "Check which observations are hit, say those can only have 1 snap used and thus have a 0.37 mag depth penalty\n",
    "\n",
    "Using\n",
    "\n",
    "* 30k Starlink v2 constellation\n",
    "* 1st year of observations in r\n",
    "* If a visit has a streak, give five-sigma depth a 0.37 mag penalty\n"
   ]
  },
  {
   "cell_type": "code",
   "execution_count": 2,
   "id": "08dcc8c2",
   "metadata": {},
   "outputs": [],
   "source": [
    "import numpy as np\n",
    "import matplotlib.pylab as plt\n",
    "%matplotlib inline\n",
    "from rubin_sim.satellite_constellations import (Constellation, starlink_tles_v2,\n",
    "                                                ModelObservatory,\n",
    "                                                SatelliteAvoidBasisFunction)\n",
    "import healpy as hp\n",
    "from rubin_sim.data import get_baseline\n",
    "import pandas as pd\n",
    "import sqlite3"
   ]
  },
  {
   "cell_type": "code",
   "execution_count": 3,
   "id": "6d10109e",
   "metadata": {},
   "outputs": [
    {
     "data": {
      "text/plain": [
       "29988"
      ]
     },
     "execution_count": 3,
     "metadata": {},
     "output_type": "execute_result"
    }
   ],
   "source": [
    "tles = starlink_tles_v2()\n",
    "const = Constellation(tles)\n",
    "len(tles)"
   ]
  },
  {
   "cell_type": "code",
   "execution_count": 4,
   "id": "e101323f",
   "metadata": {},
   "outputs": [],
   "source": [
    "baseline = get_baseline()\n",
    "con = sqlite3.connect(baseline)\n",
    "visits = pd.read_sql('select fieldRA, fieldDec, fivesigmadepth, observationstartmjd,rotSkyPos from observations where night < 365 and visitexposuretime > 20 and filter=\"r\"', con)\n",
    "con.close()"
   ]
  },
  {
   "cell_type": "code",
   "execution_count": 5,
   "id": "09c78e69",
   "metadata": {},
   "outputs": [
    {
     "data": {
      "text/html": [
       "<div>\n",
       "<style scoped>\n",
       "    .dataframe tbody tr th:only-of-type {\n",
       "        vertical-align: middle;\n",
       "    }\n",
       "\n",
       "    .dataframe tbody tr th {\n",
       "        vertical-align: top;\n",
       "    }\n",
       "\n",
       "    .dataframe thead th {\n",
       "        text-align: right;\n",
       "    }\n",
       "</style>\n",
       "<table border=\"1\" class=\"dataframe\">\n",
       "  <thead>\n",
       "    <tr style=\"text-align: right;\">\n",
       "      <th></th>\n",
       "      <th>fieldRA</th>\n",
       "      <th>fieldDec</th>\n",
       "      <th>fiveSigmaDepth</th>\n",
       "      <th>observationStartMJD</th>\n",
       "      <th>rotSkyPos</th>\n",
       "    </tr>\n",
       "  </thead>\n",
       "  <tbody>\n",
       "    <tr>\n",
       "      <th>0</th>\n",
       "      <td>356.288005</td>\n",
       "      <td>-51.164810</td>\n",
       "      <td>23.128326</td>\n",
       "      <td>60218.004914</td>\n",
       "      <td>129.375130</td>\n",
       "    </tr>\n",
       "    <tr>\n",
       "      <th>1</th>\n",
       "      <td>0.158759</td>\n",
       "      <td>-53.139864</td>\n",
       "      <td>23.075882</td>\n",
       "      <td>60218.005362</td>\n",
       "      <td>130.108353</td>\n",
       "    </tr>\n",
       "    <tr>\n",
       "      <th>2</th>\n",
       "      <td>4.323837</td>\n",
       "      <td>-51.858683</td>\n",
       "      <td>23.147026</td>\n",
       "      <td>60218.005810</td>\n",
       "      <td>134.437221</td>\n",
       "    </tr>\n",
       "    <tr>\n",
       "      <th>3</th>\n",
       "      <td>4.386324</td>\n",
       "      <td>-54.962388</td>\n",
       "      <td>23.149994</td>\n",
       "      <td>60218.006256</td>\n",
       "      <td>131.810738</td>\n",
       "    </tr>\n",
       "    <tr>\n",
       "      <th>4</th>\n",
       "      <td>4.380452</td>\n",
       "      <td>-58.068073</td>\n",
       "      <td>23.201271</td>\n",
       "      <td>60218.006702</td>\n",
       "      <td>129.126645</td>\n",
       "    </tr>\n",
       "    <tr>\n",
       "      <th>...</th>\n",
       "      <td>...</td>\n",
       "      <td>...</td>\n",
       "      <td>...</td>\n",
       "      <td>...</td>\n",
       "      <td>...</td>\n",
       "    </tr>\n",
       "    <tr>\n",
       "      <th>44392</th>\n",
       "      <td>41.038265</td>\n",
       "      <td>-3.628448</td>\n",
       "      <td>23.930048</td>\n",
       "      <td>60582.374718</td>\n",
       "      <td>250.109668</td>\n",
       "    </tr>\n",
       "    <tr>\n",
       "      <th>44393</th>\n",
       "      <td>45.759568</td>\n",
       "      <td>-0.586964</td>\n",
       "      <td>23.933535</td>\n",
       "      <td>60582.375179</td>\n",
       "      <td>243.746554</td>\n",
       "    </tr>\n",
       "    <tr>\n",
       "      <th>44394</th>\n",
       "      <td>55.829011</td>\n",
       "      <td>2.654325</td>\n",
       "      <td>23.969454</td>\n",
       "      <td>60582.375701</td>\n",
       "      <td>230.577839</td>\n",
       "    </tr>\n",
       "    <tr>\n",
       "      <th>44395</th>\n",
       "      <td>60.036482</td>\n",
       "      <td>-3.725642</td>\n",
       "      <td>24.076105</td>\n",
       "      <td>60582.376165</td>\n",
       "      <td>229.067558</td>\n",
       "    </tr>\n",
       "    <tr>\n",
       "      <th>44396</th>\n",
       "      <td>66.130442</td>\n",
       "      <td>-5.283146</td>\n",
       "      <td>23.999822</td>\n",
       "      <td>60582.376646</td>\n",
       "      <td>219.819418</td>\n",
       "    </tr>\n",
       "  </tbody>\n",
       "</table>\n",
       "<p>44397 rows × 5 columns</p>\n",
       "</div>"
      ],
      "text/plain": [
       "          fieldRA   fieldDec  fiveSigmaDepth  observationStartMJD   rotSkyPos\n",
       "0      356.288005 -51.164810       23.128326         60218.004914  129.375130\n",
       "1        0.158759 -53.139864       23.075882         60218.005362  130.108353\n",
       "2        4.323837 -51.858683       23.147026         60218.005810  134.437221\n",
       "3        4.386324 -54.962388       23.149994         60218.006256  131.810738\n",
       "4        4.380452 -58.068073       23.201271         60218.006702  129.126645\n",
       "...           ...        ...             ...                  ...         ...\n",
       "44392   41.038265  -3.628448       23.930048         60582.374718  250.109668\n",
       "44393   45.759568  -0.586964       23.933535         60582.375179  243.746554\n",
       "44394   55.829011   2.654325       23.969454         60582.375701  230.577839\n",
       "44395   60.036482  -3.725642       24.076105         60582.376165  229.067558\n",
       "44396   66.130442  -5.283146       23.999822         60582.376646  219.819418\n",
       "\n",
       "[44397 rows x 5 columns]"
      ]
     },
     "execution_count": 5,
     "metadata": {},
     "output_type": "execute_result"
    }
   ],
   "source": [
    "visits"
   ]
  },
  {
   "cell_type": "code",
   "execution_count": 6,
   "id": "bfc5b48b",
   "metadata": {},
   "outputs": [],
   "source": [
    "keys = ['fieldRA', 'fieldDec', 'fiveSigmaDepth', 'observationStartMJD', 'rotSkyPos']\n",
    "types = [float] * len(keys)\n",
    "\n",
    "numpy_visits = np.zeros(np.size(visits[\"fieldRA\"].values), dtype=list(zip(keys,types)))\n",
    "\n",
    "for key in keys:\n",
    "    numpy_visits[key] = visits[key].values\n",
    "\n"
   ]
  },
  {
   "cell_type": "code",
   "execution_count": null,
   "id": "338df2c6",
   "metadata": {},
   "outputs": [],
   "source": [
    "streak_lengths, n_streaks = const.check_pointings(visits[\"fieldRA\"].values,\n",
    "                                                         visits[\"fieldDec\"].values,\n",
    "                                                         visits[\"observationStartMJD\"].values, visit_time=32.)"
   ]
  },
  {
   "cell_type": "code",
   "execution_count": null,
   "id": "c678d2b1",
   "metadata": {},
   "outputs": [],
   "source": [
    "n_streaks"
   ]
  },
  {
   "cell_type": "code",
   "execution_count": null,
   "id": "e6376015",
   "metadata": {},
   "outputs": [],
   "source": [
    "# let's compute the depth for the things\n",
    "import rubin_sim.maf as maf"
   ]
  },
  {
   "cell_type": "code",
   "execution_count": null,
   "id": "48160451",
   "metadata": {},
   "outputs": [],
   "source": [
    "metric = maf.Coaddm5Metric()\n",
    "slicer = maf.HealpixSlicer()\n",
    "sql = None\n",
    "bundle = maf.MetricBundle(metric, slicer, sql)\n",
    "\n",
    "bd = {1: bundle}\n",
    "mbg = maf.MetricBundleGroup(bd, None, \"temp\")\n",
    "mbg.run_current(None, sim_data=numpy_visits)"
   ]
  },
  {
   "cell_type": "code",
   "execution_count": null,
   "id": "5314f07b",
   "metadata": {},
   "outputs": [],
   "source": [
    "hp.mollview(bundle.metric_values, unit='r mag', title='coadd, no streaks')"
   ]
  },
  {
   "cell_type": "code",
   "execution_count": null,
   "id": "8ab78fef",
   "metadata": {},
   "outputs": [],
   "source": [
    "penalty = 0.37\n",
    "\n",
    "numpy_visits_penalized = numpy_visits.copy()\n",
    "numpy_visits_penalized['fiveSigmaDepth'][np.where(n_streaks > 0)] -= penalty\n",
    "\n",
    "\n",
    "bundle2 = maf.MetricBundle(metric, slicer, sql)\n",
    "bd = {1: bundle2}\n",
    "mbg = maf.MetricBundleGroup(bd, None, \"temp\")\n",
    "mbg.run_current(None, sim_data=numpy_visits_penalized)"
   ]
  },
  {
   "cell_type": "code",
   "execution_count": null,
   "id": "595d292c",
   "metadata": {},
   "outputs": [],
   "source": [
    "hp.mollview(bundle2.metric_values, unit='r mag', title='coadd, streaks')"
   ]
  },
  {
   "cell_type": "code",
   "execution_count": null,
   "id": "3cc2c785",
   "metadata": {},
   "outputs": [],
   "source": [
    "mag_diff = bundle2.metric_values - bundle.metric_values"
   ]
  },
  {
   "cell_type": "code",
   "execution_count": null,
   "id": "f20a4d48",
   "metadata": {},
   "outputs": [],
   "source": [
    "hp.mollview(mag_diff, title='Change in coadded depth, r', unit='mag')"
   ]
  },
  {
   "cell_type": "code",
   "execution_count": null,
   "id": "385535b3",
   "metadata": {},
   "outputs": [],
   "source": [
    "_temp=plt.hist(mag_diff, bins=50)\n",
    "plt.xlabel('mag')\n",
    "plt.ylabel('N pix')\n"
   ]
  },
  {
   "cell_type": "code",
   "execution_count": null,
   "id": "19c7035f",
   "metadata": {},
   "outputs": [],
   "source": [
    "print('median change in depth', np.median(mag_diff[np.isfinite(mag_diff)]), ' mags')\n",
    "print('mean change in depth', np.mean(mag_diff[np.isfinite(mag_diff)]), ' mags')"
   ]
  },
  {
   "cell_type": "code",
   "execution_count": null,
   "id": "fd5e099d",
   "metadata": {},
   "outputs": [],
   "source": []
  }
 ],
 "metadata": {
  "kernelspec": {
   "display_name": "Python 3 (ipykernel)",
   "language": "python",
   "name": "python3"
  },
  "language_info": {
   "codemirror_mode": {
    "name": "ipython",
    "version": 3
   },
   "file_extension": ".py",
   "mimetype": "text/x-python",
   "name": "python",
   "nbconvert_exporter": "python",
   "pygments_lexer": "ipython3",
   "version": "3.11.0"
  }
 },
 "nbformat": 4,
 "nbformat_minor": 5
}
