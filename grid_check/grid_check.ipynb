{
 "cells": [
  {
   "cell_type": "code",
   "execution_count": 1,
   "id": "87b5525c-b28f-4adc-aa99-987b50c55755",
   "metadata": {},
   "outputs": [],
   "source": [
    "from rubin_sim.skybrightness import TwilightInterp\n",
    "import numpy as np"
   ]
  },
  {
   "cell_type": "code",
   "execution_count": 2,
   "id": "c3c444cb-a57e-4b17-97f1-ba05b9ffdf2e",
   "metadata": {},
   "outputs": [],
   "source": [
    "ti = TwilightInterp(mags=True)"
   ]
  },
  {
   "cell_type": "code",
   "execution_count": 3,
   "id": "64d1da41-4257-45c1-9197-ee69de78fcc2",
   "metadata": {},
   "outputs": [],
   "source": [
    "names = ['sunAlt', 'airmass', 'azRelSun']\n",
    "types = [float]*3\n",
    "\n",
    "interp_points = np.zeros(10, dtype=list(zip(names,types)))\n",
    "\n",
    "interp_points['sunAlt'] = np.radians(np.linspace(-12,-18,10))\n",
    "interp_points['airmass'] = np.linspace(1,2.5,10)\n",
    "\n",
    "interp_points['azRelSun'] = 0.\n"
   ]
  },
  {
   "cell_type": "code",
   "execution_count": 4,
   "id": "5542b028-a5d2-4272-a3d5-885be3a6e88c",
   "metadata": {},
   "outputs": [
    {
     "data": {
      "text/plain": [
       "{'spec': array([[3.22203670e-07, 2.20117945e-07, 1.62280537e-07, 4.55670959e-07,\n",
       "         1.15836648e-06, 3.34996674e-06],\n",
       "        [2.18062287e-07, 1.49080252e-07, 1.14388319e-07, 3.13919646e-07,\n",
       "         7.65001804e-07, 2.21236599e-06],\n",
       "        [1.47581066e-07, 1.00968241e-07, 8.06300483e-08, 2.16264702e-07,\n",
       "         5.05218141e-07, 1.46107816e-06],\n",
       "        [9.98805038e-08, 6.83832060e-08, 5.68345155e-08, 1.48988513e-07,\n",
       "         3.33653292e-07, 9.64916932e-07],\n",
       "        [6.75975266e-08, 4.63141958e-08, 4.00615183e-08, 1.02640777e-07,\n",
       "         2.20349410e-07, 6.37244954e-07],\n",
       "        [4.57489242e-08, 3.13674198e-08, 2.82385665e-08, 7.07110160e-08,\n",
       "         1.45521904e-07, 4.20845689e-07],\n",
       "        [3.09621397e-08, 2.12443508e-08, 1.99048033e-08, 4.87140484e-08,\n",
       "         9.61047485e-08, 2.77932517e-07],\n",
       "        [2.09546807e-08, 1.43882553e-08, 1.40304995e-08, 3.35599549e-08,\n",
       "         6.34689515e-08, 1.83550612e-07],\n",
       "        [1.41817925e-08, 9.74479716e-09, 9.88981971e-09, 2.31200364e-08,\n",
       "         4.19158040e-08, 1.21219451e-07],\n",
       "        [9.59801023e-09, 6.59990178e-09, 6.97113698e-09, 1.59277951e-08,\n",
       "         2.76817969e-08, 8.00550608e-08]]),\n",
       " 'wave': [365.97298135970726,\n",
       "  476.0495239619527,\n",
       "  620.4615000854376,\n",
       "  752.3381201574522,\n",
       "  868.0252612207465,\n",
       "  972.573072322677]}"
      ]
     },
     "execution_count": 4,
     "metadata": {},
     "output_type": "execute_result"
    }
   ],
   "source": [
    "ti(interp_points)"
   ]
  },
  {
   "cell_type": "code",
   "execution_count": 20,
   "id": "dc94531d-7989-431b-8058-be5d88e93588",
   "metadata": {},
   "outputs": [
    {
     "data": {
      "text/plain": [
       "{'spec': array([[3.22203670e-07, 2.20395637e-07, 1.62422709e-07, 4.56373394e-07,\n",
       "         1.15836648e-06, 3.34996674e-06],\n",
       "        [2.18062287e-07, 1.49268348e-07, 1.14487816e-07, 3.14394975e-07,\n",
       "         7.65001804e-07, 2.21236599e-06],\n",
       "        [1.47581066e-07, 1.01095647e-07, 8.06996765e-08, 2.16586246e-07,\n",
       "         5.05218141e-07, 1.46107816e-06],\n",
       "        [9.98805038e-08, 6.84695051e-08, 5.68832387e-08, 1.49205954e-07,\n",
       "         3.33653292e-07, 9.64916932e-07],\n",
       "        [6.75975266e-08, 4.63726507e-08, 4.00956111e-08, 1.02787767e-07,\n",
       "         2.20349410e-07, 6.37244954e-07],\n",
       "        [4.57489242e-08, 3.14070143e-08, 2.82624208e-08, 7.08103448e-08,\n",
       "         1.45521904e-07, 4.20845689e-07],\n",
       "        [3.09621397e-08, 2.12711703e-08, 1.99214929e-08, 4.87811447e-08,\n",
       "         9.61047485e-08, 2.77932517e-07],\n",
       "        [2.09546807e-08, 1.44064215e-08, 1.40421757e-08, 3.36052605e-08,\n",
       "         6.34689515e-08, 1.83550612e-07],\n",
       "        [1.41817925e-08, 9.75710209e-09, 9.89798800e-09, 2.31506156e-08,\n",
       "         4.19158040e-08, 1.21219451e-07],\n",
       "        [9.59801023e-09, 6.60823655e-09, 6.97685094e-09, 1.59484258e-08,\n",
       "         2.76817969e-08, 8.00550608e-08]]),\n",
       " 'wave': [365.97298135970726,\n",
       "  476.0495239619527,\n",
       "  620.4615000854376,\n",
       "  752.3381201574522,\n",
       "  868.0252612207465,\n",
       "  972.573072322677]}"
      ]
     },
     "execution_count": 20,
     "metadata": {},
     "output_type": "execute_result"
    }
   ],
   "source": [
    "ti(interp_points)"
   ]
  },
  {
   "cell_type": "code",
   "execution_count": 12,
   "id": "bcedcbe5-e1f0-4384-ac0d-fbc79484fe40",
   "metadata": {},
   "outputs": [
    {
     "data": {
      "text/plain": [
       "0.9987400295043045"
      ]
     },
     "execution_count": 12,
     "metadata": {},
     "output_type": "execute_result"
    }
   ],
   "source": [
    "1+(2.20117945-2.20395637)/2.20395637"
   ]
  },
  {
   "cell_type": "code",
   "execution_count": null,
   "id": "109b34ea-5d5a-44ad-bc7d-916fcb49f949",
   "metadata": {},
   "outputs": [],
   "source": []
  }
 ],
 "metadata": {
  "kernelspec": {
   "display_name": "Python 3 (ipykernel)",
   "language": "python",
   "name": "python3"
  },
  "language_info": {
   "codemirror_mode": {
    "name": "ipython",
    "version": 3
   },
   "file_extension": ".py",
   "mimetype": "text/x-python",
   "name": "python",
   "nbconvert_exporter": "python",
   "pygments_lexer": "ipython3",
   "version": "3.11.4"
  }
 },
 "nbformat": 4,
 "nbformat_minor": 5
}
