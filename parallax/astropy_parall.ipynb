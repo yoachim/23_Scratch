{
 "cells": [
  {
   "cell_type": "code",
   "execution_count": 31,
   "id": "32b3b7c7-5d7f-4c4a-8139-700639fda2e8",
   "metadata": {},
   "outputs": [],
   "source": [
    "import numpy as np\n",
    "\n",
    "import astropy.units as u\n",
    "\n",
    "from astropy.time import Time\n",
    "\n",
    "from astropy.coordinates import SkyCoord, HeliocentricMeanEcliptic, ICRS, GeocentricMeanEcliptic, GCRS\n",
    "\n",
    "import matplotlib.pylab as plt\n",
    "%matplotlib inline"
   ]
  },
  {
   "cell_type": "code",
   "execution_count": 2,
   "id": "d431d0ac-4d9e-47c9-82d2-3393ebee0147",
   "metadata": {},
   "outputs": [],
   "source": [
    "c = SkyCoord(10*u.degree,-20*u.degree, distance=1*u.pc, pm_ra_cosdec=0*u.mas/u.yr, pm_dec=0*u.mas/u.yr,\n",
    "             obstime=Time('2025-01-01 00:00:00'))"
   ]
  },
  {
   "cell_type": "code",
   "execution_count": null,
   "id": "7f0adf08-b326-4926-ae23-9d74221d60e1",
   "metadata": {},
   "outputs": [],
   "source": []
  },
  {
   "cell_type": "code",
   "execution_count": 3,
   "id": "75945b25-a244-4f81-bcb8-e99f39949dcb",
   "metadata": {},
   "outputs": [],
   "source": [
    "mjds = np.arange(0,1+.1,.1) + Time('2025-01-01 00:00:00').mjd"
   ]
  },
  {
   "cell_type": "code",
   "execution_count": 4,
   "id": "03f863df-5bc4-4200-aaf6-5df67711987e",
   "metadata": {},
   "outputs": [],
   "source": [
    "times = Time(mjds, format='mjd')"
   ]
  },
  {
   "cell_type": "code",
   "execution_count": 5,
   "id": "14d4af0f-ee41-495a-82df-f00ba7152ebf",
   "metadata": {},
   "outputs": [],
   "source": [
    "new_c = c.apply_space_motion(new_obstime=times)"
   ]
  },
  {
   "cell_type": "code",
   "execution_count": 6,
   "id": "9ab82704-09bd-4f74-be5b-ba8bc4fc5edb",
   "metadata": {},
   "outputs": [
    {
     "data": {
      "text/latex": [
       "[$-20^\\circ00{}^\\prime00{}^{\\prime\\prime}$\n",
       " $-20^\\circ00{}^\\prime00{}^{\\prime\\prime}$\n",
       " $-20^\\circ00{}^\\prime00{}^{\\prime\\prime}$\n",
       " $-20^\\circ00{}^\\prime00{}^{\\prime\\prime}$\n",
       " $-20^\\circ00{}^\\prime00{}^{\\prime\\prime}$\n",
       " $-20^\\circ00{}^\\prime00{}^{\\prime\\prime}$\n",
       " $-20^\\circ00{}^\\prime00{}^{\\prime\\prime}$\n",
       " $-20^\\circ00{}^\\prime00{}^{\\prime\\prime}$\n",
       " $-20^\\circ00{}^\\prime00{}^{\\prime\\prime}$\n",
       " $-20^\\circ00{}^\\prime00{}^{\\prime\\prime}$\n",
       " $-20^\\circ00{}^\\prime00{}^{\\prime\\prime}$]"
      ],
      "text/plain": [
       "<Latitude [-20., -20., -20., -20., -20., -20., -20., -20., -20., -20.,\n",
       "           -20.] deg>"
      ]
     },
     "execution_count": 6,
     "metadata": {},
     "output_type": "execute_result"
    }
   ],
   "source": [
    "new_c.dec"
   ]
  },
  {
   "cell_type": "code",
   "execution_count": 7,
   "id": "a5c1c3e9-8b21-4fb9-889c-b2f9cc9995ae",
   "metadata": {},
   "outputs": [],
   "source": [
    "c = HeliocentricMeanEcliptic(10*u.degree,-20*u.degree, distance=1*u.pc, pm_lon_coslat=0*u.mas/u.yr, pm_lat=0*u.mas/u.yr,\n",
    "             obstime=Time('2025-01-01 00:00:00'))"
   ]
  },
  {
   "cell_type": "code",
   "execution_count": 8,
   "id": "2a8bfb68-2887-4718-9a18-da8d4f99012f",
   "metadata": {},
   "outputs": [],
   "source": [
    "c = HeliocentricMeanEcliptic(10*u.degree,-20*u.degree, distance=1*u.pc, pm_lon_coslat=0*u.mas/u.yr, pm_lat=0*u.mas/u.yr,\n",
    "             obstime=Time('2025-01-01 00:00:00'))"
   ]
  },
  {
   "cell_type": "code",
   "execution_count": null,
   "id": "b5242fba-2721-42a1-8bac-bfaf2e2812c4",
   "metadata": {},
   "outputs": [],
   "source": []
  },
  {
   "cell_type": "code",
   "execution_count": 10,
   "id": "fc17ec6b-2a40-400c-aa85-16cc144be49e",
   "metadata": {},
   "outputs": [],
   "source": [
    "c = SkyCoord(10*u.degree,-20*u.degree, distance=1000*u.pc, #distance=1*u.pc, pm_ra_cosdec=0*u.mas/u.yr, pm_dec=0*u.mas/u.yr,\n",
    "             obstime=Time('2025-01-01 00:00:00'))"
   ]
  },
  {
   "cell_type": "code",
   "execution_count": 11,
   "id": "1410fc7e-7408-4d72-bea2-25e26025436c",
   "metadata": {},
   "outputs": [
    {
     "data": {
      "text/plain": [
       "<SkyCoord (HeliocentricMeanEcliptic: equinox=J2000.000, obstime=2025-01-01 00:00:00.000): (lon, lat, distance) in (deg, deg, pc)\n",
       "    (0.84587924, -22.25349589, 1000.00000003)>"
      ]
     },
     "execution_count": 11,
     "metadata": {},
     "output_type": "execute_result"
    }
   ],
   "source": [
    "c.transform_to(HeliocentricMeanEcliptic)"
   ]
  },
  {
   "cell_type": "code",
   "execution_count": 17,
   "id": "ebf17268-50bd-494a-8d09-65d2ad44d76b",
   "metadata": {},
   "outputs": [],
   "source": [
    "c = SkyCoord(10*u.degree,-20*u.degree, distance=1000*u.pc, #distance=1*u.pc, pm_ra_cosdec=0*u.mas/u.yr, pm_dec=0*u.mas/u.yr,\n",
    "             obstime=times)#, frame=GeocentricMeanEcliptic)"
   ]
  },
  {
   "cell_type": "code",
   "execution_count": 18,
   "id": "e73a700b-1af3-4f79-a5e3-d58bff356cd0",
   "metadata": {},
   "outputs": [],
   "source": [
    "geo = c.transform_to(GeocentricMeanEcliptic)"
   ]
  },
  {
   "cell_type": "code",
   "execution_count": 20,
   "id": "f454bb00-8396-416e-a2a1-70354c2735d8",
   "metadata": {},
   "outputs": [],
   "source": [
    "helio = c.transform_to(HeliocentricMeanEcliptic)"
   ]
  },
  {
   "cell_type": "code",
   "execution_count": 21,
   "id": "60864dab-c431-4ce8-b1fe-5549cf5da806",
   "metadata": {},
   "outputs": [
    {
     "data": {
      "text/plain": [
       "<SkyCoord (HeliocentricMeanEcliptic: equinox=J2000.000, obstime=[60676.  60676.1 60676.2 60676.3 60676.4 60676.5 60676.6 60676.7 60676.8\n",
       " 60676.9 60677. ]): (lon, lat, distance) in (deg, deg, pc)\n",
       "    [(0.84587924, -22.25349589, 1000.00000003),\n",
       "     (0.84587924, -22.25349589, 1000.00000003),\n",
       "     (0.84587924, -22.25349589, 1000.00000003),\n",
       "     (0.84587924, -22.25349589, 1000.00000003),\n",
       "     (0.84587924, -22.25349589, 1000.00000003),\n",
       "     (0.84587924, -22.25349589, 1000.00000003),\n",
       "     (0.84587924, -22.25349589, 1000.00000003),\n",
       "     (0.84587924, -22.25349589, 1000.00000003),\n",
       "     (0.84587924, -22.25349589, 1000.00000003),\n",
       "     (0.84587924, -22.25349589, 1000.00000003),\n",
       "     (0.84587924, -22.25349589, 1000.00000003)]>"
      ]
     },
     "execution_count": 21,
     "metadata": {},
     "output_type": "execute_result"
    }
   ],
   "source": [
    "helio"
   ]
  },
  {
   "cell_type": "code",
   "execution_count": 23,
   "id": "822ec245-2554-4190-9048-b0462ed2de74",
   "metadata": {},
   "outputs": [],
   "source": [
    "helio_near = SkyCoord(helio.lon, helio.lat, distance=1*u.pc, obstime=times, frame=HeliocentricMeanEcliptic)"
   ]
  },
  {
   "cell_type": "code",
   "execution_count": 32,
   "id": "bdcab656-54c1-4938-8b98-a13247d4409e",
   "metadata": {},
   "outputs": [],
   "source": [
    "geo_near = helio_near.transform_to(GCRS)"
   ]
  },
  {
   "cell_type": "code",
   "execution_count": 33,
   "id": "c224154c-5244-4a3b-9114-b2982d9a1cb7",
   "metadata": {},
   "outputs": [
    {
     "data": {
      "text/plain": [
       "<SkyCoord (GCRS: obstime=[60676.  60676.1 60676.2 60676.3 60676.4 60676.5 60676.6 60676.7 60676.8\n",
       " 60676.9 60677. ], obsgeoloc=(0., 0., 0.) m, obsgeovel=(0., 0., 0.) m / s): (ra, dec, distance) in (deg, deg, pc)\n",
       "    [(9.99976813, -20.00246794, 1.00000074),\n",
       "     (9.99975817, -20.0024714 , 1.00000075),\n",
       "     (9.9997482 , -20.00247485, 1.00000075),\n",
       "     (9.99973824, -20.0024783 , 1.00000076),\n",
       "     (9.99972827, -20.00248173, 1.00000077),\n",
       "     (9.99971831, -20.00248516, 1.00000078),\n",
       "     (9.99970835, -20.00248857, 1.00000078),\n",
       "     (9.99969839, -20.00249198, 1.00000079),\n",
       "     (9.99968843, -20.00249538, 1.0000008 ),\n",
       "     (9.99967847, -20.00249877, 1.00000081),\n",
       "     (9.99966852, -20.00250216, 1.00000081)]>"
      ]
     },
     "execution_count": 33,
     "metadata": {},
     "output_type": "execute_result"
    }
   ],
   "source": [
    "geo_near"
   ]
  },
  {
   "cell_type": "code",
   "execution_count": 34,
   "id": "03b0e90f-c23b-4a0a-8fc1-751cdf494d13",
   "metadata": {},
   "outputs": [
    {
     "data": {
      "text/plain": [
       "<SkyCoord (GCRS: obstime=[60676.  60676.1 60676.2 60676.3 60676.4 60676.5 60676.6 60676.7 60676.8\n",
       " 60676.9 60677. ], obsgeoloc=(0., 0., 0.) m, obsgeovel=(0., 0., 0.) m / s): (ra, dec, distance) in (deg, deg, pc)\n",
       "    [(10.00003535, -20.00236973, 1000.00000076),\n",
       "     (10.00002538, -20.00237338, 1000.00000077),\n",
       "     (10.00001542, -20.00237703, 1000.00000078),\n",
       "     (10.00000545, -20.00238068, 1000.00000079),\n",
       "     ( 9.99999549, -20.00238431, 1000.00000079),\n",
       "     ( 9.99998553, -20.00238794, 1000.0000008 ),\n",
       "     ( 9.99997557, -20.00239155, 1000.00000081),\n",
       "     ( 9.9999656 , -20.00239516, 1000.00000082),\n",
       "     ( 9.99995564, -20.00239877, 1000.00000083),\n",
       "     ( 9.99994568, -20.00240236, 1000.00000083),\n",
       "     ( 9.99993572, -20.00240594, 1000.00000084)]>"
      ]
     },
     "execution_count": 34,
     "metadata": {},
     "output_type": "execute_result"
    }
   ],
   "source": [
    "geo.transform_to(GCRS)"
   ]
  },
  {
   "cell_type": "code",
   "execution_count": 37,
   "id": "339a6853-57f1-4435-9514-d9cdd2730271",
   "metadata": {},
   "outputs": [],
   "source": [
    "c1 = SkyCoord(10*u.degree,-20*u.degree,\n",
    "             obstime=times)"
   ]
  },
  {
   "cell_type": "code",
   "execution_count": 38,
   "id": "f6ecf5a1-8d2f-47ff-a924-4808d1463cc4",
   "metadata": {},
   "outputs": [
    {
     "data": {
      "text/plain": [
       "<SkyCoord (GCRS: obstime=[60676.  60676.1 60676.2 60676.3 60676.4 60676.5 60676.6 60676.7 60676.8\n",
       " 60676.9 60677. ], obsgeoloc=(0., 0., 0.) m, obsgeovel=(0., 0., 0.) m / s): (ra, dec) in deg\n",
       "    [(10.00003561, -20.00236963), (10.00002565, -20.00237329),\n",
       "     (10.00001568, -20.00237694), (10.00000572, -20.00238058),\n",
       "     ( 9.99999576, -20.00238421), ( 9.99998579, -20.00238784),\n",
       "     ( 9.99997583, -20.00239146), ( 9.99996587, -20.00239507),\n",
       "     ( 9.99995591, -20.00239867), ( 9.99994595, -20.00240226),\n",
       "     ( 9.99993599, -20.00240585)]>"
      ]
     },
     "execution_count": 38,
     "metadata": {},
     "output_type": "execute_result"
    }
   ],
   "source": [
    "c1.transform_to(GCRS)"
   ]
  },
  {
   "cell_type": "code",
   "execution_count": 40,
   "id": "2ab4d647-da02-4d7a-92c7-047e61097eb1",
   "metadata": {},
   "outputs": [],
   "source": [
    "c1_close = SkyCoord(10*u.degree,-20*u.degree,distance=1*u.pc,\n",
    "             obstime=times)"
   ]
  },
  {
   "cell_type": "code",
   "execution_count": 41,
   "id": "992570e6-9f87-4b5a-aa7b-bf6ff7639791",
   "metadata": {},
   "outputs": [
    {
     "data": {
      "text/plain": [
       "<SkyCoord (GCRS: obstime=[60676.  60676.1 60676.2 60676.3 60676.4 60676.5 60676.6 60676.7 60676.8\n",
       " 60676.9 60677. ], obsgeoloc=(0., 0., 0.) m, obsgeovel=(0., 0., 0.) m / s): (ra, dec, distance) in (deg, deg, pc)\n",
       "    [(9.99976917, -20.00246687, 1.00000076),\n",
       "     (9.9997592 , -20.00247032, 1.00000077),\n",
       "     (9.99974924, -20.00247378, 1.00000078),\n",
       "     (9.99973927, -20.00247722, 1.00000079),\n",
       "     (9.99972931, -20.00248065, 1.00000079),\n",
       "     (9.99971935, -20.00248408, 1.0000008 ),\n",
       "     (9.99970939, -20.0024875 , 1.00000081),\n",
       "     (9.99969943, -20.0024909 , 1.00000082),\n",
       "     (9.99968947, -20.00249431, 1.00000083),\n",
       "     (9.99967951, -20.0024977 , 1.00000083),\n",
       "     (9.99966956, -20.00250108, 1.00000084)]>"
      ]
     },
     "execution_count": 41,
     "metadata": {},
     "output_type": "execute_result"
    }
   ],
   "source": [
    "c1_close.transform_to(GCRS)"
   ]
  },
  {
   "cell_type": "code",
   "execution_count": null,
   "id": "dcdf25cf-03a9-4544-8f68-9a03d14bff59",
   "metadata": {},
   "outputs": [],
   "source": []
  }
 ],
 "metadata": {
  "kernelspec": {
   "display_name": "Python 3 (ipykernel)",
   "language": "python",
   "name": "python3"
  },
  "language_info": {
   "codemirror_mode": {
    "name": "ipython",
    "version": 3
   },
   "file_extension": ".py",
   "mimetype": "text/x-python",
   "name": "python",
   "nbconvert_exporter": "python",
   "pygments_lexer": "ipython3",
   "version": "3.11.6"
  }
 },
 "nbformat": 4,
 "nbformat_minor": 5
}
