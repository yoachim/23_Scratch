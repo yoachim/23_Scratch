{
 "cells": [
  {
   "cell_type": "code",
   "execution_count": 2,
   "id": "32b3b7c7-5d7f-4c4a-8139-700639fda2e8",
   "metadata": {},
   "outputs": [],
   "source": [
    "import numpy as np\n",
    "\n",
    "import astropy.units as u\n",
    "\n",
    "from astropy.time import Time\n",
    "\n",
    "from astropy.coordinates import SkyCoord\n",
    "\n",
    "import matplotlib.pylab as plt\n",
    "%matplotlib inline"
   ]
  },
  {
   "cell_type": "code",
   "execution_count": 13,
   "id": "d431d0ac-4d9e-47c9-82d2-3393ebee0147",
   "metadata": {},
   "outputs": [],
   "source": [
    "c = SkyCoord(10*u.degree,-20*u.degree, distance=1*u.pc, pm_ra_cosdec=0*u.mas/u.yr, pm_dec=0*u.mas/u.yr,\n",
    "             obstime=Time('2025-01-01 00:00:00'))"
   ]
  },
  {
   "cell_type": "code",
   "execution_count": null,
   "id": "7f0adf08-b326-4926-ae23-9d74221d60e1",
   "metadata": {},
   "outputs": [],
   "source": []
  },
  {
   "cell_type": "code",
   "execution_count": 14,
   "id": "75945b25-a244-4f81-bcb8-e99f39949dcb",
   "metadata": {},
   "outputs": [],
   "source": [
    "mjds = np.arange(0,1+.1,.1) + Time('1988-12-18 05:11:23.5').mjd"
   ]
  },
  {
   "cell_type": "code",
   "execution_count": 15,
   "id": "03f863df-5bc4-4200-aaf6-5df67711987e",
   "metadata": {},
   "outputs": [],
   "source": [
    "times = Time(mjds, format='mjd')"
   ]
  },
  {
   "cell_type": "code",
   "execution_count": 16,
   "id": "14d4af0f-ee41-495a-82df-f00ba7152ebf",
   "metadata": {},
   "outputs": [],
   "source": [
    "new_c = c.apply_space_motion(new_obstime=times)"
   ]
  },
  {
   "cell_type": "code",
   "execution_count": 17,
   "id": "9ab82704-09bd-4f74-be5b-ba8bc4fc5edb",
   "metadata": {},
   "outputs": [
    {
     "data": {
      "text/latex": [
       "[$-20^\\circ00{}^\\prime00{}^{\\prime\\prime}$\n",
       " $-20^\\circ00{}^\\prime00{}^{\\prime\\prime}$\n",
       " $-20^\\circ00{}^\\prime00{}^{\\prime\\prime}$\n",
       " $-20^\\circ00{}^\\prime00{}^{\\prime\\prime}$\n",
       " $-20^\\circ00{}^\\prime00{}^{\\prime\\prime}$\n",
       " $-20^\\circ00{}^\\prime00{}^{\\prime\\prime}$\n",
       " $-20^\\circ00{}^\\prime00{}^{\\prime\\prime}$\n",
       " $-20^\\circ00{}^\\prime00{}^{\\prime\\prime}$\n",
       " $-20^\\circ00{}^\\prime00{}^{\\prime\\prime}$\n",
       " $-20^\\circ00{}^\\prime00{}^{\\prime\\prime}$\n",
       " $-20^\\circ00{}^\\prime00{}^{\\prime\\prime}$]"
      ],
      "text/plain": [
       "<Latitude [-20., -20., -20., -20., -20., -20., -20., -20., -20., -20.,\n",
       "           -20.] deg>"
      ]
     },
     "execution_count": 17,
     "metadata": {},
     "output_type": "execute_result"
    }
   ],
   "source": [
    "new_c.dec"
   ]
  },
  {
   "cell_type": "code",
   "execution_count": null,
   "id": "a5c1c3e9-8b21-4fb9-889c-b2f9cc9995ae",
   "metadata": {},
   "outputs": [],
   "source": []
  }
 ],
 "metadata": {
  "kernelspec": {
   "display_name": "Python 3 (ipykernel)",
   "language": "python",
   "name": "python3"
  },
  "language_info": {
   "codemirror_mode": {
    "name": "ipython",
    "version": 3
   },
   "file_extension": ".py",
   "mimetype": "text/x-python",
   "name": "python",
   "nbconvert_exporter": "python",
   "pygments_lexer": "ipython3",
   "version": "3.11.6"
  }
 },
 "nbformat": 4,
 "nbformat_minor": 5
}
