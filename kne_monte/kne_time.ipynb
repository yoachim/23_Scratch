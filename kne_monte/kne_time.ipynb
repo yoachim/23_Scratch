{
 "cells": [
  {
   "cell_type": "code",
   "execution_count": 1,
   "id": "531bb549",
   "metadata": {},
   "outputs": [],
   "source": [
    "from rubin_sim.maf import science_radar_batch\n",
    "import time\n",
    "%matplotlib inline\n",
    "from rubin_sim.maf import metricBundles as mb\n",
    "from rubin_sim.data import get_baseline"
   ]
  },
  {
   "cell_type": "code",
   "execution_count": 2,
   "id": "47faef09",
   "metadata": {},
   "outputs": [],
   "source": [
    "baseline_file = get_baseline()"
   ]
  },
  {
   "cell_type": "code",
   "execution_count": 3,
   "id": "536bcf79",
   "metadata": {},
   "outputs": [
    {
     "name": "stdout",
     "output_type": "stream",
     "text": [
      "Healpix slicer using NSIDE=64, approximate resolution 54.967783 arcminutes\n",
      "Healpix slicer using NSIDE=64, approximate resolution 54.967783 arcminutes\n",
      "Healpix slicer using NSIDE=64, approximate resolution 54.967783 arcminutes\n",
      "Healpix slicer using NSIDE=64, approximate resolution 54.967783 arcminutes\n",
      "Healpix slicer using NSIDE=64, approximate resolution 54.967783 arcminutes\n",
      "Healpix slicer using NSIDE=16, approximate resolution 219.871130 arcminutes\n",
      "Loading  /Users/yoachim/rubin_sim_data/maf/SNe_data/LC_-2.0_0.2_380.0_800.0_ebvofMW_0.0_vstack.hdf5 g 20774 799 26\n"
     ]
    },
    {
     "name": "stderr",
     "output_type": "stream",
     "text": [
      "/Users/yoachim/anaconda3/envs/rubin/lib/python3.11/site-packages/numpy/core/fromnumeric.py:784: UserWarning: Warning: 'partition' will ignore the 'mask' of the MaskedArray.\n",
      "  a.partition(kth, axis=axis, kind=kind, order=order)\n"
     ]
    },
    {
     "name": "stdout",
     "output_type": "stream",
     "text": [
      "Loading  /Users/yoachim/rubin_sim_data/maf/SNe_data/LC_-2.0_0.2_380.0_800.0_ebvofMW_0.0_vstack.hdf5 i 78302 799 98\n",
      "Loading  /Users/yoachim/rubin_sim_data/maf/SNe_data/LC_-2.0_0.2_380.0_800.0_ebvofMW_0.0_vstack.hdf5 r 50337 799 63\n",
      "Loading  /Users/yoachim/rubin_sim_data/maf/SNe_data/LC_-2.0_0.2_380.0_800.0_ebvofMW_0.0_vstack.hdf5 y 63121 799 79\n",
      "Loading  /Users/yoachim/rubin_sim_data/maf/SNe_data/LC_-2.0_0.2_380.0_800.0_ebvofMW_0.0_vstack.hdf5 z 73508 799 92\n",
      "Loading  /Users/yoachim/rubin_sim_data/maf/SNe_data/LC_0.0_0.0_380.0_800.0_ebvofMW_0.0_vstack.hdf5 g 20774 799 26\n"
     ]
    },
    {
     "name": "stderr",
     "output_type": "stream",
     "text": [
      "/Users/yoachim/anaconda3/envs/rubin/lib/python3.11/site-packages/numpy/core/fromnumeric.py:784: UserWarning: Warning: 'partition' will ignore the 'mask' of the MaskedArray.\n",
      "  a.partition(kth, axis=axis, kind=kind, order=order)\n"
     ]
    },
    {
     "name": "stdout",
     "output_type": "stream",
     "text": [
      "Loading  /Users/yoachim/rubin_sim_data/maf/SNe_data/LC_0.0_0.0_380.0_800.0_ebvofMW_0.0_vstack.hdf5 i 78302 799 98\n",
      "Loading  /Users/yoachim/rubin_sim_data/maf/SNe_data/LC_0.0_0.0_380.0_800.0_ebvofMW_0.0_vstack.hdf5 r 50337 799 63\n",
      "Loading  /Users/yoachim/rubin_sim_data/maf/SNe_data/LC_0.0_0.0_380.0_800.0_ebvofMW_0.0_vstack.hdf5 y 78302 799 98\n",
      "Loading  /Users/yoachim/rubin_sim_data/maf/SNe_data/LC_0.0_0.0_380.0_800.0_ebvofMW_0.0_vstack.hdf5 z 88689 799 111\n",
      "Healpix slicer using NSIDE=64, approximate resolution 54.967783 arcminutes\n",
      "Healpix slicer using NSIDE=64, approximate resolution 54.967783 arcminutes\n",
      "Healpix slicer using NSIDE=64, approximate resolution 54.967783 arcminutes\n",
      "Healpix slicer using NSIDE=8, approximate resolution 439.742261 arcminutes\n",
      "Found match for {'mej_dyn': 0.005, 'mej_wind': 0.05, 'phi': 30, 'theta': 25.8}\n",
      "Found matches for 1/1           sets of parameters\n",
      "Read galplane priority map from /Users/yoachim/rubin_sim_data/maps/GalacticPlanePriorityMaps/priority_GalPlane_footprint_map_data_u.fits\n",
      "Read galplane priority map from /Users/yoachim/rubin_sim_data/maps/GalacticPlanePriorityMaps/priority_GalPlane_footprint_map_data_g.fits\n",
      "Read galplane priority map from /Users/yoachim/rubin_sim_data/maps/GalacticPlanePriorityMaps/priority_GalPlane_footprint_map_data_r.fits\n",
      "Read galplane priority map from /Users/yoachim/rubin_sim_data/maps/GalacticPlanePriorityMaps/priority_GalPlane_footprint_map_data_i.fits\n",
      "Read galplane priority map from /Users/yoachim/rubin_sim_data/maps/GalacticPlanePriorityMaps/priority_GalPlane_footprint_map_data_z.fits\n",
      "Read galplane priority map from /Users/yoachim/rubin_sim_data/maps/GalacticPlanePriorityMaps/priority_GalPlane_footprint_map_data_y.fits\n",
      "Read galplane priority map from /Users/yoachim/rubin_sim_data/maps/GalacticPlanePriorityMaps/priority_GalPlane_footprint_map_data_sum.fits\n",
      "Healpix slicer using NSIDE=64, approximate resolution 54.967783 arcminutes\n",
      "Healpix slicer using NSIDE=64, approximate resolution 54.967783 arcminutes\n",
      "Healpix slicer using NSIDE=64, approximate resolution 54.967783 arcminutes\n",
      "Healpix slicer using NSIDE=64, approximate resolution 54.967783 arcminutes\n",
      "Healpix slicer using NSIDE=32, approximate resolution 109.935565 arcminutes\n",
      "Healpix slicer using NSIDE=64, approximate resolution 54.967783 arcminutes\n",
      "Healpix slicer using NSIDE=64, approximate resolution 54.967783 arcminutes\n"
     ]
    }
   ],
   "source": [
    "srb = science_radar_batch(runName='baseline')"
   ]
  },
  {
   "cell_type": "code",
   "execution_count": 4,
   "id": "64035150",
   "metadata": {},
   "outputs": [
    {
     "data": {
      "text/plain": [
       "{'baseline_fO_HEAL': <rubin_sim.maf.metric_bundles.metric_bundle.MetricBundle at 0x2871652d0>,\n",
       " 'baseline_fiveSigmaDepth_Histogram_u_ONED': <rubin_sim.maf.metric_bundles.metric_bundle.MetricBundle at 0x283ab3210>,\n",
       " 'baseline_fiveSigmaDepth_Histogram_g_ONED': <rubin_sim.maf.metric_bundles.metric_bundle.MetricBundle at 0x286c101d0>,\n",
       " 'baseline_fiveSigmaDepth_Histogram_r_ONED': <rubin_sim.maf.metric_bundles.metric_bundle.MetricBundle at 0x287128210>,\n",
       " 'baseline_fiveSigmaDepth_Histogram_i_ONED': <rubin_sim.maf.metric_bundles.metric_bundle.MetricBundle at 0x287163410>,\n",
       " 'baseline_fiveSigmaDepth_Histogram_z_ONED': <rubin_sim.maf.metric_bundles.metric_bundle.MetricBundle at 0x286c59750>,\n",
       " 'baseline_fiveSigmaDepth_Histogram_y_ONED': <rubin_sim.maf.metric_bundles.metric_bundle.MetricBundle at 0x286c10110>,\n",
       " 'baseline_Median_fiveSigmaDepth_u_UNIS': <rubin_sim.maf.metric_bundles.metric_bundle.MetricBundle at 0x287167950>,\n",
       " 'baseline_Median_fiveSigmaDepth_g_UNIS': <rubin_sim.maf.metric_bundles.metric_bundle.MetricBundle at 0x287168150>,\n",
       " 'baseline_Median_fiveSigmaDepth_r_UNIS': <rubin_sim.maf.metric_bundles.metric_bundle.MetricBundle at 0x287168590>,\n",
       " 'baseline_Median_fiveSigmaDepth_i_UNIS': <rubin_sim.maf.metric_bundles.metric_bundle.MetricBundle at 0x287168990>,\n",
       " 'baseline_Median_fiveSigmaDepth_z_UNIS': <rubin_sim.maf.metric_bundles.metric_bundle.MetricBundle at 0x287168e10>,\n",
       " 'baseline_Median_fiveSigmaDepth_y_UNIS': <rubin_sim.maf.metric_bundles.metric_bundle.MetricBundle at 0x287169290>,\n",
       " 'baseline_Parallax_Uncert_@_22_4_HEAL': <rubin_sim.maf.metric_bundles.metric_bundle.MetricBundle at 0x286c26ad0>,\n",
       " 'baseline_Parallax_Uncert_@_24_0_HEAL': <rubin_sim.maf.metric_bundles.metric_bundle.MetricBundle at 0x28716a650>,\n",
       " 'baseline_Normalized_Parallax_Uncert_@_22_4_HEAL': <rubin_sim.maf.metric_bundles.metric_bundle.MetricBundle at 0x28716b350>,\n",
       " 'baseline_Normalized_Parallax_Uncert_@_24_0_HEAL': <rubin_sim.maf.metric_bundles.metric_bundle.MetricBundle at 0x28716c1d0>,\n",
       " 'baseline_Parallax_Coverage_@_22_4_HEAL': <rubin_sim.maf.metric_bundles.metric_bundle.MetricBundle at 0x28716ce10>,\n",
       " 'baseline_Parallax_Coverage_@_24_0_HEAL': <rubin_sim.maf.metric_bundles.metric_bundle.MetricBundle at 0x28716dcd0>,\n",
       " 'baseline_Parallax-DCR_degeneracy_@_22_4_HEAL': <rubin_sim.maf.metric_bundles.metric_bundle.MetricBundle at 0x28716ea10>,\n",
       " 'baseline_Parallax-DCR_degeneracy_@_24_0_HEAL': <rubin_sim.maf.metric_bundles.metric_bundle.MetricBundle at 0x28716f850>,\n",
       " 'baseline_Proper_Motion_Uncert_@_20_5_HEAL': <rubin_sim.maf.metric_bundles.metric_bundle.MetricBundle at 0x286de1510>,\n",
       " 'baseline_Proper_Motion_Uncert_@_24_0_HEAL': <rubin_sim.maf.metric_bundles.metric_bundle.MetricBundle at 0x287170c50>,\n",
       " 'baseline_Normalized_Proper_Motion_Uncert_@_20_5_HEAL': <rubin_sim.maf.metric_bundles.metric_bundle.MetricBundle at 0x2871719d0>,\n",
       " 'baseline_Normalized_Proper_Motion_Uncert_@_24_0_HEAL': <rubin_sim.maf.metric_bundles.metric_bundle.MetricBundle at 0x2871728d0>,\n",
       " 'baseline_DCRprecision_HEAL': <rubin_sim.maf.metric_bundles.metric_bundle.MetricBundle at 0x2871738d0>,\n",
       " 'baseline_NumberOfQuickRevisits_HEAL': <rubin_sim.maf.metric_bundles.metric_bundle.MetricBundle at 0x287174a10>,\n",
       " 'baseline_RapidRevisits_HEAL': <rubin_sim.maf.metric_bundles.metric_bundle.MetricBundle at 0x287132e10>,\n",
       " 'baseline_YearCoverage_night_u_band_HEAL': <rubin_sim.maf.metric_bundles.metric_bundle.MetricBundle at 0x2871750d0>,\n",
       " 'baseline_YearCoverage_night_g_band_HEAL': <rubin_sim.maf.metric_bundles.metric_bundle.MetricBundle at 0x287175510>,\n",
       " 'baseline_YearCoverage_night_r_band_HEAL': <rubin_sim.maf.metric_bundles.metric_bundle.MetricBundle at 0x287175a10>,\n",
       " 'baseline_YearCoverage_night_i_band_HEAL': <rubin_sim.maf.metric_bundles.metric_bundle.MetricBundle at 0x287175f10>,\n",
       " 'baseline_YearCoverage_night_z_band_HEAL': <rubin_sim.maf.metric_bundles.metric_bundle.MetricBundle at 0x287176410>,\n",
       " 'baseline_YearCoverage_night_y_band_HEAL': <rubin_sim.maf.metric_bundles.metric_bundle.MetricBundle at 0x287176910>,\n",
       " 'baseline_GalaxyCountsMetricExtended_u_HEAL': <rubin_sim.maf.metric_bundles.metric_bundle.MetricBundle at 0x286c61490>,\n",
       " 'baseline_GalaxyCountsMetricExtended_g_HEAL': <rubin_sim.maf.metric_bundles.metric_bundle.MetricBundle at 0x286115090>,\n",
       " 'baseline_GalaxyCountsMetricExtended_r_HEAL': <rubin_sim.maf.metric_bundles.metric_bundle.MetricBundle at 0x287177d10>,\n",
       " 'baseline_GalaxyCountsMetricExtended_i_HEAL': <rubin_sim.maf.metric_bundles.metric_bundle.MetricBundle at 0x287178c90>,\n",
       " 'baseline_GalaxyCountsMetricExtended_z_HEAL': <rubin_sim.maf.metric_bundles.metric_bundle.MetricBundle at 0x2871792d0>,\n",
       " 'baseline_GalaxyCountsMetricExtended_y_HEAL': <rubin_sim.maf.metric_bundles.metric_bundle.MetricBundle at 0x2871798d0>,\n",
       " 'baseline_SurfaceBrightLimit_u_HEAL': <rubin_sim.maf.metric_bundles.metric_bundle.MetricBundle at 0x286a550d0>,\n",
       " 'baseline_SurfaceBrightLimit_g_HEAL': <rubin_sim.maf.metric_bundles.metric_bundle.MetricBundle at 0x287179790>,\n",
       " 'baseline_SurfaceBrightLimit_r_HEAL': <rubin_sim.maf.metric_bundles.metric_bundle.MetricBundle at 0x287179e90>,\n",
       " 'baseline_SurfaceBrightLimit_i_HEAL': <rubin_sim.maf.metric_bundles.metric_bundle.MetricBundle at 0x28717a110>,\n",
       " 'baseline_SurfaceBrightLimit_z_HEAL': <rubin_sim.maf.metric_bundles.metric_bundle.MetricBundle at 0x28717a510>,\n",
       " 'baseline_SurfaceBrightLimit_y_HEAL': <rubin_sim.maf.metric_bundles.metric_bundle.MetricBundle at 0x28717a910>,\n",
       " 'baseline_Exgalm5WithCuts_i_band_non-DD_year_1_HEAL': <rubin_sim.maf.metric_bundles.metric_bundle.MetricBundle at 0x286c603d0>,\n",
       " 'baseline_Exgalm5WithCuts_i_band_non-DD_year_2_HEAL': <rubin_sim.maf.metric_bundles.metric_bundle.MetricBundle at 0x28717b890>,\n",
       " 'baseline_Exgalm5WithCuts_i_band_non-DD_year_3_HEAL': <rubin_sim.maf.metric_bundles.metric_bundle.MetricBundle at 0x287181450>,\n",
       " 'baseline_Exgalm5WithCuts_i_band_non-DD_year_4_HEAL': <rubin_sim.maf.metric_bundles.metric_bundle.MetricBundle at 0x287181e90>,\n",
       " 'baseline_Exgalm5WithCuts_i_band_non-DD_year_5_HEAL': <rubin_sim.maf.metric_bundles.metric_bundle.MetricBundle at 0x2871828d0>,\n",
       " 'baseline_Exgalm5WithCuts_i_band_non-DD_year_6_HEAL': <rubin_sim.maf.metric_bundles.metric_bundle.MetricBundle at 0x287183310>,\n",
       " 'baseline_Exgalm5WithCuts_i_band_non-DD_year_7_HEAL': <rubin_sim.maf.metric_bundles.metric_bundle.MetricBundle at 0x287177b50>,\n",
       " 'baseline_Exgalm5WithCuts_i_band_non-DD_year_8_HEAL': <rubin_sim.maf.metric_bundles.metric_bundle.MetricBundle at 0x287183990>,\n",
       " 'baseline_Exgalm5WithCuts_i_band_non-DD_year_9_HEAL': <rubin_sim.maf.metric_bundles.metric_bundle.MetricBundle at 0x287189250>,\n",
       " 'baseline_Exgalm5WithCuts_i_band_non-DD_year_10_HEAL': <rubin_sim.maf.metric_bundles.metric_bundle.MetricBundle at 0x287189c90>,\n",
       " 'baseline_DepthLimitedNumGalaxiesMetric_i_band_galaxies_non-DD_HEAL': <rubin_sim.maf.metric_bundles.metric_bundle.MetricBundle at 0x287188550>,\n",
       " 'baseline_WeakLensingNvisits_gri_band_non-DD_HEAL': <rubin_sim.maf.metric_bundles.metric_bundle.MetricBundle at 0x287189110>,\n",
       " 'baseline_Kuiper_rotSkyPos_u_HEAL': <rubin_sim.maf.metric_bundles.metric_bundle.MetricBundle at 0x28718b310>,\n",
       " 'baseline_Kuiper_rotTelPos_u_HEAL': <rubin_sim.maf.metric_bundles.metric_bundle.MetricBundle at 0x28718b010>,\n",
       " 'baseline_Kuiper_rotSkyPos_g_HEAL': <rubin_sim.maf.metric_bundles.metric_bundle.MetricBundle at 0x28718a3d0>,\n",
       " 'baseline_Kuiper_rotTelPos_g_HEAL': <rubin_sim.maf.metric_bundles.metric_bundle.MetricBundle at 0x287189a50>,\n",
       " 'baseline_Kuiper_rotSkyPos_r_HEAL': <rubin_sim.maf.metric_bundles.metric_bundle.MetricBundle at 0x28718ba50>,\n",
       " 'baseline_Kuiper_rotTelPos_r_HEAL': <rubin_sim.maf.metric_bundles.metric_bundle.MetricBundle at 0x28718bbd0>,\n",
       " 'baseline_Kuiper_rotSkyPos_i_HEAL': <rubin_sim.maf.metric_bundles.metric_bundle.MetricBundle at 0x28718bd50>,\n",
       " 'baseline_Kuiper_rotTelPos_i_HEAL': <rubin_sim.maf.metric_bundles.metric_bundle.MetricBundle at 0x28718bed0>,\n",
       " 'baseline_Kuiper_rotSkyPos_z_HEAL': <rubin_sim.maf.metric_bundles.metric_bundle.MetricBundle at 0x287190190>,\n",
       " 'baseline_Kuiper_rotTelPos_z_HEAL': <rubin_sim.maf.metric_bundles.metric_bundle.MetricBundle at 0x287190390>,\n",
       " 'baseline_Kuiper_rotSkyPos_y_HEAL': <rubin_sim.maf.metric_bundles.metric_bundle.MetricBundle at 0x287190590>,\n",
       " 'baseline_Kuiper_rotTelPos_y_HEAL': <rubin_sim.maf.metric_bundles.metric_bundle.MetricBundle at 0x287190790>,\n",
       " 'baseline_SNNSNMetric_DDF_excluded_HEAL': <rubin_sim.maf.metric_bundles.metric_bundle.MetricBundle at 0x283dfe5d0>,\n",
       " 'baseline_QSONumberCountsMetric_u_band_and_non-DD_HEAL': <rubin_sim.maf.metric_bundles.metric_bundle.MetricBundle at 0x28e947310>,\n",
       " 'baseline_QSONumberCountsMetric_g_band_and_non-DD_HEAL': <rubin_sim.maf.metric_bundles.metric_bundle.MetricBundle at 0x28cff2650>,\n",
       " 'baseline_QSONumberCountsMetric_r_band_and_non-DD_HEAL': <rubin_sim.maf.metric_bundles.metric_bundle.MetricBundle at 0x28cfbc1d0>,\n",
       " 'baseline_QSONumberCountsMetric_i_band_and_non-DD_HEAL': <rubin_sim.maf.metric_bundles.metric_bundle.MetricBundle at 0x288a35690>,\n",
       " 'baseline_QSONumberCountsMetric_z_band_and_non-DD_HEAL': <rubin_sim.maf.metric_bundles.metric_bundle.MetricBundle at 0x28cf4ce10>,\n",
       " 'baseline_QSONumberCountsMetric_y_band_and_non-DD_HEAL': <rubin_sim.maf.metric_bundles.metric_bundle.MetricBundle at 0x28cfb47d0>,\n",
       " 'baseline_AGN_SF_uncert_u_band_HEAL': <rubin_sim.maf.metric_bundles.metric_bundle.MetricBundle at 0x28898aad0>,\n",
       " 'baseline_AGN_SF_uncert_g_band_HEAL': <rubin_sim.maf.metric_bundles.metric_bundle.MetricBundle at 0x28cf41690>,\n",
       " 'baseline_AGN_SF_uncert_r_band_HEAL': <rubin_sim.maf.metric_bundles.metric_bundle.MetricBundle at 0x28cf55d10>,\n",
       " 'baseline_AGN_SF_uncert_i_band_HEAL': <rubin_sim.maf.metric_bundles.metric_bundle.MetricBundle at 0x28cf560d0>,\n",
       " 'baseline_AGN_SF_uncert_z_band_HEAL': <rubin_sim.maf.metric_bundles.metric_bundle.MetricBundle at 0x2887c7950>,\n",
       " 'baseline_AGN_SF_uncert_y_band_HEAL': <rubin_sim.maf.metric_bundles.metric_bundle.MetricBundle at 0x28cf56ad0>,\n",
       " 'baseline_AGN_TimeLag_100_days_all_bands_HEAL': <rubin_sim.maf.metric_bundles.metric_bundle.MetricBundle at 0x288a36e10>,\n",
       " 'baseline_AGN_TimeLag_100_days_u_band_HEAL': <rubin_sim.maf.metric_bundles.metric_bundle.MetricBundle at 0x288a20890>,\n",
       " 'baseline_AGN_TimeLag_100_days_g_band_HEAL': <rubin_sim.maf.metric_bundles.metric_bundle.MetricBundle at 0x288a0bf10>,\n",
       " 'baseline_AGN_TimeLag_100_days_r_band_HEAL': <rubin_sim.maf.metric_bundles.metric_bundle.MetricBundle at 0x28cf57c10>,\n",
       " 'baseline_AGN_TimeLag_100_days_i_band_HEAL': <rubin_sim.maf.metric_bundles.metric_bundle.MetricBundle at 0x28cf57850>,\n",
       " 'baseline_AGN_TimeLag_100_days_z_band_HEAL': <rubin_sim.maf.metric_bundles.metric_bundle.MetricBundle at 0x28cf57950>,\n",
       " 'baseline_AGN_TimeLag_100_days_y_band_HEAL': <rubin_sim.maf.metric_bundles.metric_bundle.MetricBundle at 0x28cf2ea90>,\n",
       " 'baseline_AGN_TimeLag_5_days_all_bands_HEAL': <rubin_sim.maf.metric_bundles.metric_bundle.MetricBundle at 0x28cfa6d50>,\n",
       " 'baseline_AGN_TimeLag_5_days_u_band_HEAL': <rubin_sim.maf.metric_bundles.metric_bundle.MetricBundle at 0x28cfa4750>,\n",
       " 'baseline_AGN_TimeLag_5_days_g_band_HEAL': <rubin_sim.maf.metric_bundles.metric_bundle.MetricBundle at 0x28cfa5510>,\n",
       " 'baseline_AGN_TimeLag_5_days_r_band_HEAL': <rubin_sim.maf.metric_bundles.metric_bundle.MetricBundle at 0x28cfa6050>,\n",
       " 'baseline_AGN_TimeLag_5_days_i_band_HEAL': <rubin_sim.maf.metric_bundles.metric_bundle.MetricBundle at 0x28cfa5990>,\n",
       " 'baseline_AGN_TimeLag_5_days_z_band_HEAL': <rubin_sim.maf.metric_bundles.metric_bundle.MetricBundle at 0x28cfa4310>,\n",
       " 'baseline_AGN_TimeLag_5_days_y_band_HEAL': <rubin_sim.maf.metric_bundles.metric_bundle.MetricBundle at 0x28cfa5110>,\n",
       " 'baseline_TDC_HEAL': <rubin_sim.maf.metric_bundles.metric_bundle.MetricBundle at 0x28cfb5c50>,\n",
       " 'baseline_SNSLMetric_HEAL': <rubin_sim.maf.metric_bundles.metric_bundle.MetricBundle at 0x28cfbe1d0>,\n",
       " 'baseline_PeriodicStarModulationMetric_dm_18_interval_15_RRc_Year_1-2_HEAL': <rubin_sim.maf.metric_bundles.metric_bundle.MetricBundle at 0x10984e750>,\n",
       " 'baseline_PeriodicStarModulationMetric_dm_19_interval_15_RRc_Year_1-2_HEAL': <rubin_sim.maf.metric_bundles.metric_bundle.MetricBundle at 0x28cfc8b90>,\n",
       " 'baseline_PeriodicStarModulationMetric_dm_20_interval_15_RRc_Year_1-2_HEAL': <rubin_sim.maf.metric_bundles.metric_bundle.MetricBundle at 0x28cf68ad0>,\n",
       " 'baseline_PeriodicStarModulationMetric_dm_21_interval_15_RRc_Year_1-2_HEAL': <rubin_sim.maf.metric_bundles.metric_bundle.MetricBundle at 0x28cf68050>,\n",
       " 'baseline_PeriodicStarModulationMetric_dm_18_interval_30_RRc_Year_1-2_HEAL': <rubin_sim.maf.metric_bundles.metric_bundle.MetricBundle at 0x28cf69510>,\n",
       " 'baseline_PeriodicStarModulationMetric_dm_19_interval_30_RRc_Year_1-2_HEAL': <rubin_sim.maf.metric_bundles.metric_bundle.MetricBundle at 0x28cf69a10>,\n",
       " 'baseline_PeriodicStarModulationMetric_dm_20_interval_30_RRc_Year_1-2_HEAL': <rubin_sim.maf.metric_bundles.metric_bundle.MetricBundle at 0x28cf69f10>,\n",
       " 'baseline_PeriodicStarModulationMetric_dm_21_interval_30_RRc_Year_1-2_HEAL': <rubin_sim.maf.metric_bundles.metric_bundle.MetricBundle at 0x28cf6a410>,\n",
       " 'baseline_PeriodicDetect_P_0_5_Mag_21_Amp_0_05-0_1-1_HEAL': <rubin_sim.maf.metric_bundles.metric_bundle.MetricBundle at 0x2889e3bd0>,\n",
       " 'baseline_PeriodicDetect_P_0_5_Mag_24_Amp_0_05-0_1-1_HEAL': <rubin_sim.maf.metric_bundles.metric_bundle.MetricBundle at 0x28cf6ad10>,\n",
       " 'baseline_PeriodicDetect_P_1_0_Mag_21_Amp_0_05-0_1-1_HEAL': <rubin_sim.maf.metric_bundles.metric_bundle.MetricBundle at 0x28cf6b110>,\n",
       " 'baseline_PeriodicDetect_P_1_0_Mag_24_Amp_0_05-0_1-1_HEAL': <rubin_sim.maf.metric_bundles.metric_bundle.MetricBundle at 0x28cf6b510>,\n",
       " 'baseline_PeriodicDetect_P_2_0_Mag_21_Amp_0_05-0_1-1_HEAL': <rubin_sim.maf.metric_bundles.metric_bundle.MetricBundle at 0x28cf6b910>,\n",
       " 'baseline_PeriodicDetect_P_2_0_Mag_24_Amp_0_05-0_1-1_HEAL': <rubin_sim.maf.metric_bundles.metric_bundle.MetricBundle at 0x28cf6bd10>,\n",
       " 'baseline_PeriodicDetect_P_0_5_Mag_21_Amp_0_05-0_1-1_Yr_2_HEAL': <rubin_sim.maf.metric_bundles.metric_bundle.MetricBundle at 0x28cf8c150>,\n",
       " 'baseline_PeriodicDetect_P_0_5_Mag_24_Amp_0_05-0_1-1_Yr_2_HEAL': <rubin_sim.maf.metric_bundles.metric_bundle.MetricBundle at 0x28cf8c550>,\n",
       " 'baseline_PeriodicDetect_P_1_0_Mag_21_Amp_0_05-0_1-1_Yr_2_HEAL': <rubin_sim.maf.metric_bundles.metric_bundle.MetricBundle at 0x28cf8c950>,\n",
       " 'baseline_PeriodicDetect_P_1_0_Mag_24_Amp_0_05-0_1-1_Yr_2_HEAL': <rubin_sim.maf.metric_bundles.metric_bundle.MetricBundle at 0x28cf8cd50>,\n",
       " 'baseline_PeriodicDetect_P_2_0_Mag_21_Amp_0_05-0_1-1_Yr_2_HEAL': <rubin_sim.maf.metric_bundles.metric_bundle.MetricBundle at 0x28cf8d150>,\n",
       " 'baseline_PeriodicDetect_P_2_0_Mag_24_Amp_0_05-0_1-1_Yr_2_HEAL': <rubin_sim.maf.metric_bundles.metric_bundle.MetricBundle at 0x28cf8d550>,\n",
       " 'baseline_TDEsPopMetric_USER': <rubin_sim.maf.metric_bundles.metric_bundle.MetricBundle at 0x28e2ee190>,\n",
       " 'baseline_TDE_Quality_USER': <rubin_sim.maf.metric_bundles.metric_bundle.MetricBundle at 0x28e362050>,\n",
       " 'baseline_MicrolensingMetric_detect_tE_1_5_days_USER': <rubin_sim.maf.metric_bundles.metric_bundle.MetricBundle at 0x28cfcbf90>,\n",
       " 'baseline_MicrolensingMetric_detect_tE_5_10_days_USER': <rubin_sim.maf.metric_bundles.metric_bundle.MetricBundle at 0x28cf41390>,\n",
       " 'baseline_MicrolensingMetric_detect_tE_10_20_days_USER': <rubin_sim.maf.metric_bundles.metric_bundle.MetricBundle at 0x28e3622d0>,\n",
       " 'baseline_MicrolensingMetric_detect_tE_20_30_days_USER': <rubin_sim.maf.metric_bundles.metric_bundle.MetricBundle at 0x28e363c50>,\n",
       " 'baseline_MicrolensingMetric_detect_tE_30_60_days_USER': <rubin_sim.maf.metric_bundles.metric_bundle.MetricBundle at 0x28e360090>,\n",
       " 'baseline_MicrolensingMetric_detect_tE_60_90_days_USER': <rubin_sim.maf.metric_bundles.metric_bundle.MetricBundle at 0x28e360a50>,\n",
       " 'baseline_MicrolensingMetric_detect_tE_100_200_days_USER': <rubin_sim.maf.metric_bundles.metric_bundle.MetricBundle at 0x28e3613d0>,\n",
       " 'baseline_MicrolensingMetric_detect_tE_200_500_days_USER': <rubin_sim.maf.metric_bundles.metric_bundle.MetricBundle at 0x28e361d90>,\n",
       " 'baseline_MicrolensingMetric_detect_tE_500_1000_days_USER': <rubin_sim.maf.metric_bundles.metric_bundle.MetricBundle at 0x28e362690>,\n",
       " 'baseline_MicrolensingMetric_Npts_tE_10_20_days_USER': <rubin_sim.maf.metric_bundles.metric_bundle.MetricBundle at 0x28e363e90>,\n",
       " 'baseline_MicrolensingMetric_Npts_tE_20_30_days_USER': <rubin_sim.maf.metric_bundles.metric_bundle.MetricBundle at 0x28e311610>,\n",
       " 'baseline_MicrolensingMetric_Npts_tE_30_60_days_USER': <rubin_sim.maf.metric_bundles.metric_bundle.MetricBundle at 0x28e312d50>,\n",
       " 'baseline_MicrolensingMetric_Npts_tE_200_500_days_USER': <rubin_sim.maf.metric_bundles.metric_bundle.MetricBundle at 0x28e313d10>,\n",
       " 'baseline_MicrolensingMetric_Fisher_tE_10_20_days_USER': <rubin_sim.maf.metric_bundles.metric_bundle.MetricBundle at 0x28e313910>,\n",
       " 'baseline_MicrolensingMetric_Fisher_tE_20_30_days_USER': <rubin_sim.maf.metric_bundles.metric_bundle.MetricBundle at 0x28e311310>,\n",
       " 'baseline_MicrolensingMetric_Fisher_tE_30_60_days_USER': <rubin_sim.maf.metric_bundles.metric_bundle.MetricBundle at 0x28e312190>,\n",
       " 'baseline_MicrolensingMetric_Fisher_tE_200_500_days_USER': <rubin_sim.maf.metric_bundles.metric_bundle.MetricBundle at 0x28e312c10>,\n",
       " 'baseline_KNePopMetric_single_single_model_USER': <rubin_sim.maf.metric_bundles.metric_bundle.MetricBundle at 0x28e313cd0>,\n",
       " 'baseline_KNePopMetric_all_all_models_USER': <rubin_sim.maf.metric_bundles.metric_bundle.MetricBundle at 0x28e2f8250>,\n",
       " 'baseline_Tgaps_observationStartMJD_u_band_HEAL': <rubin_sim.maf.metric_bundles.metric_bundle.MetricBundle at 0x28e2f6610>,\n",
       " 'baseline_TgapsPercent_2-14hrs_u_band_HEAL': <rubin_sim.maf.metric_bundles.metric_bundle.MetricBundle at 0x28e2f7e90>,\n",
       " 'baseline_TgapsPercent_1day_u_band_HEAL': <rubin_sim.maf.metric_bundles.metric_bundle.MetricBundle at 0x28e2f4990>,\n",
       " 'baseline_Tgaps_observationStartMJD_g_band_HEAL': <rubin_sim.maf.metric_bundles.metric_bundle.MetricBundle at 0x28e2f6750>,\n",
       " 'baseline_TgapsPercent_2-14hrs_g_band_HEAL': <rubin_sim.maf.metric_bundles.metric_bundle.MetricBundle at 0x28e2c95d0>,\n",
       " 'baseline_TgapsPercent_1day_g_band_HEAL': <rubin_sim.maf.metric_bundles.metric_bundle.MetricBundle at 0x28e2ca590>,\n",
       " 'baseline_Tgaps_observationStartMJD_r_band_HEAL': <rubin_sim.maf.metric_bundles.metric_bundle.MetricBundle at 0x28e2c8c90>,\n",
       " 'baseline_TgapsPercent_2-14hrs_r_band_HEAL': <rubin_sim.maf.metric_bundles.metric_bundle.MetricBundle at 0x28e2c9990>,\n",
       " 'baseline_TgapsPercent_1day_r_band_HEAL': <rubin_sim.maf.metric_bundles.metric_bundle.MetricBundle at 0x28e2ca650>,\n",
       " 'baseline_Tgaps_observationStartMJD_i_band_HEAL': <rubin_sim.maf.metric_bundles.metric_bundle.MetricBundle at 0x28e2c81d0>,\n",
       " 'baseline_TgapsPercent_2-14hrs_i_band_HEAL': <rubin_sim.maf.metric_bundles.metric_bundle.MetricBundle at 0x28e345910>,\n",
       " 'baseline_TgapsPercent_1day_i_band_HEAL': <rubin_sim.maf.metric_bundles.metric_bundle.MetricBundle at 0x28e346a50>,\n",
       " 'baseline_Tgaps_observationStartMJD_z_band_HEAL': <rubin_sim.maf.metric_bundles.metric_bundle.MetricBundle at 0x28e344f90>,\n",
       " 'baseline_TgapsPercent_2-14hrs_z_band_HEAL': <rubin_sim.maf.metric_bundles.metric_bundle.MetricBundle at 0x28e344890>,\n",
       " 'baseline_TgapsPercent_1day_z_band_HEAL': <rubin_sim.maf.metric_bundles.metric_bundle.MetricBundle at 0x28e345710>,\n",
       " 'baseline_Tgaps_observationStartMJD_y_band_HEAL': <rubin_sim.maf.metric_bundles.metric_bundle.MetricBundle at 0x28e347650>,\n",
       " 'baseline_TgapsPercent_2-14hrs_y_band_HEAL': <rubin_sim.maf.metric_bundles.metric_bundle.MetricBundle at 0x28e2eb510>,\n",
       " 'baseline_TgapsPercent_1day_y_band_HEAL': <rubin_sim.maf.metric_bundles.metric_bundle.MetricBundle at 0x28e2ebc90>,\n",
       " 'baseline_FilterPairTGaps_observationStartMJD_filter_fiveSigmaDepth_HEAL': <rubin_sim.maf.metric_bundles.metric_bundle.MetricBundle at 0x28e2e8790>,\n",
       " 'baseline_PrestoKNe_USER': <rubin_sim.maf.metric_bundles.metric_bundle.MetricBundle at 0x28e372050>,\n",
       " 'baseline_XRBPopMetric_USER': <rubin_sim.maf.metric_bundles.metric_bundle.MetricBundle at 0x2b9da3350>,\n",
       " 'baseline_GalplaneFootprintMetric_galactic_bulge_map_HEAL': <rubin_sim.maf.metric_bundles.metric_bundle.MetricBundle at 0x2b9f05610>,\n",
       " 'baseline_GalplaneTimePerFilter_galactic_bulge_map_HEAL': <rubin_sim.maf.metric_bundles.metric_bundle.MetricBundle at 0x2b9f059d0>,\n",
       " 'baseline_GalPlaneVisitIntervalsTimescales_galactic_bulge_map_HEAL': <rubin_sim.maf.metric_bundles.metric_bundle.MetricBundle at 0x28cfe26d0>,\n",
       " 'baseline_GalPlaneSeasonGapsTimescales_galactic_bulge_map_HEAL': <rubin_sim.maf.metric_bundles.metric_bundle.MetricBundle at 0x2b9effed0>,\n",
       " 'baseline_GalplaneFootprintMetric_clementini_stellarpops_map_HEAL': <rubin_sim.maf.metric_bundles.metric_bundle.MetricBundle at 0x2b9e90910>,\n",
       " 'baseline_GalplaneTimePerFilter_clementini_stellarpops_map_HEAL': <rubin_sim.maf.metric_bundles.metric_bundle.MetricBundle at 0x2b9e90b90>,\n",
       " 'baseline_GalPlaneVisitIntervalsTimescales_clementini_stellarpops_map_HEAL': <rubin_sim.maf.metric_bundles.metric_bundle.MetricBundle at 0x2b9e92290>,\n",
       " 'baseline_GalPlaneSeasonGapsTimescales_clementini_stellarpops_map_HEAL': <rubin_sim.maf.metric_bundles.metric_bundle.MetricBundle at 0x2b9e93d90>,\n",
       " 'baseline_GalplaneFootprintMetric_galactic_plane_map_HEAL': <rubin_sim.maf.metric_bundles.metric_bundle.MetricBundle at 0x2b9ea0610>,\n",
       " 'baseline_GalplaneTimePerFilter_galactic_plane_map_HEAL': <rubin_sim.maf.metric_bundles.metric_bundle.MetricBundle at 0x2b9ea08d0>,\n",
       " 'baseline_GalPlaneVisitIntervalsTimescales_galactic_plane_map_HEAL': <rubin_sim.maf.metric_bundles.metric_bundle.MetricBundle at 0x2b9ea1310>,\n",
       " 'baseline_GalPlaneSeasonGapsTimescales_galactic_plane_map_HEAL': <rubin_sim.maf.metric_bundles.metric_bundle.MetricBundle at 0x2b9f12c90>,\n",
       " 'baseline_GalplaneFootprintMetric_pencilbeams_map_HEAL': <rubin_sim.maf.metric_bundles.metric_bundle.MetricBundle at 0x2b9f12310>,\n",
       " 'baseline_GalplaneTimePerFilter_pencilbeams_map_HEAL': <rubin_sim.maf.metric_bundles.metric_bundle.MetricBundle at 0x2b9f063d0>,\n",
       " 'baseline_GalPlaneVisitIntervalsTimescales_pencilbeams_map_HEAL': <rubin_sim.maf.metric_bundles.metric_bundle.MetricBundle at 0x2b9f04790>,\n",
       " 'baseline_GalPlaneSeasonGapsTimescales_pencilbeams_map_HEAL': <rubin_sim.maf.metric_bundles.metric_bundle.MetricBundle at 0x2b9ea1c90>,\n",
       " 'baseline_GalplaneFootprintMetric_magellenic_clouds_map_HEAL': <rubin_sim.maf.metric_bundles.metric_bundle.MetricBundle at 0x2b9ea2810>,\n",
       " 'baseline_GalplaneTimePerFilter_magellenic_clouds_map_HEAL': <rubin_sim.maf.metric_bundles.metric_bundle.MetricBundle at 0x2b9ea2b50>,\n",
       " 'baseline_GalPlaneVisitIntervalsTimescales_magellenic_clouds_map_HEAL': <rubin_sim.maf.metric_bundles.metric_bundle.MetricBundle at 0x2b9ea3590>,\n",
       " 'baseline_GalPlaneSeasonGapsTimescales_magellenic_clouds_map_HEAL': <rubin_sim.maf.metric_bundles.metric_bundle.MetricBundle at 0x2b9ed0410>,\n",
       " 'baseline_GalplaneFootprintMetric_combined_map_HEAL': <rubin_sim.maf.metric_bundles.metric_bundle.MetricBundle at 0x2b9ed1090>,\n",
       " 'baseline_GalplaneTimePerFilter_combined_map_HEAL': <rubin_sim.maf.metric_bundles.metric_bundle.MetricBundle at 0x2b9ed1410>,\n",
       " 'baseline_GalPlaneVisitIntervalsTimescales_combined_map_HEAL': <rubin_sim.maf.metric_bundles.metric_bundle.MetricBundle at 0x2b9ed1f90>,\n",
       " 'baseline_GalPlaneSeasonGapsTimescales_combined_map_HEAL': <rubin_sim.maf.metric_bundles.metric_bundle.MetricBundle at 0x2b9ed2e10>,\n",
       " 'baseline_GalplaneFootprintMetric_open_clusters_map_HEAL': <rubin_sim.maf.metric_bundles.metric_bundle.MetricBundle at 0x2b9ed3a90>,\n",
       " 'baseline_GalplaneTimePerFilter_open_clusters_map_HEAL': <rubin_sim.maf.metric_bundles.metric_bundle.MetricBundle at 0x2b9ed3e10>,\n",
       " 'baseline_GalPlaneVisitIntervalsTimescales_open_clusters_map_HEAL': <rubin_sim.maf.metric_bundles.metric_bundle.MetricBundle at 0x2b9f189d0>,\n",
       " 'baseline_GalPlaneSeasonGapsTimescales_open_clusters_map_HEAL': <rubin_sim.maf.metric_bundles.metric_bundle.MetricBundle at 0x2b9f19850>,\n",
       " 'baseline_GalplaneFootprintMetric_bonito_sfr_map_HEAL': <rubin_sim.maf.metric_bundles.metric_bundle.MetricBundle at 0x2b9f1a4d0>,\n",
       " 'baseline_GalplaneTimePerFilter_bonito_sfr_map_HEAL': <rubin_sim.maf.metric_bundles.metric_bundle.MetricBundle at 0x2b9f1a850>,\n",
       " 'baseline_GalPlaneVisitIntervalsTimescales_bonito_sfr_map_HEAL': <rubin_sim.maf.metric_bundles.metric_bundle.MetricBundle at 0x2b9f1b3d0>,\n",
       " 'baseline_GalPlaneSeasonGapsTimescales_bonito_sfr_map_HEAL': <rubin_sim.maf.metric_bundles.metric_bundle.MetricBundle at 0x2b9f242d0>,\n",
       " 'baseline_GalplaneFootprintMetric_zucker_sfr_map_HEAL': <rubin_sim.maf.metric_bundles.metric_bundle.MetricBundle at 0x2b9f24f50>,\n",
       " 'baseline_GalplaneTimePerFilter_zucker_sfr_map_HEAL': <rubin_sim.maf.metric_bundles.metric_bundle.MetricBundle at 0x2b9f252d0>,\n",
       " 'baseline_GalPlaneVisitIntervalsTimescales_zucker_sfr_map_HEAL': <rubin_sim.maf.metric_bundles.metric_bundle.MetricBundle at 0x2b9f25e50>,\n",
       " 'baseline_GalPlaneSeasonGapsTimescales_zucker_sfr_map_HEAL': <rubin_sim.maf.metric_bundles.metric_bundle.MetricBundle at 0x2b9f26cd0>,\n",
       " 'baseline_GalplaneFootprintMetric_xray_binaries_map_HEAL': <rubin_sim.maf.metric_bundles.metric_bundle.MetricBundle at 0x2b9f27950>,\n",
       " 'baseline_GalplaneTimePerFilter_xray_binaries_map_HEAL': <rubin_sim.maf.metric_bundles.metric_bundle.MetricBundle at 0x2b9f27cd0>,\n",
       " 'baseline_GalPlaneVisitIntervalsTimescales_xray_binaries_map_HEAL': <rubin_sim.maf.metric_bundles.metric_bundle.MetricBundle at 0x2b9f30890>,\n",
       " 'baseline_GalPlaneSeasonGapsTimescales_xray_binaries_map_HEAL': <rubin_sim.maf.metric_bundles.metric_bundle.MetricBundle at 0x2b9f31710>,\n",
       " 'baseline_GalplaneFootprintMetric_globular_clusters_map_HEAL': <rubin_sim.maf.metric_bundles.metric_bundle.MetricBundle at 0x2b9f32390>,\n",
       " 'baseline_GalplaneTimePerFilter_globular_clusters_map_HEAL': <rubin_sim.maf.metric_bundles.metric_bundle.MetricBundle at 0x2b9f32710>,\n",
       " 'baseline_GalPlaneVisitIntervalsTimescales_globular_clusters_map_HEAL': <rubin_sim.maf.metric_bundles.metric_bundle.MetricBundle at 0x2b9f33290>,\n",
       " 'baseline_GalPlaneSeasonGapsTimescales_globular_clusters_map_HEAL': <rubin_sim.maf.metric_bundles.metric_bundle.MetricBundle at 0x2b9f44150>,\n",
       " 'baseline_N_stars_to_Precision_0_20_u_HEAL': <rubin_sim.maf.metric_bundles.metric_bundle.MetricBundle at 0x28e30d2d0>,\n",
       " 'baseline_N_stars_to_Precision_0_20_g_HEAL': <rubin_sim.maf.metric_bundles.metric_bundle.MetricBundle at 0x2b9f44b90>,\n",
       " 'baseline_N_stars_to_Precision_0_20_r_HEAL': <rubin_sim.maf.metric_bundles.metric_bundle.MetricBundle at 0x2b9f44f90>,\n",
       " 'baseline_N_stars_to_Precision_0_20_i_HEAL': <rubin_sim.maf.metric_bundles.metric_bundle.MetricBundle at 0x2b9f45390>,\n",
       " 'baseline_N_stars_to_Precision_0_20_z_HEAL': <rubin_sim.maf.metric_bundles.metric_bundle.MetricBundle at 0x2b9f45790>,\n",
       " 'baseline_N_stars_to_Precision_0_20_y_HEAL': <rubin_sim.maf.metric_bundles.metric_bundle.MetricBundle at 0x2b9f45b90>,\n",
       " 'baseline_Nstars_no_crowding_u_HEAL': <rubin_sim.maf.metric_bundles.metric_bundle.MetricBundle at 0x2b9f46290>,\n",
       " 'baseline_Nstars_no_crowding_g_HEAL': <rubin_sim.maf.metric_bundles.metric_bundle.MetricBundle at 0x2b9f46610>,\n",
       " 'baseline_Nstars_no_crowding_r_HEAL': <rubin_sim.maf.metric_bundles.metric_bundle.MetricBundle at 0x2b9f46a10>,\n",
       " 'baseline_Nstars_no_crowding_i_HEAL': <rubin_sim.maf.metric_bundles.metric_bundle.MetricBundle at 0x2b9f46e10>,\n",
       " 'baseline_Nstars_no_crowding_z_HEAL': <rubin_sim.maf.metric_bundles.metric_bundle.MetricBundle at 0x2b9f47210>,\n",
       " 'baseline_Nstars_no_crowding_y_HEAL': <rubin_sim.maf.metric_bundles.metric_bundle.MetricBundle at 0x2b9f47610>,\n",
       " 'baseline_Brown_Dwarf_L7_HEAL': <rubin_sim.maf.metric_bundles.metric_bundle.MetricBundle at 0x28e9cfb50>,\n",
       " 'baseline_Brown_Dwarf_L4_HEAL': <rubin_sim.maf.metric_bundles.metric_bundle.MetricBundle at 0x2b9f4c190>,\n",
       " 'baseline_young_stars_HEAL': <rubin_sim.maf.metric_bundles.metric_bundle.MetricBundle at 0x2b9f4d590>,\n",
       " 'baseline_LVDwarfs_gi_USER': <rubin_sim.maf.metric_bundles.metric_bundle.MetricBundle at 0x28e2e36d0>,\n",
       " 'baseline_LVDwarfs_gi_HEAL': <rubin_sim.maf.metric_bundles.metric_bundle.MetricBundle at 0x2b9f59e50>,\n",
       " 'baseline_LVDwarfs_gi_SCP_HEAL': <rubin_sim.maf.metric_bundles.metric_bundle.MetricBundle at 0x2b9f55e10>,\n",
       " 'baseline_NgalScale_i_HEAL': <rubin_sim.maf.metric_bundles.metric_bundle.MetricBundle at 0x2bb839e10>,\n",
       " 'baseline_NlcPoints_HEAL': <rubin_sim.maf.metric_bundles.metric_bundle.MetricBundle at 0x2bb7056d0>}"
      ]
     },
     "execution_count": 4,
     "metadata": {},
     "output_type": "execute_result"
    }
   ],
   "source": [
    "srb"
   ]
  },
  {
   "cell_type": "code",
   "execution_count": 5,
   "id": "b148c291",
   "metadata": {},
   "outputs": [],
   "source": [
    "kne_dict = {}\n",
    "for key in srb:\n",
    "    if ('KNe' in key) and ('Presto' not in key):\n",
    "        kne_dict[key] = srb[key]"
   ]
  },
  {
   "cell_type": "code",
   "execution_count": 6,
   "id": "51453c11",
   "metadata": {},
   "outputs": [
    {
     "data": {
      "text/plain": [
       "{'baseline_KNePopMetric_single_single_model_USER': <rubin_sim.maf.metric_bundles.metric_bundle.MetricBundle at 0x28e313cd0>,\n",
       " 'baseline_KNePopMetric_all_all_models_USER': <rubin_sim.maf.metric_bundles.metric_bundle.MetricBundle at 0x28e2f8250>}"
      ]
     },
     "execution_count": 6,
     "metadata": {},
     "output_type": "execute_result"
    }
   ],
   "source": [
    "kne_dict"
   ]
  },
  {
   "cell_type": "code",
   "execution_count": 7,
   "id": "3c7fcbf4",
   "metadata": {},
   "outputs": [
    {
     "name": "stdout",
     "output_type": "stream",
     "text": [
      "time = 9.81225681702296 min\n"
     ]
    }
   ],
   "source": [
    "t0 = time.time()\n",
    "group = mb.MetricBundleGroup(kne_dict, baseline_file, out_dir='temp', results_db=None, save_early=False\n",
    "        )\n",
    "group.run_all()\n",
    "t1 = time.time()\n",
    "dt = t1 - t0\n",
    "print('time = %s min' % (dt/60))"
   ]
  },
  {
   "cell_type": "code",
   "execution_count": 8,
   "id": "26379ac2",
   "metadata": {},
   "outputs": [
    {
     "name": "stdout",
     "output_type": "stream",
     "text": [
      "[{'multi_detect': 0, 'ztfrest_simple': 0, 'ztfrest_simple_red': 0, 'ztfrest_simple_blue': 0, 'multi_color_detect': 0, 'red_color_detect': 0, 'blue_color_detect': 0}\n",
      " {'multi_detect': 0, 'ztfrest_simple': 0, 'ztfrest_simple_red': 0, 'ztfrest_simple_blue': 0, 'multi_color_detect': 0, 'red_color_detect': 0, 'blue_color_detect': 0}\n",
      " {'multi_detect': 0, 'ztfrest_simple': 0, 'ztfrest_simple_red': 0, 'ztfrest_simple_blue': 0, 'multi_color_detect': 0, 'red_color_detect': 0, 'blue_color_detect': 0}\n",
      " ...\n",
      " {'multi_detect': 0, 'ztfrest_simple': 0, 'ztfrest_simple_red': 0, 'ztfrest_simple_blue': 0, 'multi_color_detect': 0, 'red_color_detect': 0, 'blue_color_detect': 0}\n",
      " {'multi_detect': 0, 'ztfrest_simple': 0, 'ztfrest_simple_red': 0, 'ztfrest_simple_blue': 0, 'multi_color_detect': 0, 'red_color_detect': 0, 'blue_color_detect': 0}\n",
      " {'multi_detect': 0, 'ztfrest_simple': 0, 'ztfrest_simple_red': 0, 'ztfrest_simple_blue': 0, 'multi_color_detect': 0, 'red_color_detect': 0, 'blue_color_detect': 0}]\n",
      "[{'multi_detect': 0, 'ztfrest_simple': 0, 'ztfrest_simple_red': 0, 'ztfrest_simple_blue': 0, 'multi_color_detect': 0, 'red_color_detect': 0, 'blue_color_detect': 0}\n",
      " {'multi_detect': 0, 'ztfrest_simple': 0, 'ztfrest_simple_red': 0, 'ztfrest_simple_blue': 0, 'multi_color_detect': 0, 'red_color_detect': 0, 'blue_color_detect': 0}\n",
      " {'multi_detect': 0, 'ztfrest_simple': 0, 'ztfrest_simple_red': 0, 'ztfrest_simple_blue': 0, 'multi_color_detect': 0, 'red_color_detect': 0, 'blue_color_detect': 0}\n",
      " ...\n",
      " {'multi_detect': 0, 'ztfrest_simple': 0, 'ztfrest_simple_red': 0, 'ztfrest_simple_blue': 0, 'multi_color_detect': 0, 'red_color_detect': 0, 'blue_color_detect': 0}\n",
      " {'multi_detect': 0, 'ztfrest_simple': 0, 'ztfrest_simple_red': 0, 'ztfrest_simple_blue': 0, 'multi_color_detect': 0, 'red_color_detect': 0, 'blue_color_detect': 0}\n",
      " {'multi_detect': 0, 'ztfrest_simple': 0, 'ztfrest_simple_red': 0, 'ztfrest_simple_blue': 0, 'multi_color_detect': 0, 'red_color_detect': 0, 'blue_color_detect': 0}]\n",
      "[0.0 0.0 0.0 ... 0.0 0.0 0.0]\n",
      "[0.0 0.0 0.0 ... 0.0 0.0 0.0]\n",
      "[0.0 0.0 0.0 ... 0.0 0.0 0.0]\n",
      "[0.0 0.0 0.0 ... 0.0 0.0 0.0]\n",
      "[0.0 0.0 0.0 ... 0.0 0.0 0.0]\n",
      "[0.0 0.0 0.0 ... 0.0 0.0 0.0]\n",
      "[0.0 0.0 0.0 ... 0.0 0.0 0.0]\n",
      "[0.0 0.0 0.0 ... 0.0 0.0 0.0]\n",
      "[0.0 0.0 0.0 ... 0.0 0.0 0.0]\n",
      "[0.0 0.0 0.0 ... 0.0 0.0 0.0]\n",
      "[0.0 0.0 0.0 ... 0.0 0.0 0.0]\n",
      "[0.0 0.0 0.0 ... 0.0 0.0 0.0]\n",
      "[0.0 0.0 0.0 ... 0.0 0.0 0.0]\n",
      "[0.0 0.0 0.0 ... 0.0 0.0 0.0]\n"
     ]
    }
   ],
   "source": [
    "for key in kne_dict:\n",
    "    print(kne_dict[key].metric_values)"
   ]
  },
  {
   "cell_type": "code",
   "execution_count": null,
   "id": "192f079b",
   "metadata": {},
   "outputs": [],
   "source": []
  },
  {
   "cell_type": "code",
   "execution_count": 9,
   "id": "c8750964",
   "metadata": {},
   "outputs": [],
   "source": [
    "# getting between 1 and 7 minutes at 50000"
   ]
  },
  {
   "cell_type": "code",
   "execution_count": 10,
   "id": "d89933e2",
   "metadata": {},
   "outputs": [],
   "source": [
    "# 250000 went in 4.8 min ,4.8"
   ]
  },
  {
   "cell_type": "code",
   "execution_count": 11,
   "id": "349388d3",
   "metadata": {},
   "outputs": [],
   "source": [
    "# 50k is 9.6 min, 9.8"
   ]
  }
 ],
 "metadata": {
  "kernelspec": {
   "display_name": "Python 3 (ipykernel)",
   "language": "python",
   "name": "python3"
  },
  "language_info": {
   "codemirror_mode": {
    "name": "ipython",
    "version": 3
   },
   "file_extension": ".py",
   "mimetype": "text/x-python",
   "name": "python",
   "nbconvert_exporter": "python",
   "pygments_lexer": "ipython3",
   "version": "3.11.0"
  }
 },
 "nbformat": 4,
 "nbformat_minor": 5
}
