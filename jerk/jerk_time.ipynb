{
 "cells": [
  {
   "cell_type": "code",
   "execution_count": 1,
   "id": "97684dd2-69e1-4728-aaa0-f735e25eb195",
   "metadata": {},
   "outputs": [],
   "source": [
    "import numpy as np\n",
    "import math\n"
   ]
  },
  {
   "cell_type": "code",
   "execution_count": 38,
   "id": "5864f57b-0b75-4747-8fd7-6649da459df3",
   "metadata": {},
   "outputs": [
    {
     "data": {
      "text/plain": [
       "[0, 0.45454545454545453, 0.45454545454545453, 6.454545454545454]"
      ]
     },
     "execution_count": 38,
     "metadata": {},
     "output_type": "execute_result"
    }
   ],
   "source": [
    "# Need to compute the time it takes to do something given a jerk, max_accel, vax_v\n",
    "\n",
    "cj = ConstantJerk(None, 5500, 2500, 15000)\n",
    "cj()\n"
   ]
  },
  {
   "cell_type": "code",
   "execution_count": 39,
   "id": "cc078320-d050-4daa-ae03-5b3c14777712",
   "metadata": {},
   "outputs": [
    {
     "data": {
      "text/plain": [
       "[1.118033988749895, 1.118033988749895, 2.23606797749979, 8.23606797749979]"
      ]
     },
     "execution_count": 39,
     "metadata": {},
     "output_type": "execute_result"
    }
   ],
   "source": [
    "cj = ConstantJerk(2000, 5500, 2500, 15000)\n",
    "cj()\n"
   ]
  },
  {
   "cell_type": "code",
   "execution_count": 36,
   "id": "c970f2ee-680c-40ef-b2ad-ffc095917890",
   "metadata": {},
   "outputs": [],
   "source": [
    "\n",
    "\n",
    "\n",
    "\n",
    "\n",
    "\n",
    "class ConstantJerk:\n",
    "    \"\"\"Initially from https://github.com/mdhom/py_constant_jerk/blob/main/constantJerk.py\n",
    "    \"\"\"\n",
    "    def __init__(self, jerk_max, acc_max, v_max, s):\n",
    "        self.jerk_max = jerk_max\n",
    "        self.acc_max = acc_max\n",
    "        self.v_max = v_max\n",
    "\n",
    "        self.trajectory_instance_case = self.__get_trajectory_instance_case(s)\n",
    "        tj, ta, tv = self.__calculate_times(s)\n",
    "        self.t1 = tj\n",
    "        self.t2 = ta\n",
    "        self.t3 = ta + tj\n",
    "        self.t4 = tv\n",
    "        self.t5 = tv + tj\n",
    "        self.t6 = tv + ta\n",
    "        self.t7 = tv + tj + ta\n",
    "\n",
    "    def __call__(self):\n",
    "        return [self.t1, self.t2, self.t3, self.t7]\n",
    "\n",
    "    def __get_trajectory_instance_case(self, s: float):\n",
    "        # Case 1: a_max reached, v_max reached and constant for a time\n",
    "        #          (s = 100,   j = 2000, a = 500,  vMax = 120)\n",
    "        # Case 2: a_max not reached, v_max not reached\n",
    "        #          (s = 15000, j = 2000, a = 5500, vMax = 20500)\n",
    "        # Case 3: a_max not reached, v_max reached and constant for a time\n",
    "        #          (s = 15000, j = 2000, a = 5500, vMax = 2500)\n",
    "        # Case 4: a_max reached, v_max not reached\n",
    "        #          (s = 57,    j = 2000, a = 500,  vMax = 120)\n",
    "        # Case 5: a_max reached and constant for a time, v_max reached and constant for a time\n",
    "        #          (s = 15000, j = 2000, a = 500,  vMax = 2500)\n",
    "        # Case 6: a_max reached and constant for a time, v_max not reached\n",
    "        #          (s = 15000, j = 2000, a = 500,  vMax = 20500)\n",
    "\n",
    "        if self.jerk_max is None:\n",
    "            v_a = 0\n",
    "            s_a = 0\n",
    "        else:\n",
    "            v_a = self.acc_max * self.acc_max / self.jerk_max\n",
    "            s_a = 2 * self.acc_max * self.acc_max * self.acc_max / (self.jerk_max * self.jerk_max)\n",
    "        s_v = 0.0\n",
    "        if self.jerk_max is not None:\n",
    "            if self.v_max * self.jerk_max < self.acc_max * self.acc_max:\n",
    "                s_v = self.v_max * 2 * math.sqrt(self.v_max / self.jerk_max)\n",
    "            else:\n",
    "                s_v = self.v_max * (self.v_max / self.acc_max + self.acc_max / self.jerk_max)\n",
    "\n",
    "        if self.v_max <= v_a and s > s_a:\n",
    "            return 1\n",
    "        elif self.v_max > v_a and s < s_a:\n",
    "            return 2\n",
    "        elif self.v_max < v_a and s_a > s > s_v:\n",
    "            return 3\n",
    "        elif self.v_max < v_a and s < s_a and s < s_v:\n",
    "            return 4\n",
    "        elif self.v_max > v_a and s > s_a and s >= s_v:\n",
    "            return 5\n",
    "        elif self.v_max > v_a and s_a < s < s_v:\n",
    "            return 6\n",
    "        else:\n",
    "            return None\n",
    "\n",
    "    def __calculate_times(self, s: float):\n",
    "        if self.trajectory_instance_case == 1 or self.trajectory_instance_case == 3:\n",
    "            if self.jerk_max is None:\n",
    "                tj = 0\n",
    "            else:\n",
    "                tj = math.sqrt(self.v_max / self.jerk_max)\n",
    "            ta = tj\n",
    "            tv = s / self.v_max\n",
    "            return tj, ta, tv\n",
    "        elif self.trajectory_instance_case == 2 or self.trajectory_instance_case == 4:\n",
    "            if self.jerk_max is None:\n",
    "                tj = 0\n",
    "            else:\n",
    "                tj = (s / (2 * self.jerk_max))**(1./3.)\n",
    "            ta = tj\n",
    "            tv = 2 * tj\n",
    "            return tj, ta, tv\n",
    "        elif self.trajectory_instance_case == 5:\n",
    "            if self.jerk_max is None:\n",
    "                tj = 0\n",
    "            else:\n",
    "                tj = self.acc_max / self.jerk_max\n",
    "            ta = self.v_max / self.acc_max\n",
    "            tv = s / self.v_max\n",
    "            return tj, ta, tv\n",
    "        elif self.trajectory_instance_case == 6:\n",
    "            if self.jerk_max is None:\n",
    "                tj = 0\n",
    "                ta = 0\n",
    "            else:\n",
    "                tj = self.acc_max / self.jerk_max\n",
    "                ta = 0.5 * (math.sqrt(\n",
    "                    (4 * s * self.jerk_max * self.jerk_max + self.acc_max * self.acc_max * self.acc_max) / (\n",
    "                                self.acc_max * self.jerk_max * self.jerk_max)) - self.acc_max / self.jerk_max)\n",
    "            tv = ta + tj\n",
    "            return tj, ta, tv\n",
    "        else:\n",
    "            raise Exception(\"TrajectoryInstance must be between 1 and 6\")\n",
    "\n",
    "    def get_status(self, t: float):\n",
    "        if t <= self.t1:\n",
    "            return self.__get_status1(t)\n",
    "        else:\n",
    "            j1, a1, v1, s1 = self.__get_status1(self.t1)\n",
    "            if t <= self.t2:\n",
    "                return self.__get_status2(t, a1, v1, s1)\n",
    "            else:\n",
    "                j2, a2, v2, s2 = self.__get_status2(self.t2, a1, v1, s1)\n",
    "                if t <= self.t3:\n",
    "                    return self.__get_status3(t, a2, v2, s2)\n",
    "                else:\n",
    "                    j3, a3, v3, s3 = self.__get_status3(self.t3, a2, v2, s2)\n",
    "                    if t <= self.t4:\n",
    "                        return self.__get_status4(t, v3, s3)\n",
    "                    else:\n",
    "                        j4, a4, v4, s4 = self.__get_status4(self.t4, v3, s3)\n",
    "                        if t <= self.t5:\n",
    "                            return self.__get_status5(t, v4, s4)\n",
    "                        else:\n",
    "                            j5, a5, v5, s5 = self.__get_status5(self.t5, v4, s4)\n",
    "                            if t <= self.t6:\n",
    "                                return self.__get_status6(t, a5, v5, s5)\n",
    "                            else:\n",
    "                                j6, a6, v6, s6 = self.__get_status6(self.t6, a5, v5, s5)\n",
    "                                return self.__get_status7(min(t, self.t7), a6, v6, s6)\n",
    "\n",
    "    def __get_status1(self, t: float):\n",
    "        if self.jerk_max is None:\n",
    "            j = None\n",
    "            a = self.acc_max\n",
    "            v = self.acc_max * t\n",
    "            s = 0.5 * self.acc_max * t * t\n",
    "        else:\n",
    "            j = self.jerk_max\n",
    "            a = self.jerk_max * t\n",
    "            v = 0.5 * self.jerk_max * t * t\n",
    "            s = self.jerk_max / 6 * t * t * t\n",
    "        return j, a, v, s\n",
    "\n",
    "    def __get_status2(self, t: float, a1: float, v1: float, s1: float):\n",
    "        j = 0\n",
    "        a = a1\n",
    "        v = v1 + a1 * (t - self.t1)\n",
    "        s = s1 + v1 * (t - self.t1) + 0.5 * a1 * (t - self.t1) * (t - self.t1)\n",
    "        return j, a, v, s\n",
    "\n",
    "    def __get_status3(self, t: float, a2: float, v2: float, s2: float):\n",
    "        t_phase = t - self.t2\n",
    "        t_phase2 = t_phase * t_phase\n",
    "        t_phase3 = t_phase2 * t_phase\n",
    "        \n",
    "        j = -self.jerk_max\n",
    "        a = a2 - self.jerk_max * t_phase\n",
    "        v = v2 + a2 * t_phase + 0.5 * -self.jerk_max * t_phase2\n",
    "        s = s2 + v2 * t_phase + 0.5 * a2 * t_phase2 + -self.jerk_max / 6 * t_phase3\n",
    "        return j, a, v, s\n",
    "\n",
    "    def __get_status4(self, t: float, v3: float, s3: float):\n",
    "        t_phase = t - self.t3\n",
    "        j = 0\n",
    "        a = 0\n",
    "        v = v3\n",
    "        s = s3 + v3 * t_phase\n",
    "        return j, a, v, s\n",
    "\n",
    "    def __get_status5(self, t: float, v4: float, s4: float):\n",
    "        t_phase = t - self.t4\n",
    "        t_phase2 = t_phase * t_phase\n",
    "        t_phase3 = t_phase2 * t_phase\n",
    "        j = -self.jerk_max\n",
    "        a = -self.jerk_max * t_phase\n",
    "        v = v4 + 0.5 * -self.jerk_max * t_phase2\n",
    "        s = s4 + v4 * t_phase + -self.jerk_max / 6 * t_phase3\n",
    "        return j, a, v, s\n",
    "\n",
    "    def __get_status6(self, t: float, a5: float, v5: float, s5: float):\n",
    "        t_phase = t - self.t5\n",
    "        t_phase2 = t_phase * t_phase\n",
    "        j = 0\n",
    "        a = a5\n",
    "        v = v5 - self.acc_max * t_phase\n",
    "        s = s5 + v5 * t_phase + 0.5 * a5 * t_phase2\n",
    "        return j, a, v, s\n",
    "\n",
    "    def __get_status7(self, t: float, a6: float, v6: float, s6: float):\n",
    "        t_phase = t - self.t6\n",
    "        t_phase2 = t_phase * t_phase\n",
    "        t_phase3 = t_phase2 * t_phase\n",
    "        j = self.jerk_max\n",
    "        a = a6 + self.jerk_max * t_phase\n",
    "        v = v6 + a6 * t_phase + 0.5 * self.jerk_max * t_phase2\n",
    "        s = s6 + v6 * t_phase + 0.5 * a6 * t_phase2 + self.jerk_max / 6 * t_phase3\n",
    "        return j, a, v, s"
   ]
  },
  {
   "cell_type": "code",
   "execution_count": 30,
   "id": "ccd07505-dc8d-40aa-ad91-86c3d43a370c",
   "metadata": {},
   "outputs": [],
   "source": [
    "cj = ConstantJerk(2, 10, 10, 1)"
   ]
  },
  {
   "cell_type": "code",
   "execution_count": 31,
   "id": "511ea801-20f6-4007-b98a-000b7361c2c6",
   "metadata": {},
   "outputs": [
    {
     "data": {
      "text/plain": [
       "[0.6299605249474366, 2.5198420997897464]"
      ]
     },
     "execution_count": 31,
     "metadata": {},
     "output_type": "execute_result"
    }
   ],
   "source": [
    "cj()"
   ]
  },
  {
   "cell_type": "code",
   "execution_count": 26,
   "id": "422213b0-80b4-423c-bd44-a5ab75b03675",
   "metadata": {},
   "outputs": [
    {
     "data": {
      "text/plain": [
       "(2, 4.440892098500626e-16, 3.885780586188048e-16, 1.0000000000000004)"
      ]
     },
     "execution_count": 26,
     "metadata": {},
     "output_type": "execute_result"
    }
   ],
   "source": [
    "cj.get_status(50.)"
   ]
  },
  {
   "cell_type": "code",
   "execution_count": 28,
   "id": "ee489eb9-3bd6-4ddd-a746-f50422ee35c7",
   "metadata": {},
   "outputs": [
    {
     "data": {
      "text/plain": [
       "2.5198420997897464"
      ]
     },
     "execution_count": 28,
     "metadata": {},
     "output_type": "execute_result"
    }
   ],
   "source": [
    "cj.t7"
   ]
  },
  {
   "cell_type": "code",
   "execution_count": 1,
   "id": "c9d5e4e8-ff52-4e4f-98ca-f4c9bef55496",
   "metadata": {},
   "outputs": [],
   "source": [
    "from jerk import jerk_time\n",
    "import numpy as np"
   ]
  },
  {
   "cell_type": "code",
   "execution_count": 2,
   "id": "fb495e91-f8df-47cf-bbb3-371819a81042",
   "metadata": {},
   "outputs": [
    {
     "data": {
      "text/plain": [
       "(array([1.41421356]), array([1.41422056]))"
      ]
     },
     "execution_count": 2,
     "metadata": {},
     "output_type": "execute_result"
    }
   ],
   "source": [
    "jerk_time(np.array(3.5), 7., 7., None), jerk_time(np.array(3.5), 7., 7., 1e6)"
   ]
  },
  {
   "cell_type": "code",
   "execution_count": 3,
   "id": "2b6bc356-8f75-456b-9586-40940576ac67",
   "metadata": {},
   "outputs": [
    {
     "data": {
      "text/plain": [
       "array([3.03658897])"
      ]
     },
     "execution_count": 3,
     "metadata": {},
     "output_type": "execute_result"
    }
   ],
   "source": [
    "jerk_time(np.array(3.5), 7., 7., 4)"
   ]
  },
  {
   "cell_type": "code",
   "execution_count": 4,
   "id": "ddc27092-a86e-49a0-bf98-0fc05b7da317",
   "metadata": {},
   "outputs": [
    {
     "data": {
      "text/plain": [
       "(array([2.]), array([2.83690476]))"
      ]
     },
     "execution_count": 4,
     "metadata": {},
     "output_type": "execute_result"
    }
   ],
   "source": [
    "jerk_time(np.array(3.5), 3.5, 3.5, None), jerk_time(np.array(3.5), 3.5*.7, 3.5*.7, 6)"
   ]
  },
  {
   "cell_type": "code",
   "execution_count": null,
   "id": "21413f06-23cf-4548-ac98-a661706adfde",
   "metadata": {},
   "outputs": [],
   "source": []
  },
  {
   "cell_type": "code",
   "execution_count": 5,
   "id": "0408006c-d21c-4937-b9a9-efda3511005e",
   "metadata": {},
   "outputs": [],
   "source": [
    "# Case 1: a_max reached, v_max reached and constant for a time\n",
    "        #          (s = 100,   j = 2000, a = 500,  vMax = 120)\n",
    "        # Case 2: a_max not reached, v_max not reached\n",
    "        #          (s = 15000, j = 2000, a = 5500, vMax = 20500)\n",
    "        # Case 3: a_max not reached, v_max reached and constant for a time\n",
    "        #          (s = 15000, j = 2000, a = 5500, vMax = 2500)\n",
    "        # Case 4: a_max reached, v_max not reached\n",
    "        #          (s = 57,    j = 2000, a = 500,  vMax = 120)\n",
    "        # Case 5: a_max reached and constant for a time, v_max reached and constant for a time\n",
    "        #          (s = 15000, j = 2000, a = 500,  vMax = 2500)\n",
    "        # Case 6: a_max reached and constant for a time, v_max not reached\n",
    "        #          (s = 15000, j = 2000, a = 500,  vMax = 20500)"
   ]
  },
  {
   "cell_type": "code",
   "execution_count": 5,
   "id": "663b149b-4f39-4b7c-98d5-e9f4dfbd9d34",
   "metadata": {},
   "outputs": [
    {
     "data": {
      "text/plain": [
       "array([0.        , 1.06904497, 1.51185789, 1.8516402 , 2.14285714,\n",
       "       2.42857143, 2.71428571, 3.        , 3.28571429, 3.57142857])"
      ]
     },
     "execution_count": 5,
     "metadata": {},
     "output_type": "execute_result"
    }
   ],
   "source": [
    "jerk_time(np.arange(10), 3.5, 3.5, None)"
   ]
  },
  {
   "cell_type": "code",
   "execution_count": 6,
   "id": "9a2a7112-7c85-4b19-86f1-81d36fa7ed3b",
   "metadata": {},
   "outputs": [
    {
     "data": {
      "text/plain": [
       "array([0.        , 1.74716093, 2.20128483, 2.52468575, 2.79957031,\n",
       "       3.0439356 , 3.29761905, 3.58333333, 3.86904762, 4.1547619 ])"
      ]
     },
     "execution_count": 6,
     "metadata": {},
     "output_type": "execute_result"
    }
   ],
   "source": [
    "jerk_time(np.arange(10), 3.5, 3.5, 6)"
   ]
  },
  {
   "cell_type": "code",
   "execution_count": null,
   "id": "eca6dc4b-64a7-4064-a931-34310322f8d9",
   "metadata": {},
   "outputs": [],
   "source": []
  },
  {
   "cell_type": "code",
   "execution_count": null,
   "id": "094d2590-dd5d-4089-914e-0cd567610361",
   "metadata": {},
   "outputs": [],
   "source": []
  }
 ],
 "metadata": {
  "kernelspec": {
   "display_name": "Python 3 (ipykernel)",
   "language": "python",
   "name": "python3"
  },
  "language_info": {
   "codemirror_mode": {
    "name": "ipython",
    "version": 3
   },
   "file_extension": ".py",
   "mimetype": "text/x-python",
   "name": "python",
   "nbconvert_exporter": "python",
   "pygments_lexer": "ipython3",
   "version": "3.11.6"
  }
 },
 "nbformat": 4,
 "nbformat_minor": 5
}
