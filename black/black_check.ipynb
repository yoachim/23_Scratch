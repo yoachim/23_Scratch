{
 "cells": [
  {
   "cell_type": "code",
   "execution_count": 11,
   "id": "69dac389-f401-4be0-9007-1f366a59ee1a",
   "metadata": {},
   "outputs": [],
   "source": [
    "import numpy as np"
   ]
  },
  {
   "cell_type": "code",
   "execution_count": 21,
   "id": "49009d8a-180a-4ad5-8778-4b766d2363ab",
   "metadata": {},
   "outputs": [],
   "source": [
    "\n",
    "ack = np.arange(10)\n",
    "\n",
    "ind1 = np.where(ack > 5)[0]\n",
    "ind2 = np.where(ack[ind1] < 9)[0]\n"
   ]
  },
  {
   "cell_type": "code",
   "execution_count": 25,
   "id": "82c6045f-6110-4026-92e3-e766355ed286",
   "metadata": {},
   "outputs": [
    {
     "data": {
      "text/plain": [
       "array([6, 7, 8])"
      ]
     },
     "execution_count": 25,
     "metadata": {},
     "output_type": "execute_result"
    }
   ],
   "source": [
    "ack[ind1][ind2]\n"
   ]
  },
  {
   "cell_type": "code",
   "execution_count": 26,
   "id": "5af86c4d-73ea-436c-8919-c8313f874838",
   "metadata": {},
   "outputs": [
    {
     "data": {
      "text/plain": [
       "array([6, 7, 8])"
      ]
     },
     "execution_count": 26,
     "metadata": {},
     "output_type": "execute_result"
    }
   ],
   "source": [
    "ack[ind1[ind2]]"
   ]
  },
  {
   "cell_type": "code",
   "execution_count": 27,
   "id": "a8d68810-12f8-4d47-9941-04ad3be74eca",
   "metadata": {},
   "outputs": [
    {
     "data": {
      "text/plain": [
       "array([0, 1, 2, 3, 4, 5, 6, 7, 8, 9])"
      ]
     },
     "execution_count": 27,
     "metadata": {},
     "output_type": "execute_result"
    }
   ],
   "source": [
    "ack = np.arange(10)\n",
    "ack[ind1][ind2] = 666\n",
    "ack"
   ]
  },
  {
   "cell_type": "code",
   "execution_count": 28,
   "id": "763fd22b-4f10-4553-9984-3b263f1fef26",
   "metadata": {},
   "outputs": [
    {
     "data": {
      "text/plain": [
       "array([  0,   1,   2,   3,   4,   5, 666, 666, 666,   9])"
      ]
     },
     "execution_count": 28,
     "metadata": {},
     "output_type": "execute_result"
    }
   ],
   "source": [
    "ack = np.arange(10)\n",
    "ack[ind1[ind2]] = 666\n",
    "ack"
   ]
  },
  {
   "cell_type": "code",
   "execution_count": null,
   "id": "7bf07769-55dc-42a3-9692-e76f4444381f",
   "metadata": {},
   "outputs": [],
   "source": [
    "# But there are other times where one might want to use ack[ind1][ind2] = something and it would\n",
    "# work, e.g., if it was a nested list. "
   ]
  }
 ],
 "metadata": {
  "kernelspec": {
   "display_name": "Python 3 (ipykernel)",
   "language": "python",
   "name": "python3"
  },
  "language_info": {
   "codemirror_mode": {
    "name": "ipython",
    "version": 3
   },
   "file_extension": ".py",
   "mimetype": "text/x-python",
   "name": "python",
   "nbconvert_exporter": "python",
   "pygments_lexer": "ipython3",
   "version": "3.11.6"
  }
 },
 "nbformat": 4,
 "nbformat_minor": 5
}
