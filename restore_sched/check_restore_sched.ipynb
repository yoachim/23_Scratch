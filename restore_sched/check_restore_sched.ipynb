{
 "cells": [
  {
   "cell_type": "code",
   "execution_count": 1,
   "id": "f6a85ccb",
   "metadata": {},
   "outputs": [],
   "source": [
    "import numpy as np\n",
    "import healpy as hp\n",
    "import matplotlib.pylab as plt\n",
    "%matplotlib inline\n",
    "import pandas as pd\n",
    "\n",
    "from rubin_sim.scheduler import sim_runner\n",
    "from rubin_sim.scheduler.model_observatory import ModelObservatory\n",
    "from rubin_sim.scheduler.example import example_scheduler\n",
    "\n",
    "\n",
    "\n",
    "from rubin_sim.scheduler.utils import restore_scheduler"
   ]
  },
  {
   "cell_type": "code",
   "execution_count": 2,
   "id": "56c59fbb",
   "metadata": {},
   "outputs": [
    {
     "name": "stdout",
     "output_type": "stream",
     "text": [
      "Optimizing ELAISS1\n",
      "Optimizing XMM_LSS\n",
      "Optimizing ECDFS\n",
      "Optimizing COSMOS\n",
      "Optimizing EDFS_a\n"
     ]
    },
    {
     "name": "stderr",
     "output_type": "stream",
     "text": [
      "/Users/yoachim/git_repos/rubin_sim/rubin_sim/skybrightness_pre/sky_model_pre.py:272: UserWarning: Requested MJD between sunrise and sunset, returning closest maps\n",
      "  warnings.warn(\n",
      "/Users/yoachim/git_repos/rubin_sim/rubin_sim/scheduler/utils/utils.py:73: RuntimeWarning: invalid value encountered in cast\n",
      "  self.value = np.round(inval * scale).astype(int)\n"
     ]
    },
    {
     "name": "stdout",
     "output_type": "stream",
     "text": [
      "progress = 81.67%"
     ]
    },
    {
     "name": "stderr",
     "output_type": "stream",
     "text": [
      "/Users/yoachim/git_repos/rubin_sim/rubin_sim/utils/healpy_utils.py:331: RuntimeWarning: All-NaN slice encountered\n",
      "  in_map[current_neighbors] == np.nanmax(in_map[current_neighbors])\n",
      "/Users/yoachim/git_repos/rubin_sim/rubin_sim/utils/healpy_utils.py:335: UserWarning: Can not connect to any more pixels.\n",
      "  warnings.warn(\"Can not connect to any more pixels.\")\n"
     ]
    },
    {
     "name": "stdout",
     "output_type": "stream",
     "text": [
      "progress = 100.00%Skipped 0 observations\n",
      "Flushed 771 observations from queue for being stale\n",
      "Completed 6590 observations\n",
      "ran in 0 min = 0.0 hours\n",
      "Writing results to  temp.db\n"
     ]
    }
   ],
   "source": [
    "mjd_start=60676.0\n",
    "\n",
    "scheduler = example_scheduler(mjd_start=mjd_start)\n",
    "\n",
    "mo = ModelObservatory(mjd_start=mjd_start)\n",
    "mo, scheduler, observations = sim_runner(mo, scheduler, survey_length=10.0, verbose=True, filename='temp.db')"
   ]
  },
  {
   "cell_type": "code",
   "execution_count": 3,
   "id": "7da008bf",
   "metadata": {},
   "outputs": [
    {
     "data": {
      "text/plain": [
       "array([60687.03478027])"
      ]
     },
     "execution_count": 3,
     "metadata": {},
     "output_type": "execute_result"
    }
   ],
   "source": [
    "mo.mjd"
   ]
  },
  {
   "cell_type": "code",
   "execution_count": 4,
   "id": "b6ae38e0",
   "metadata": {},
   "outputs": [
    {
     "name": "stdout",
     "output_type": "stream",
     "text": [
      "Optimizing ELAISS1\n",
      "Optimizing XMM_LSS\n",
      "Optimizing ECDFS\n",
      "Optimizing COSMOS\n",
      "Optimizing EDFS_a\n"
     ]
    }
   ],
   "source": [
    "\n",
    "new_sched = example_scheduler(mjd_start=mjd_start)\n",
    "new_mo = ModelObservatory(mjd_start=mjd_start)\n",
    "\n",
    "restored_sched, restored_obs = restore_scheduler(3000, new_sched, new_mo, 'temp.db')"
   ]
  },
  {
   "cell_type": "code",
   "execution_count": 5,
   "id": "8e713a0d",
   "metadata": {},
   "outputs": [
    {
     "data": {
      "text/plain": [
       "(60681.13804143498, 60681.13764791646)"
      ]
     },
     "execution_count": 5,
     "metadata": {},
     "output_type": "execute_result"
    }
   ],
   "source": [
    "restored_obs.mjd, observations[3000]['mjd']"
   ]
  },
  {
   "cell_type": "code",
   "execution_count": 6,
   "id": "3e00325f",
   "metadata": {},
   "outputs": [
    {
     "data": {
      "text/plain": [
       "False"
      ]
     },
     "execution_count": 6,
     "metadata": {},
     "output_type": "execute_result"
    }
   ],
   "source": [
    "restored_obs.observatory.parked"
   ]
  },
  {
   "cell_type": "code",
   "execution_count": 9,
   "id": "f4dd8359",
   "metadata": {},
   "outputs": [
    {
     "data": {
      "text/plain": [
       "(None, -0.8075097669001244)"
      ]
     },
     "execution_count": 9,
     "metadata": {},
     "output_type": "execute_result"
    }
   ],
   "source": [
    "restored_obs.observatory.current_ra_rad, restored_obs.observatory.current_dec_rad, "
   ]
  },
  {
   "cell_type": "code",
   "execution_count": 8,
   "id": "63cb3b70",
   "metadata": {},
   "outputs": [
    {
     "data": {
      "text/plain": [
       "(3000, 1.00666434, -0.80750977, 60681.13764792, 60681.14823422, 30., 'z', 0.24337737, 0.60259505, 2, 1.11638858, 0.80785757, 0.99603018, 0.8707368, 19.3756099, 5, 5.47093976, 34., 0.05306585, 22.98476682, 1.11010521, 3.9276443, 1.08481079, 0., 0.10602678, -0.57532163, 'blob, iz, b', -1, 66, 1, 5.65115412, 1.32818817, 1.32818817, 4.83110127, 3.57953082, 5.00970816, -0.39291663, 0.05457068, 0.04611573, 1.19479605, 1.71054784, 43.45513015, -1.33193667, 0)"
      ]
     },
     "execution_count": 8,
     "metadata": {},
     "output_type": "execute_result"
    }
   ],
   "source": [
    "observations[3000]"
   ]
  },
  {
   "cell_type": "code",
   "execution_count": null,
   "id": "1570b618",
   "metadata": {},
   "outputs": [],
   "source": []
  }
 ],
 "metadata": {
  "kernelspec": {
   "display_name": "Python 3 (ipykernel)",
   "language": "python",
   "name": "python3"
  },
  "language_info": {
   "codemirror_mode": {
    "name": "ipython",
    "version": 3
   },
   "file_extension": ".py",
   "mimetype": "text/x-python",
   "name": "python",
   "nbconvert_exporter": "python",
   "pygments_lexer": "ipython3",
   "version": "3.11.0"
  }
 },
 "nbformat": 4,
 "nbformat_minor": 5
}
