{
 "cells": [
  {
   "cell_type": "code",
   "execution_count": 1,
   "id": "3d65f059",
   "metadata": {},
   "outputs": [],
   "source": [
    "import numpy as np\n",
    "import healpy as hp\n",
    "import matplotlib.pylab as plt\n",
    "%matplotlib inline\n",
    "import pandas as pd\n",
    "\n",
    "from rubin_sim.scheduler import sim_runner\n",
    "from rubin_sim.scheduler.model_observatory import ModelObservatory\n",
    "from rubin_sim.scheduler.example import example_scheduler\n",
    "\n",
    "import time\n",
    "\n",
    "from rubin_sim.scheduler.utils import restore_scheduler"
   ]
  },
  {
   "cell_type": "code",
   "execution_count": 2,
   "id": "f9327882",
   "metadata": {},
   "outputs": [],
   "source": [
    "mjd_start=60676.0\n"
   ]
  },
  {
   "cell_type": "code",
   "execution_count": 3,
   "id": "ca9f97e5",
   "metadata": {},
   "outputs": [
    {
     "name": "stdout",
     "output_type": "stream",
     "text": [
      "Optimizing ELAISS1\n",
      "Optimizing XMM_LSS\n",
      "Optimizing ECDFS\n",
      "Optimizing COSMOS\n",
      "Optimizing EDFS_a\n"
     ]
    },
    {
     "name": "stderr",
     "output_type": "stream",
     "text": [
      "/Users/yoachim/git_repos/rubin_sim/rubin_sim/skybrightness_pre/sky_model_pre.py:272: UserWarning: Requested MJD between sunrise and sunset, returning closest maps\n",
      "  warnings.warn(\n",
      "/Users/yoachim/git_repos/rubin_sim/rubin_sim/scheduler/utils/utils.py:73: RuntimeWarning: invalid value encountered in cast\n",
      "  self.value = np.round(inval * scale).astype(int)\n"
     ]
    },
    {
     "name": "stdout",
     "output_type": "stream",
     "text": [
      "progress = 40.84%Skipped 0 observations\n",
      "Flushed 489 observations from queue for being stale\n",
      "Completed 3000 observations\n",
      "ran in 0 min = 0.0 hours\n",
      "Writing results to  None\n"
     ]
    }
   ],
   "source": [
    "\n",
    "n_visit_limit = 3000\n",
    "\n",
    "scheduler = example_scheduler(mjd_start=mjd_start)\n",
    "\n",
    "mo = ModelObservatory(mjd_start=mjd_start)\n",
    "mo, scheduler, observations = sim_runner(mo, scheduler, survey_length=10.0, verbose=True,\n",
    "                                         filename=None, n_visit_limit=n_visit_limit)"
   ]
  },
  {
   "cell_type": "code",
   "execution_count": 4,
   "id": "dc30dc4d",
   "metadata": {},
   "outputs": [
    {
     "name": "stdout",
     "output_type": "stream",
     "text": [
      "Optimizing ELAISS1\n",
      "Optimizing XMM_LSS\n",
      "Optimizing ECDFS\n",
      "Optimizing COSMOS\n",
      "Optimizing EDFS_a\n"
     ]
    }
   ],
   "source": [
    "new_sched = example_scheduler(mjd_start=mjd_start)\n",
    "new_mo = ModelObservatory(mjd_start=mjd_start)\n",
    "\n",
    "restored_sched, restored_obs = restore_scheduler(5e6, new_sched, new_mo, observations)"
   ]
  },
  {
   "cell_type": "code",
   "execution_count": 5,
   "id": "e2f37733",
   "metadata": {},
   "outputs": [
    {
     "name": "stdout",
     "output_type": "stream",
     "text": [
      "Optimizing ELAISS1\n",
      "Optimizing XMM_LSS\n",
      "Optimizing ECDFS\n",
      "Optimizing COSMOS\n",
      "Optimizing EDFS_a\n"
     ]
    }
   ],
   "source": [
    "new_sched = example_scheduler(mjd_start=mjd_start)\n",
    "new_mo = ModelObservatory(mjd_start=mjd_start)\n",
    "\n",
    "restored_sched, restored_obs = restore_scheduler(5e6, new_sched, new_mo, observations, fast=False)"
   ]
  },
  {
   "cell_type": "code",
   "execution_count": null,
   "id": "ddbc2550",
   "metadata": {},
   "outputs": [],
   "source": []
  },
  {
   "cell_type": "code",
   "execution_count": null,
   "id": "a5eff7a6",
   "metadata": {},
   "outputs": [],
   "source": []
  },
  {
   "cell_type": "code",
   "execution_count": 6,
   "id": "47cca80e",
   "metadata": {},
   "outputs": [
    {
     "name": "stdout",
     "output_type": "stream",
     "text": [
      "Optimizing ELAISS1\n",
      "Optimizing XMM_LSS\n",
      "Optimizing ECDFS\n",
      "Optimizing COSMOS\n",
      "Optimizing EDFS_a\n",
      "4.683722265561422 min\n"
     ]
    }
   ],
   "source": [
    "t0 = time.time()\n",
    "new_sched = example_scheduler(mjd_start=mjd_start)\n",
    "new_mo = ModelObservatory(mjd_start=mjd_start)\n",
    "restored_sched, restored_obs = restore_scheduler(5e6, new_sched, new_mo, 'example_scheduler_v3.1_10yrs.db')\n",
    "t1 = time.time()\n",
    "dt = t1-t0\n",
    "print(dt/60., 'min')"
   ]
  },
  {
   "cell_type": "code",
   "execution_count": 7,
   "id": "0011f643",
   "metadata": {},
   "outputs": [],
   "source": [
    "# so, under 5 minutes. \n",
    "# In theory, there's no reason a lot of that couldn't be done in parallel. In practice, that seems hard."
   ]
  },
  {
   "cell_type": "code",
   "execution_count": null,
   "id": "787569f5",
   "metadata": {},
   "outputs": [],
   "source": []
  },
  {
   "cell_type": "code",
   "execution_count": null,
   "id": "4fec1178",
   "metadata": {},
   "outputs": [],
   "source": []
  }
 ],
 "metadata": {
  "kernelspec": {
   "display_name": "Python 3 (ipykernel)",
   "language": "python",
   "name": "python3"
  },
  "language_info": {
   "codemirror_mode": {
    "name": "ipython",
    "version": 3
   },
   "file_extension": ".py",
   "mimetype": "text/x-python",
   "name": "python",
   "nbconvert_exporter": "python",
   "pygments_lexer": "ipython3",
   "version": "3.11.0"
  }
 },
 "nbformat": 4,
 "nbformat_minor": 5
}
