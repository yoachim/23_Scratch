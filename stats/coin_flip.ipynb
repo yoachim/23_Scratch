{
 "cells": [
  {
   "cell_type": "code",
   "execution_count": 1,
   "id": "4340f309",
   "metadata": {},
   "outputs": [],
   "source": [
    "import numpy as np"
   ]
  },
  {
   "cell_type": "code",
   "execution_count": null,
   "id": "8482212d",
   "metadata": {},
   "outputs": [],
   "source": [
    "# Say a coin has a 52% prob of landing heads. How often will a 50/50 heads tail caller beat a all-heads caller\n",
    "# given 100 flips"
   ]
  },
  {
   "cell_type": "code",
   "execution_count": 2,
   "id": "1629cbce",
   "metadata": {},
   "outputs": [],
   "source": [
    "rand = np.random.uniform(size=(500,10000))"
   ]
  },
  {
   "cell_type": "code",
   "execution_count": 3,
   "id": "c644eea9",
   "metadata": {},
   "outputs": [],
   "source": [
    "heads = rand*0\n",
    "tails = rand*0\n",
    "\n",
    "heads[np.where(rand < 0.52)] = 1\n",
    "tails[np.where(heads == 0)] = 1"
   ]
  },
  {
   "cell_type": "code",
   "execution_count": 4,
   "id": "05737b4e",
   "metadata": {},
   "outputs": [],
   "source": [
    "ht = np.sum(heads, axis=0)\n",
    "tt = np.sum(tails, axis=0)"
   ]
  },
  {
   "cell_type": "code",
   "execution_count": 5,
   "id": "175a33ff",
   "metadata": {},
   "outputs": [],
   "source": [
    "diff = tt-ht\n"
   ]
  },
  {
   "cell_type": "code",
   "execution_count": 6,
   "id": "ee14a629",
   "metadata": {},
   "outputs": [
    {
     "data": {
      "text/plain": [
       "0.1758"
      ]
     },
     "execution_count": 6,
     "metadata": {},
     "output_type": "execute_result"
    }
   ],
   "source": [
    "np.size(np.where(diff > 0)[0])/10000"
   ]
  },
  {
   "cell_type": "code",
   "execution_count": null,
   "id": "28e75fda",
   "metadata": {},
   "outputs": [],
   "source": []
  },
  {
   "cell_type": "code",
   "execution_count": null,
   "id": "91fe6794",
   "metadata": {},
   "outputs": [],
   "source": []
  }
 ],
 "metadata": {
  "kernelspec": {
   "display_name": "Python 3 (ipykernel)",
   "language": "python",
   "name": "python3"
  },
  "language_info": {
   "codemirror_mode": {
    "name": "ipython",
    "version": 3
   },
   "file_extension": ".py",
   "mimetype": "text/x-python",
   "name": "python",
   "nbconvert_exporter": "python",
   "pygments_lexer": "ipython3",
   "version": "3.8.13"
  }
 },
 "nbformat": 4,
 "nbformat_minor": 5
}
