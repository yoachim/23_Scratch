{
 "cells": [
  {
   "cell_type": "code",
   "execution_count": 4,
   "id": "32e47455-98ba-46e2-9940-0d049d1cdcfd",
   "metadata": {},
   "outputs": [],
   "source": [
    "import numpy as np\n",
    "from rubin_scheduler.utils import calc_lmst, Site"
   ]
  },
  {
   "cell_type": "code",
   "execution_count": 11,
   "id": "efcbba8e-2739-48fc-92dd-6b8bc9aefc62",
   "metadata": {},
   "outputs": [],
   "source": [
    "def fast_lmst(mjd, longitude):\n",
    "    \"\"\"Calculate the LMST for a location\n",
    "\n",
    "    based on:  https://github.com/jhaupt/Sidereal-Time-Calculator/blob/master/SiderealTimeCalculator.py\n",
    "    \"\"\"\n",
    "    GMST = 18.697374558 + 24.06570982441908*(mjd - 51544.5)\n",
    "    GMST = GMST % 24 # to hours\n",
    "    longitude = longitude/15.      # Convert longitude to hours\n",
    "    LST = GMST + longitude     # Fraction LST. If negative we want to add 24...\n",
    "    if LST < 0:\n",
    "        LST += 24\n",
    "    return LST"
   ]
  },
  {
   "cell_type": "code",
   "execution_count": 5,
   "id": "d4500645-ebc5-4484-bb30-2e00ee0f3f01",
   "metadata": {},
   "outputs": [],
   "source": [
    "site = Site(\"LSST\")"
   ]
  },
  {
   "cell_type": "code",
   "execution_count": 6,
   "id": "4b5e26f8-564c-4064-b867-7b77bd77c77e",
   "metadata": {},
   "outputs": [],
   "source": [
    "mjd = 60796.0"
   ]
  },
  {
   "cell_type": "code",
   "execution_count": 7,
   "id": "bd97b182-69f4-4a64-8ed7-8c5d7f709897",
   "metadata": {},
   "outputs": [
    {
     "name": "stderr",
     "output_type": "stream",
     "text": [
      "WARNING: Tried to get polar motions for times after IERS data is valid. Defaulting to polar motion from the 50-yr mean for those. This may affect precision at the arcsec level. Please check your astropy.utils.iers.conf.iers_auto_url and point it to a newer version if necessary. [astropy.coordinates.builtin_frames.utils]\n"
     ]
    },
    {
     "data": {
      "text/plain": [
       "9.895200421219004"
      ]
     },
     "execution_count": 7,
     "metadata": {},
     "output_type": "execute_result"
    }
   ],
   "source": [
    "calc_lmst(mjd, site.longitude_rad)"
   ]
  },
  {
   "cell_type": "code",
   "execution_count": 12,
   "id": "7f35a005-b477-4451-bae3-8ea7b16f0f5a",
   "metadata": {},
   "outputs": [
    {
     "data": {
      "text/plain": [
       "9.895188504445873"
      ]
     },
     "execution_count": 12,
     "metadata": {},
     "output_type": "execute_result"
    }
   ],
   "source": [
    "fast_lmst(mjd, site.longitude)"
   ]
  },
  {
   "cell_type": "code",
   "execution_count": 15,
   "id": "2cffc4cd-a734-4a8b-9074-710dc078592b",
   "metadata": {},
   "outputs": [
    {
     "name": "stderr",
     "output_type": "stream",
     "text": [
      "WARNING: Tried to get polar motions for times after IERS data is valid. Defaulting to polar motion from the 50-yr mean for those. This may affect precision at the arcsec level. Please check your astropy.utils.iers.conf.iers_auto_url and point it to a newer version if necessary. [astropy.coordinates.builtin_frames.utils]\n"
     ]
    }
   ],
   "source": [
    "diff = calc_lmst(mjd, site.longitude_rad) - fast_lmst(mjd, site.longitude)\n"
   ]
  },
  {
   "cell_type": "code",
   "execution_count": 19,
   "id": "cbc5710b-e7c9-4d28-b6d2-9e8b2e7dcd06",
   "metadata": {},
   "outputs": [
    {
     "data": {
      "text/plain": [
       "1.029609198513981"
      ]
     },
     "execution_count": 19,
     "metadata": {},
     "output_type": "execute_result"
    }
   ],
   "source": [
    "diff*24*3600"
   ]
  },
  {
   "cell_type": "code",
   "execution_count": 20,
   "id": "6a27c65a-0f17-4e0b-9886-b26912adac2f",
   "metadata": {},
   "outputs": [
    {
     "data": {
      "text/plain": [
       "-1.234809973810476"
      ]
     },
     "execution_count": 20,
     "metadata": {},
     "output_type": "execute_result"
    }
   ],
   "source": [
    "site.longitude_rad"
   ]
  },
  {
   "cell_type": "code",
   "execution_count": null,
   "id": "d564a126-7f93-463d-bb40-d1a310feddf5",
   "metadata": {},
   "outputs": [],
   "source": []
  }
 ],
 "metadata": {
  "kernelspec": {
   "display_name": "Python 3 (ipykernel)",
   "language": "python",
   "name": "python3"
  },
  "language_info": {
   "codemirror_mode": {
    "name": "ipython",
    "version": 3
   },
   "file_extension": ".py",
   "mimetype": "text/x-python",
   "name": "python",
   "nbconvert_exporter": "python",
   "pygments_lexer": "ipython3",
   "version": "3.12.0"
  }
 },
 "nbformat": 4,
 "nbformat_minor": 5
}
