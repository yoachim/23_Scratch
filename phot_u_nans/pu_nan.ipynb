{
 "cells": [
  {
   "cell_type": "code",
   "execution_count": 1,
   "id": "39592520",
   "metadata": {},
   "outputs": [],
   "source": [
    "import os\n",
    "import glob\n",
    "import numpy as np\n",
    "import matplotlib.pyplot as plt\n",
    "import matplotlib.cm as cm\n",
    "import colorcet\n",
    "import cycler\n",
    "import pandas as pd\n",
    "from scipy import signal\n",
    "from scipy.interpolate import interp1d\n",
    "import rubin_sim.phot_utils as phot_utils\n",
    "from rubin_sim.data import get_data_dir\n",
    "\n",
    "from scipy.interpolate import UnivariateSpline\n",
    "from scipy.optimize import curve_fit\n"
   ]
  },
  {
   "cell_type": "code",
   "execution_count": 2,
   "id": "4c848a9d",
   "metadata": {},
   "outputs": [],
   "source": [
    "# set up lsst filters for resampling\n",
    "lsst = {}\n",
    "lsst_filterlist = 'ugrizy'\n",
    "for f in lsst_filterlist:\n",
    "    lsst[f] = phot_utils.Bandpass()\n",
    "    lsst[f].read_throughput(os.path.join(get_data_dir(), 'throughputs', 'baseline', f'total_{f}.dat'))\n"
   ]
  },
  {
   "cell_type": "code",
   "execution_count": 3,
   "id": "cf8b8bb1",
   "metadata": {},
   "outputs": [
    {
     "name": "stderr",
     "output_type": "stream",
     "text": [
      "/Users/yoachim/git_repos/rubin_sim/rubin_sim/phot_utils/sed.py:804: UserWarning: There is an area of non-overlap between desired wavelength range  (300.00 to 1150.00)and sed FromArray (299.89 to 1100.95)\n",
      "  warnings.warn(\n"
     ]
    }
   ],
   "source": [
    "# read in solar spectrum and limit wavelength range\n",
    "sun = phot_utils.Sed()\n",
    "sun.read_sed_flambda(os.path.join(get_data_dir(), 'movingObjects', 'kurucz_sun.gz'))\n",
    "\n",
    "sun_limited = phot_utils.Sed()\n",
    "idx = np.where((sun.wavelen > 299) & (sun.wavelen < 1105))\n",
    "sun_limited.set_sed(wavelen=sun.wavelen[idx], flambda=sun.flambda[idx])\n",
    "sun_limited.resample_sed(wavelen_match=lsst['g'].wavelen)\n",
    "wavelen_step = np.unique(np.diff(lsst['g'].wavelen)).min()"
   ]
  },
  {
   "cell_type": "code",
   "execution_count": 7,
   "id": "d1852aed",
   "metadata": {},
   "outputs": [
    {
     "data": {
      "text/plain": [
       "array([0., 0., 0., ..., 0., 0., 0.])"
      ]
     },
     "execution_count": 7,
     "metadata": {},
     "output_type": "execute_result"
    }
   ],
   "source": [
    "lsst['g'].sb\n"
   ]
  },
  {
   "cell_type": "code",
   "execution_count": 8,
   "id": "302f4f64",
   "metadata": {},
   "outputs": [
    {
     "data": {
      "text/plain": [
       "[<matplotlib.lines.Line2D at 0x2a0831550>]"
      ]
     },
     "execution_count": 8,
     "metadata": {},
     "output_type": "execute_result"
    },
    {
     "data": {
      "image/png": "[encoded data removed]",
      "text/plain": [
       "<Figure size 640x480 with 1 Axes>"
      ]
     },
     "metadata": {},
     "output_type": "display_data"
    }
   ],
   "source": [
    "plt.plot(lsst['g'].wavelen, lsst['g'].sb)"
   ]
  },
  {
   "cell_type": "code",
   "execution_count": null,
   "id": "11372291",
   "metadata": {},
   "outputs": [],
   "source": []
  }
 ],
 "metadata": {
  "kernelspec": {
   "display_name": "Python 3 (ipykernel)",
   "language": "python",
   "name": "python3"
  },
  "language_info": {
   "codemirror_mode": {
    "name": "ipython",
    "version": 3
   },
   "file_extension": ".py",
   "mimetype": "text/x-python",
   "name": "python",
   "nbconvert_exporter": "python",
   "pygments_lexer": "ipython3",
   "version": "3.11.5"
  }
 },
 "nbformat": 4,
 "nbformat_minor": 5
}
