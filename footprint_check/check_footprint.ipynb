{
 "cells": [
  {
   "cell_type": "code",
   "execution_count": 1,
   "id": "b76f92df",
   "metadata": {},
   "outputs": [],
   "source": [
    "import numpy as np\n",
    "import healpy as hp\n",
    "import matplotlib.pylab as plt\n",
    "%matplotlib inline\n",
    "from rubin_sim.utils import ra_dec2_hpid\n",
    "from rubin_sim.scheduler.utils import EuclidOverlapFootprint"
   ]
  },
  {
   "cell_type": "code",
   "execution_count": 2,
   "id": "a9204691",
   "metadata": {},
   "outputs": [],
   "source": [
    "# generate the latest footprint\n",
    "nside = 64\n",
    "fpg = EuclidOverlapFootprint(nside=nside)\n",
    "maps_arr, labels = fpg.return_maps()"
   ]
  },
  {
   "cell_type": "code",
   "execution_count": 3,
   "id": "56e6fe33",
   "metadata": {},
   "outputs": [
    {
     "data": {
      "image/png": "[encoded data removed]",
      "text/plain": [
       "<Figure size 850x540 with 2 Axes>"
      ]
     },
     "metadata": {},
     "output_type": "display_data"
    }
   ],
   "source": [
    "# look at the r-band\n",
    "hp.mollview(maps_arr['r'])"
   ]
  },
  {
   "cell_type": "code",
   "execution_count": 4,
   "id": "a34993b0",
   "metadata": {},
   "outputs": [],
   "source": [
    "# See if an RA, dec is in the footprint\n",
    "ra = 90\n",
    "dec = -15\n",
    "# Find the healpixel of the ra,dec\n",
    "hpid = ra_dec2_hpid(nside,ra, dec)"
   ]
  },
  {
   "cell_type": "code",
   "execution_count": 5,
   "id": "69d84beb",
   "metadata": {},
   "outputs": [
    {
     "name": "stdout",
     "output_type": "stream",
     "text": [
      "u 0.32\n",
      "g 0.4\n",
      "r 1.0\n",
      "i 1.0\n",
      "z 0.9\n",
      "y 0.9\n"
     ]
    }
   ],
   "source": [
    "for filtername in 'ugrizy':\n",
    "    print(filtername, maps_arr[filtername][hpid])"
   ]
  },
  {
   "cell_type": "code",
   "execution_count": 6,
   "id": "7b570aab",
   "metadata": {},
   "outputs": [
    {
     "name": "stdout",
     "output_type": "stream",
     "text": [
      "u 0.0\n",
      "g 0.23\n",
      "r 0.33\n",
      "i 0.33\n",
      "z 0.23\n",
      "y 0.0\n"
     ]
    }
   ],
   "source": [
    "# Check a spot in the NES\n",
    "ra = 90\n",
    "dec = 15\n",
    "hpid = ra_dec2_hpid(nside,ra, dec)\n",
    "\n",
    "for filtername in 'ugrizy':\n",
    "    print(filtername, maps_arr[filtername][hpid])"
   ]
  },
  {
   "cell_type": "code",
   "execution_count": 7,
   "id": "cb81c911",
   "metadata": {},
   "outputs": [],
   "source": [
    "# So that spot will get observed in griz, but not in u or y."
   ]
  },
  {
   "cell_type": "code",
   "execution_count": 8,
   "id": "934e034d",
   "metadata": {},
   "outputs": [
    {
     "name": "stdout",
     "output_type": "stream",
     "text": [
      "u 0.0\n",
      "g 0.0\n",
      "r 0.0\n",
      "i 0.0\n",
      "z 0.0\n",
      "y 0.0\n"
     ]
    }
   ],
   "source": [
    "# A spot north\n",
    "ra = 90\n",
    "dec = 45\n",
    "hpid = ra_dec2_hpid(nside,ra, dec)\n",
    "\n",
    "for filtername in 'ugrizy':\n",
    "    print(filtername, maps_arr[filtername][hpid])"
   ]
  },
  {
   "cell_type": "code",
   "execution_count": 9,
   "id": "b479cda1",
   "metadata": {},
   "outputs": [
    {
     "data": {
      "text/plain": [
       "array(['', 'LMC_SMC', 'bulgy', 'dusty_plane', 'euclid_overlap', 'lowdust',\n",
       "       'nes', 'scp', 'virgo'], dtype='<U20')"
      ]
     },
     "execution_count": 9,
     "metadata": {},
     "output_type": "execute_result"
    }
   ],
   "source": [
    "# if we want to know if something is in WFD\n",
    "np.unique(labels)"
   ]
  },
  {
   "cell_type": "code",
   "execution_count": 10,
   "id": "115bb894",
   "metadata": {},
   "outputs": [],
   "source": [
    "# Parts of the sky one could call WFD\n",
    "wfd_pix = np.where((labels == 'lowdust') | (labels == \"virgo\") | (labels == \"LMC_SMC\"))[0]"
   ]
  },
  {
   "cell_type": "code",
   "execution_count": 11,
   "id": "ab13954c",
   "metadata": {},
   "outputs": [
    {
     "data": {
      "text/plain": [
       "False"
      ]
     },
     "execution_count": 11,
     "metadata": {},
     "output_type": "execute_result"
    }
   ],
   "source": [
    "hpid = ra_dec2_hpid(nside,90, 45)\n",
    "\n",
    "hpid in wfd_pix"
   ]
  },
  {
   "cell_type": "code",
   "execution_count": 12,
   "id": "66f3bd42",
   "metadata": {},
   "outputs": [
    {
     "data": {
      "text/plain": [
       "True"
      ]
     },
     "execution_count": 12,
     "metadata": {},
     "output_type": "execute_result"
    }
   ],
   "source": [
    "hpid = ra_dec2_hpid(nside,0, -15)\n",
    "hpid in wfd_pix"
   ]
  },
  {
   "cell_type": "code",
   "execution_count": null,
   "id": "73bb4bbf",
   "metadata": {},
   "outputs": [],
   "source": []
  }
 ],
 "metadata": {
  "kernelspec": {
   "display_name": "Python 3 (ipykernel)",
   "language": "python",
   "name": "python3"
  },
  "language_info": {
   "codemirror_mode": {
    "name": "ipython",
    "version": 3
   },
   "file_extension": ".py",
   "mimetype": "text/x-python",
   "name": "python",
   "nbconvert_exporter": "python",
   "pygments_lexer": "ipython3",
   "version": "3.11.3"
  }
 },
 "nbformat": 4,
 "nbformat_minor": 5
}
