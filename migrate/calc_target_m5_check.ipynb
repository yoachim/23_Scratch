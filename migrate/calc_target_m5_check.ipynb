{
 "cells": [
  {
   "cell_type": "code",
   "execution_count": 1,
   "id": "00b42de6-a687-445e-8573-86065f2d93b6",
   "metadata": {},
   "outputs": [],
   "source": [
    "from rubin_scheduler.scheduler.detailers import calc_target_m5s"
   ]
  },
  {
   "cell_type": "code",
   "execution_count": 2,
   "id": "4208b88b-56d2-4058-9951-5effa9c35413",
   "metadata": {},
   "outputs": [
    {
     "data": {
      "text/plain": [
       "{'u': 23.242532602097338,\n",
       " 'g': 24.587627730719678,\n",
       " 'r': 24.158587501165897,\n",
       " 'i': 23.688177139300837,\n",
       " 'z': 23.06780420110952,\n",
       " 'y': 22.08355969168526}"
      ]
     },
     "execution_count": 2,
     "metadata": {},
     "output_type": "execute_result"
    }
   ],
   "source": [
    "calc_target_m5s()"
   ]
  },
  {
   "cell_type": "code",
   "execution_count": null,
   "id": "96d4c1ea-26d8-4619-81d3-dcfab134171e",
   "metadata": {},
   "outputs": [],
   "source": []
  },
  {
   "cell_type": "code",
   "execution_count": null,
   "id": "c59825ed-9dc7-47af-a996-dfc5d422d3cf",
   "metadata": {},
   "outputs": [],
   "source": []
  },
  {
   "cell_type": "code",
   "execution_count": null,
   "id": "be07a5cb-c472-4c34-99f7-72aa25ffb81b",
   "metadata": {},
   "outputs": [],
   "source": []
  },
  {
   "cell_type": "code",
   "execution_count": 3,
   "id": "f398b42e-ad04-4c33-82a6-af50d63de939",
   "metadata": {},
   "outputs": [
    {
     "data": {
      "text/plain": [
       "{'u': 23.242532602097338,\n",
       " 'g': 24.587627730719678,\n",
       " 'r': 24.158587501165897,\n",
       " 'i': 23.688177139300837,\n",
       " 'z': 23.06780420110952,\n",
       " 'y': 22.08355969168526}"
      ]
     },
     "execution_count": 3,
     "metadata": {},
     "output_type": "execute_result"
    }
   ],
   "source": [
    "calc_target_m5s()"
   ]
  },
  {
   "cell_type": "code",
   "execution_count": null,
   "id": "afef938f-c251-42f4-8c17-83528a82f25a",
   "metadata": {},
   "outputs": [],
   "source": []
  }
 ],
 "metadata": {
  "kernelspec": {
   "display_name": "Python 3 (ipykernel)",
   "language": "python",
   "name": "python3"
  },
  "language_info": {
   "codemirror_mode": {
    "name": "ipython",
    "version": 3
   },
   "file_extension": ".py",
   "mimetype": "text/x-python",
   "name": "python",
   "nbconvert_exporter": "python",
   "pygments_lexer": "ipython3",
   "version": "3.11.6"
  }
 },
 "nbformat": 4,
 "nbformat_minor": 5
}
