{
 "cells": [
  {
   "cell_type": "code",
   "execution_count": 1,
   "id": "ffcc5d81-7568-4919-b0ac-d18606328202",
   "metadata": {},
   "outputs": [],
   "source": [
    "import numpy as np\n",
    "from rubin_sim.phot_utils import Sed"
   ]
  },
  {
   "cell_type": "code",
   "execution_count": 21,
   "id": "c012c032-bfea-42d5-b969-9e5de502d66d",
   "metadata": {},
   "outputs": [],
   "source": [
    "m = 19\n",
    "m5 = 22"
   ]
  },
  {
   "cell_type": "code",
   "execution_count": 28,
   "id": "745c0af7-d420-49c3-9d60-30681cd43bc5",
   "metadata": {},
   "outputs": [
    {
     "data": {
      "text/plain": [
       "0.0630957344480193"
      ]
     },
     "execution_count": 28,
     "metadata": {},
     "output_type": "execute_result"
    }
   ],
   "source": [
    "#%%timeit -r 4 -n 10000\n",
    "dummy_sed = Sed()\n",
    "m5_flux = dummy_sed.flux_from_mag(m5)\n",
    "source_flux = dummy_sed.flux_from_mag(m)\n",
    "\n",
    "flux_ratio = m5_flux / source_flux\n",
    "flux_ratio"
   ]
  },
  {
   "cell_type": "code",
   "execution_count": 29,
   "id": "389d3349-8806-4724-8a1d-d1a1e0876d03",
   "metadata": {},
   "outputs": [
    {
     "data": {
      "text/plain": [
       "0.06309573444801933"
      ]
     },
     "execution_count": 29,
     "metadata": {},
     "output_type": "execute_result"
    }
   ],
   "source": [
    "#%%timeit -r 4 -n 10000\n",
    "10.**((m5-m)/(-2.5))"
   ]
  },
  {
   "cell_type": "code",
   "execution_count": null,
   "id": "b94fa132-e7dd-4cc1-9e42-fabb5a81b7b2",
   "metadata": {},
   "outputs": [],
   "source": []
  },
  {
   "cell_type": "code",
   "execution_count": null,
   "id": "f5c8ea6c-eaaa-421f-9906-65f6c61b4ea7",
   "metadata": {},
   "outputs": [],
   "source": []
  },
  {
   "cell_type": "code",
   "execution_count": null,
   "id": "5838b09e-cc84-4861-b7f9-926061e6428b",
   "metadata": {},
   "outputs": [],
   "source": []
  },
  {
   "cell_type": "code",
   "execution_count": 10,
   "id": "55b120a4-571a-4b65-b8a8-9174f4db8709",
   "metadata": {},
   "outputs": [
    {
     "data": {
      "text/plain": [
       "21"
      ]
     },
     "execution_count": 10,
     "metadata": {},
     "output_type": "execute_result"
    }
   ],
   "source": []
  },
  {
   "cell_type": "code",
   "execution_count": 11,
   "id": "cdfb9aa2-d112-4745-b1dd-209507ddb883",
   "metadata": {},
   "outputs": [
    {
     "data": {
      "text/plain": [
       "22"
      ]
     },
     "execution_count": 11,
     "metadata": {},
     "output_type": "execute_result"
    }
   ],
   "source": []
  },
  {
   "cell_type": "code",
   "execution_count": null,
   "id": "544f0acb-7fbd-4245-bff9-3d55c9b62e5e",
   "metadata": {},
   "outputs": [],
   "source": []
  }
 ],
 "metadata": {
  "kernelspec": {
   "display_name": "Python 3 (ipykernel)",
   "language": "python",
   "name": "python3"
  },
  "language_info": {
   "codemirror_mode": {
    "name": "ipython",
    "version": 3
   },
   "file_extension": ".py",
   "mimetype": "text/x-python",
   "name": "python",
   "nbconvert_exporter": "python",
   "pygments_lexer": "ipython3",
   "version": "3.11.4"
  }
 },
 "nbformat": 4,
 "nbformat_minor": 5
}
